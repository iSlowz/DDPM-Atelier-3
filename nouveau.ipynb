{
 "cells": [
  {
   "cell_type": "code",
   "execution_count": 1,
   "metadata": {},
   "outputs": [],
   "source": [
    "import torch\n",
    "import torch.nn.functional as F\n",
    "from torchvision.utils import save_image\n",
    "from torch import nn\n",
    "\n",
    "class GaussianDiffusion:\n",
    "    def __init__(self, model, timesteps=1000, beta_start=1e-4, beta_end=0.02, device='cuda'):\n",
    "        self.model = model\n",
    "        self.device = device\n",
    "        self.beta_start = beta_start\n",
    "        self.beta_end = beta_end\n",
    "        self.set_timesteps(timesteps)\n",
    "\n",
    "    def set_timesteps(self, timesteps):\n",
    "        self.timesteps = timesteps\n",
    "        self.beta = torch.linspace(self.beta_start, self.beta_end, timesteps).to(self.device)\n",
    "        self.alpha = 1. - self.beta\n",
    "        self.alpha_hat = torch.cumprod(self.alpha, dim=0)\n",
    "        print(f\"🔧 Diffusion mise à jour : {timesteps} étapes\")\n",
    "\n",
    "    def q_sample(self, x_start, t, noise=None):\n",
    "        if noise is None:\n",
    "            noise = torch.randn_like(x_start)\n",
    "        sqrt_alpha_hat = self.alpha_hat[t].sqrt().unsqueeze(-1).unsqueeze(-1).unsqueeze(-1)\n",
    "        sqrt_one_minus_alpha_hat = (1 - self.alpha_hat[t]).sqrt().unsqueeze(-1).unsqueeze(-1).unsqueeze(-1)\n",
    "        return sqrt_alpha_hat * x_start + sqrt_one_minus_alpha_hat * noise\n",
    "\n",
    "    def p_sample(self, x, t, y):\n",
    "        noise_pred = self.model(x, t, y)\n",
    "        beta_t = self.beta[t].unsqueeze(-1).unsqueeze(-1).unsqueeze(-1)\n",
    "        alpha_t = self.alpha[t].unsqueeze(-1).unsqueeze(-1).unsqueeze(-1)\n",
    "        alpha_hat_t = self.alpha_hat[t].unsqueeze(-1).unsqueeze(-1).unsqueeze(-1)\n",
    "\n",
    "        mean = (1 / alpha_t.sqrt()) * (x - beta_t / (1 - alpha_hat_t).sqrt() * noise_pred)\n",
    "\n",
    "        if t[0] == 0:\n",
    "            return mean\n",
    "\n",
    "        noise = torch.randn_like(x)\n",
    "        sigma = beta_t.sqrt()\n",
    "        return mean + sigma * noise\n",
    "\n",
    "    def p_sample_loop(self, shape, y):\n",
    "        x = torch.randn(shape).to(self.device)\n",
    "        for t in reversed(range(self.timesteps)):\n",
    "            t_tensor = torch.full((shape[0],), t, device=self.device, dtype=torch.long)\n",
    "            x = self.p_sample(x, t_tensor, y)\n",
    "        return x\n",
    "\n",
    "    def sample(self, batch_size, image_size, y):\n",
    "        return self.p_sample_loop((batch_size, 3, image_size, image_size), y)\n",
    "\n",
    "\n",
    "\n",
    "\n",
    "\n",
    "def save_sample_grid(samples, filename, nrow=4):\n",
    "    samples = (samples.clamp(-1, 1) + 1) / 2  # [-1,1] -> [0,1]\n",
    "    save_image(samples, filename, nrow=nrow)"
   ]
  },
  {
   "cell_type": "code",
   "execution_count": 2,
   "metadata": {},
   "outputs": [],
   "source": [
    "import torch\n",
    "import torch.nn as nn\n",
    "import torch.nn.functional as F\n",
    "\n",
    "class ResidualBlock(nn.Module):\n",
    "    def __init__(self, in_channels, out_channels, time_emb_dim, class_emb_dim):\n",
    "        super().__init__()\n",
    "        self.conv1 = nn.Conv2d(in_channels, out_channels, 3, padding=1 , padding_mode='reflect')\n",
    "        self.conv2 = nn.Conv2d(out_channels, out_channels, 3, padding=1, padding_mode='reflect')\n",
    "        self.time_mlp = nn.Linear(time_emb_dim, out_channels)\n",
    "        self.class_mlp = nn.Linear(class_emb_dim, out_channels)\n",
    "        self.activation = nn.SiLU()\n",
    "        self.residual_conv = nn.Conv2d(in_channels, out_channels, 1) if in_channels != out_channels else nn.Identity()\n",
    "\n",
    "    def forward(self, x, t, y):\n",
    "        h = self.activation(self.conv1(x))\n",
    "        time_emb = self.time_mlp(t).unsqueeze(-1).unsqueeze(-1)\n",
    "        class_emb = self.class_mlp(y).unsqueeze(-1).unsqueeze(-1)\n",
    "        h = h + time_emb + class_emb\n",
    "        h = self.conv2(self.activation(h))\n",
    "        return h + self.residual_conv(x)\n",
    "\n",
    "class DownBlock(nn.Module):\n",
    "    def __init__(self, in_channels, out_channels, time_emb_dim, class_emb_dim):\n",
    "        super().__init__()\n",
    "        self.resblock1 = ResidualBlock(in_channels, out_channels, time_emb_dim, class_emb_dim)\n",
    "        self.resblock2 = ResidualBlock(out_channels, out_channels, time_emb_dim, class_emb_dim)\n",
    "        self.down = nn.Conv2d(out_channels, out_channels, 4, 2, 1)  # Downsample\n",
    "\n",
    "    def forward(self, x, t, y):\n",
    "        x = self.resblock1(x, t, y)\n",
    "        x = self.resblock2(x, t, y)\n",
    "        return self.down(x), x\n",
    "\n",
    "class UpBlock(nn.Module):\n",
    "    def __init__(self, up_in_channels, skip_channels, out_channels, time_emb_dim, class_emb_dim):\n",
    "        super().__init__()\n",
    "        self.up = nn.ConvTranspose2d(up_in_channels, out_channels, 4, 2, 1)\n",
    "        self.resblock1 = ResidualBlock(out_channels + skip_channels, out_channels, time_emb_dim, class_emb_dim)\n",
    "        self.resblock2 = ResidualBlock(out_channels, out_channels, time_emb_dim, class_emb_dim)\n",
    "\n",
    "    def forward(self, x, skip, t, y):\n",
    "        x = self.up(x)\n",
    "        x = torch.cat([x, skip], dim=1)\n",
    "        x = self.resblock1(x, t, y)\n",
    "        x = self.resblock2(x, t, y)\n",
    "        return x\n",
    "\n",
    "\n",
    "class UNetConditional(nn.Module):\n",
    "    def __init__(self, in_channels, base_channels, time_emb_dim, class_emb_dim, num_classes):\n",
    "        super().__init__()\n",
    "        self.time_embed = nn.Sequential(\n",
    "            nn.Linear(1, time_emb_dim),\n",
    "            nn.SiLU(),\n",
    "            nn.Linear(time_emb_dim, time_emb_dim)\n",
    "        )\n",
    "        self.class_embed = nn.Embedding(num_classes, class_emb_dim)\n",
    "\n",
    "        self.init_conv = nn.Conv2d(in_channels, base_channels, 3, padding=1, padding_mode='reflect')\n",
    "\n",
    "        self.down1 = DownBlock(base_channels, base_channels * 2, time_emb_dim, class_emb_dim)\n",
    "        self.down2 = DownBlock(base_channels * 2, base_channels * 4, time_emb_dim, class_emb_dim)\n",
    "        self.down3 = DownBlock(base_channels * 4, base_channels * 8, time_emb_dim, class_emb_dim)\n",
    "\n",
    "        self.middle = ResidualBlock(base_channels * 8, base_channels * 8, time_emb_dim, class_emb_dim)\n",
    "\n",
    "        \n",
    "        self.up3 = UpBlock(base_channels * 8, base_channels * 8, base_channels * 4, time_emb_dim, class_emb_dim)\n",
    "        self.up2 = UpBlock(base_channels * 4, base_channels * 4, base_channels * 2, time_emb_dim, class_emb_dim)\n",
    "        self.up1 = UpBlock(base_channels * 2, base_channels * 2, base_channels, time_emb_dim, class_emb_dim)\n",
    "\n",
    "        self.final_conv = nn.Conv2d(base_channels, in_channels, 1)  # pas de pooling ni réduction\n",
    "\n",
    "    def forward(self, x, t, y):\n",
    "        # print(f\"[Input] x: {x.shape}\")\n",
    "        \n",
    "        t = self.time_embed(t.unsqueeze(-1).float())\n",
    "        y = self.class_embed(y)\n",
    "\n",
    "        x = self.init_conv(x)\n",
    "        # print(f\"After init_conv: {x.shape}\")\n",
    "        \n",
    "        x1, skip1 = self.down1(x, t, y)\n",
    "        # print(f\"After down1: {x1.shape}, skip1: {skip1.shape}\")\n",
    "        \n",
    "        x2, skip2 = self.down2(x1, t, y)\n",
    "        # print(f\"After down2: {x2.shape}, skip2: {skip2.shape}\")\n",
    "        \n",
    "        x3, skip3 = self.down3(x2, t, y)\n",
    "        # print(f\"After down3: {x3.shape}, skip3: {skip3.shape}\")\n",
    "        \n",
    "        x = self.middle(x3, t, y)\n",
    "        # print(f\"After middle: {x.shape}\")\n",
    "        \n",
    "        x = self.up3(x, skip3, t, y)\n",
    "        # print(f\"After up3: {x.shape}\")\n",
    "        \n",
    "        x = self.up2(x, skip2, t, y)\n",
    "        # print(f\"After up2: {x.shape}\")\n",
    "        \n",
    "        x = self.up1(x, skip1, t, y)\n",
    "        # print(f\"After up1: {x.shape}\")\n",
    "\n",
    "        out = self.final_conv(x)\n",
    "        # print(f\"[Output] out: {out.shape}\")\n",
    "        return out\n"
   ]
  },
  {
   "cell_type": "code",
   "execution_count": 3,
   "metadata": {},
   "outputs": [
    {
     "name": "stdout",
     "output_type": "stream",
     "text": [
      "🖥️ Device utilisé : cuda\n",
      "🟢 GPU détecté : NVIDIA GeForce RTX 4070 Laptop GPU\n",
      "🔢 Nombre de classes : 1\n"
     ]
    }
   ],
   "source": [
    "import torch\n",
    "import torch.nn as nn\n",
    "import torch.optim as optim\n",
    "from torchvision import datasets, transforms\n",
    "from torch.utils.data import DataLoader\n",
    "import os\n",
    "\n",
    "# Hyperparamètres\n",
    "device = torch.device(\"cuda\" if torch.cuda.is_available() else \"cpu\")\n",
    "print(f\"🖥️ Device utilisé : {device}\")\n",
    "if device.type == \"cuda\":\n",
    "    print(f\"🟢 GPU détecté : {torch.cuda.get_device_name(0)}\")\n",
    "else:\n",
    "    print(\"🔴 Pas de GPU utilisé, on est sur CPU\")\n",
    "\n",
    "epochs = 100\n",
    "batch_size = 64\n",
    "lr = 2e-4\n",
    "image_size = 32\n",
    "save_dir = \"results\"\n",
    "os.makedirs(save_dir, exist_ok=True)\n",
    "\n",
    "# Dataset\n",
    "transform = transforms.Compose([\n",
    "    transforms.Resize(image_size),\n",
    "    transforms.ToTensor(),\n",
    "    transforms.Normalize((0.5,), (0.5,))\n",
    "])\n",
    "\n",
    "# Charger CIFAR-10 complet\n",
    "full_dataset = datasets.CIFAR10(root=\"data\", train=True, download=True, transform=transform)\n",
    "\n",
    "# Filtrer les classes : cerf(4), grenouille(6), cheval(7)\n",
    "# target_classes = [4, 6, 7]\n",
    "target_classes = [4]\n",
    "\n",
    "class_map = {cls: i for i, cls in enumerate(target_classes)}  # map CIFAR label -> local label (0 à 3)\n",
    "\n",
    "# Créer un dataset filtré et remappé\n",
    "filtered_dataset = [(img, class_map[label]) for img, label in full_dataset if label in target_classes]\n",
    "\n",
    "# Créer le DataLoader\n",
    "dataloader = DataLoader(filtered_dataset, batch_size=batch_size, shuffle=True, num_workers=4)\n",
    "\n",
    "# Mettre à jour le nombre de classes\n",
    "num_classes = len(target_classes)\n",
    "print(f\"🔢 Nombre de classes : {num_classes}\")\n"
   ]
  },
  {
   "cell_type": "code",
   "execution_count": 10,
   "metadata": {},
   "outputs": [
    {
     "name": "stdout",
     "output_type": "stream",
     "text": [
      "🔧 Diffusion mise à jour : 100 étapes\n"
     ]
    },
    {
     "data": {
      "application/vnd.jupyter.widget-view+json": {
       "model_id": "e5e6b4bcb46f48638ede0eec7a020191",
       "version_major": 2,
       "version_minor": 0
      },
      "text/plain": [
       "Epoch 1/100 | Timesteps: 100 | Sample t ∈ [0,100):   0%|          | 0/79 [00:00<?, ?it/s]"
      ]
     },
     "metadata": {},
     "output_type": "display_data"
    },
    {
     "name": "stdout",
     "output_type": "stream",
     "text": [
      "🔁 Epoch 1 terminé — Moyenne loss : 1.8782\n"
     ]
    },
    {
     "data": {
      "application/vnd.jupyter.widget-view+json": {
       "model_id": "a32aaba4fa1e4e2693cc9ac669ce8ea1",
       "version_major": 2,
       "version_minor": 0
      },
      "text/plain": [
       "Epoch 2/100 | Timesteps: 100 | Sample t ∈ [0,100):   0%|          | 0/79 [00:00<?, ?it/s]"
      ]
     },
     "metadata": {},
     "output_type": "display_data"
    },
    {
     "name": "stdout",
     "output_type": "stream",
     "text": [
      "🔁 Epoch 2 terminé — Moyenne loss : 0.3975\n"
     ]
    },
    {
     "data": {
      "application/vnd.jupyter.widget-view+json": {
       "model_id": "6038d93b421045688ab504c70ce443fc",
       "version_major": 2,
       "version_minor": 0
      },
      "text/plain": [
       "Epoch 3/100 | Timesteps: 100 | Sample t ∈ [0,100):   0%|          | 0/79 [00:00<?, ?it/s]"
      ]
     },
     "metadata": {},
     "output_type": "display_data"
    },
    {
     "name": "stdout",
     "output_type": "stream",
     "text": [
      "🔁 Epoch 3 terminé — Moyenne loss : 0.2011\n"
     ]
    },
    {
     "data": {
      "application/vnd.jupyter.widget-view+json": {
       "model_id": "c06b4a7ea6c64428880e1b176a6b578b",
       "version_major": 2,
       "version_minor": 0
      },
      "text/plain": [
       "Epoch 4/100 | Timesteps: 100 | Sample t ∈ [0,100):   0%|          | 0/79 [00:00<?, ?it/s]"
      ]
     },
     "metadata": {},
     "output_type": "display_data"
    },
    {
     "name": "stdout",
     "output_type": "stream",
     "text": [
      "🔁 Epoch 4 terminé — Moyenne loss : 0.1481\n"
     ]
    },
    {
     "data": {
      "application/vnd.jupyter.widget-view+json": {
       "model_id": "2eb86dbedb124d5a957aa4d7c92a6f1c",
       "version_major": 2,
       "version_minor": 0
      },
      "text/plain": [
       "Epoch 5/100 | Timesteps: 100 | Sample t ∈ [0,100):   0%|          | 0/79 [00:00<?, ?it/s]"
      ]
     },
     "metadata": {},
     "output_type": "display_data"
    },
    {
     "name": "stdout",
     "output_type": "stream",
     "text": [
      "🔁 Epoch 5 terminé — Moyenne loss : 0.1327\n",
      "📸 Échantillons + modèle sauvegardés (epoch 5) dans results\n"
     ]
    },
    {
     "data": {
      "application/vnd.jupyter.widget-view+json": {
       "model_id": "d07282ef04d4442e82bbc09528939c82",
       "version_major": 2,
       "version_minor": 0
      },
      "text/plain": [
       "Epoch 6/100 | Timesteps: 100 | Sample t ∈ [0,100):   0%|          | 0/79 [00:00<?, ?it/s]"
      ]
     },
     "metadata": {},
     "output_type": "display_data"
    },
    {
     "name": "stdout",
     "output_type": "stream",
     "text": [
      "🔁 Epoch 6 terminé — Moyenne loss : 0.1254\n"
     ]
    },
    {
     "data": {
      "application/vnd.jupyter.widget-view+json": {
       "model_id": "34331a3fff2a432b9b50407f65de434f",
       "version_major": 2,
       "version_minor": 0
      },
      "text/plain": [
       "Epoch 7/100 | Timesteps: 100 | Sample t ∈ [0,100):   0%|          | 0/79 [00:00<?, ?it/s]"
      ]
     },
     "metadata": {},
     "output_type": "display_data"
    },
    {
     "name": "stdout",
     "output_type": "stream",
     "text": [
      "🔁 Epoch 7 terminé — Moyenne loss : 0.1182\n"
     ]
    },
    {
     "data": {
      "application/vnd.jupyter.widget-view+json": {
       "model_id": "7b34b4cbfbbb4832bae2a0a41844e0ba",
       "version_major": 2,
       "version_minor": 0
      },
      "text/plain": [
       "Epoch 8/100 | Timesteps: 100 | Sample t ∈ [0,100):   0%|          | 0/79 [00:00<?, ?it/s]"
      ]
     },
     "metadata": {},
     "output_type": "display_data"
    },
    {
     "name": "stdout",
     "output_type": "stream",
     "text": [
      "🔁 Epoch 8 terminé — Moyenne loss : 0.1205\n"
     ]
    },
    {
     "data": {
      "application/vnd.jupyter.widget-view+json": {
       "model_id": "58e853ae59f546209affe170dfec3894",
       "version_major": 2,
       "version_minor": 0
      },
      "text/plain": [
       "Epoch 9/100 | Timesteps: 100 | Sample t ∈ [0,100):   0%|          | 0/79 [00:00<?, ?it/s]"
      ]
     },
     "metadata": {},
     "output_type": "display_data"
    },
    {
     "name": "stdout",
     "output_type": "stream",
     "text": [
      "🔁 Epoch 9 terminé — Moyenne loss : 0.1166\n"
     ]
    },
    {
     "data": {
      "application/vnd.jupyter.widget-view+json": {
       "model_id": "a26476a902074635bc57e187193ee67a",
       "version_major": 2,
       "version_minor": 0
      },
      "text/plain": [
       "Epoch 10/100 | Timesteps: 100 | Sample t ∈ [0,100):   0%|          | 0/79 [00:00<?, ?it/s]"
      ]
     },
     "metadata": {},
     "output_type": "display_data"
    },
    {
     "name": "stdout",
     "output_type": "stream",
     "text": [
      "🔁 Epoch 10 terminé — Moyenne loss : 73.2748\n",
      "🔧 Diffusion mise à jour : 200 étapes\n",
      "🧼 Optimiseur réinitialisé après update des timesteps à 200\n",
      "📸 Échantillons + modèle sauvegardés (epoch 10) dans results\n"
     ]
    },
    {
     "data": {
      "application/vnd.jupyter.widget-view+json": {
       "model_id": "0e6309338f0b4db49b28d11721c6ddc7",
       "version_major": 2,
       "version_minor": 0
      },
      "text/plain": [
       "Epoch 11/100 | Timesteps: 200 | Sample t ∈ [0,100):   0%|          | 0/79 [00:00<?, ?it/s]"
      ]
     },
     "metadata": {},
     "output_type": "display_data"
    },
    {
     "name": "stdout",
     "output_type": "stream",
     "text": [
      "🔁 Epoch 11 terminé — Moyenne loss : 1.5199\n"
     ]
    },
    {
     "data": {
      "application/vnd.jupyter.widget-view+json": {
       "model_id": "53d8d7145b0a4f19be57dddd732920ce",
       "version_major": 2,
       "version_minor": 0
      },
      "text/plain": [
       "Epoch 12/100 | Timesteps: 200 | Sample t ∈ [0,125):   0%|          | 0/79 [00:00<?, ?it/s]"
      ]
     },
     "metadata": {},
     "output_type": "display_data"
    },
    {
     "name": "stdout",
     "output_type": "stream",
     "text": [
      "🔁 Epoch 12 terminé — Moyenne loss : 0.1259\n"
     ]
    },
    {
     "data": {
      "application/vnd.jupyter.widget-view+json": {
       "model_id": "be63cb1398f441639aa1343ce818cc29",
       "version_major": 2,
       "version_minor": 0
      },
      "text/plain": [
       "Epoch 13/100 | Timesteps: 200 | Sample t ∈ [0,150):   0%|          | 0/79 [00:00<?, ?it/s]"
      ]
     },
     "metadata": {},
     "output_type": "display_data"
    },
    {
     "name": "stdout",
     "output_type": "stream",
     "text": [
      "🔁 Epoch 13 terminé — Moyenne loss : 0.1338\n"
     ]
    },
    {
     "data": {
      "application/vnd.jupyter.widget-view+json": {
       "model_id": "1ec9ca3a7e7149d39e0c575c06af881c",
       "version_major": 2,
       "version_minor": 0
      },
      "text/plain": [
       "Epoch 14/100 | Timesteps: 200 | Sample t ∈ [0,175):   0%|          | 0/79 [00:00<?, ?it/s]"
      ]
     },
     "metadata": {},
     "output_type": "display_data"
    },
    {
     "name": "stdout",
     "output_type": "stream",
     "text": [
      "🔁 Epoch 14 terminé — Moyenne loss : 0.0937\n"
     ]
    },
    {
     "data": {
      "application/vnd.jupyter.widget-view+json": {
       "model_id": "40aab285b4b248d68b69f4f90e957db8",
       "version_major": 2,
       "version_minor": 0
      },
      "text/plain": [
       "Epoch 15/100 | Timesteps: 200 | Sample t ∈ [0,185):   0%|          | 0/79 [00:00<?, ?it/s]"
      ]
     },
     "metadata": {},
     "output_type": "display_data"
    },
    {
     "name": "stdout",
     "output_type": "stream",
     "text": [
      "🔁 Epoch 15 terminé — Moyenne loss : 0.0922\n",
      "📸 Échantillons + modèle sauvegardés (epoch 15) dans results\n"
     ]
    },
    {
     "data": {
      "application/vnd.jupyter.widget-view+json": {
       "model_id": "865a80b494a442d5aabb4742dbe8bb1c",
       "version_major": 2,
       "version_minor": 0
      },
      "text/plain": [
       "Epoch 16/100 | Timesteps: 200 | Sample t ∈ [0,195):   0%|          | 0/79 [00:00<?, ?it/s]"
      ]
     },
     "metadata": {},
     "output_type": "display_data"
    },
    {
     "name": "stdout",
     "output_type": "stream",
     "text": [
      "🔁 Epoch 16 terminé — Moyenne loss : 0.0857\n"
     ]
    },
    {
     "data": {
      "application/vnd.jupyter.widget-view+json": {
       "model_id": "fe5023b6d9f8495aadfb0cbe4cbba6c1",
       "version_major": 2,
       "version_minor": 0
      },
      "text/plain": [
       "Epoch 17/100 | Timesteps: 200 | Sample t ∈ [0,198):   0%|          | 0/79 [00:00<?, ?it/s]"
      ]
     },
     "metadata": {},
     "output_type": "display_data"
    },
    {
     "name": "stdout",
     "output_type": "stream",
     "text": [
      "🔁 Epoch 17 terminé — Moyenne loss : 0.0819\n"
     ]
    },
    {
     "data": {
      "application/vnd.jupyter.widget-view+json": {
       "model_id": "e8dcb6203a674c608aac9c036e6f8075",
       "version_major": 2,
       "version_minor": 0
      },
      "text/plain": [
       "Epoch 18/100 | Timesteps: 200 | Sample t ∈ [0,198):   0%|          | 0/79 [00:00<?, ?it/s]"
      ]
     },
     "metadata": {},
     "output_type": "display_data"
    },
    {
     "name": "stdout",
     "output_type": "stream",
     "text": [
      "🔁 Epoch 18 terminé — Moyenne loss : 0.0818\n"
     ]
    },
    {
     "data": {
      "application/vnd.jupyter.widget-view+json": {
       "model_id": "fd053897ffb844919753702182da26fd",
       "version_major": 2,
       "version_minor": 0
      },
      "text/plain": [
       "Epoch 19/100 | Timesteps: 200 | Sample t ∈ [0,198):   0%|          | 0/79 [00:00<?, ?it/s]"
      ]
     },
     "metadata": {},
     "output_type": "display_data"
    },
    {
     "name": "stdout",
     "output_type": "stream",
     "text": [
      "🔁 Epoch 19 terminé — Moyenne loss : 0.0825\n"
     ]
    },
    {
     "data": {
      "application/vnd.jupyter.widget-view+json": {
       "model_id": "82f501285e2647d483772cd2a4d78089",
       "version_major": 2,
       "version_minor": 0
      },
      "text/plain": [
       "Epoch 20/100 | Timesteps: 200 | Sample t ∈ [0,198):   0%|          | 0/79 [00:00<?, ?it/s]"
      ]
     },
     "metadata": {},
     "output_type": "display_data"
    },
    {
     "name": "stdout",
     "output_type": "stream",
     "text": [
      "🔁 Epoch 20 terminé — Moyenne loss : 0.0825\n",
      "🔧 Diffusion mise à jour : 300 étapes\n",
      "🧼 Optimiseur réinitialisé après update des timesteps à 300\n",
      "📸 Échantillons + modèle sauvegardés (epoch 20) dans results\n"
     ]
    },
    {
     "data": {
      "application/vnd.jupyter.widget-view+json": {
       "model_id": "21b7bc2640ef4fb0b77968adee516ac5",
       "version_major": 2,
       "version_minor": 0
      },
      "text/plain": [
       "Epoch 21/100 | Timesteps: 300 | Sample t ∈ [0,200):   0%|          | 0/79 [00:00<?, ?it/s]"
      ]
     },
     "metadata": {},
     "output_type": "display_data"
    },
    {
     "name": "stdout",
     "output_type": "stream",
     "text": [
      "🔁 Epoch 21 terminé — Moyenne loss : 0.2996\n"
     ]
    },
    {
     "data": {
      "application/vnd.jupyter.widget-view+json": {
       "model_id": "e74f826e072f4ffc80416be1c8481022",
       "version_major": 2,
       "version_minor": 0
      },
      "text/plain": [
       "Epoch 22/100 | Timesteps: 300 | Sample t ∈ [0,225):   0%|          | 0/79 [00:00<?, ?it/s]"
      ]
     },
     "metadata": {},
     "output_type": "display_data"
    },
    {
     "name": "stdout",
     "output_type": "stream",
     "text": [
      "🔁 Epoch 22 terminé — Moyenne loss : 0.0883\n"
     ]
    },
    {
     "data": {
      "application/vnd.jupyter.widget-view+json": {
       "model_id": "e876e3c169914b748400b3fc0a3afe31",
       "version_major": 2,
       "version_minor": 0
      },
      "text/plain": [
       "Epoch 23/100 | Timesteps: 300 | Sample t ∈ [0,250):   0%|          | 0/79 [00:00<?, ?it/s]"
      ]
     },
     "metadata": {},
     "output_type": "display_data"
    },
    {
     "name": "stdout",
     "output_type": "stream",
     "text": [
      "🔁 Epoch 23 terminé — Moyenne loss : 0.0772\n"
     ]
    },
    {
     "data": {
      "application/vnd.jupyter.widget-view+json": {
       "model_id": "1520bcb5322d48eca6eba32bdacb379b",
       "version_major": 2,
       "version_minor": 0
      },
      "text/plain": [
       "Epoch 24/100 | Timesteps: 300 | Sample t ∈ [0,275):   0%|          | 0/79 [00:00<?, ?it/s]"
      ]
     },
     "metadata": {},
     "output_type": "display_data"
    },
    {
     "name": "stdout",
     "output_type": "stream",
     "text": [
      "🔁 Epoch 24 terminé — Moyenne loss : 0.0735\n"
     ]
    },
    {
     "data": {
      "application/vnd.jupyter.widget-view+json": {
       "model_id": "a31f18a1bf954a4cbe0f515458b1d18a",
       "version_major": 2,
       "version_minor": 0
      },
      "text/plain": [
       "Epoch 25/100 | Timesteps: 300 | Sample t ∈ [0,285):   0%|          | 0/79 [00:00<?, ?it/s]"
      ]
     },
     "metadata": {},
     "output_type": "display_data"
    },
    {
     "name": "stdout",
     "output_type": "stream",
     "text": [
      "🔁 Epoch 25 terminé — Moyenne loss : 0.0684\n",
      "📸 Échantillons + modèle sauvegardés (epoch 25) dans results\n"
     ]
    },
    {
     "data": {
      "application/vnd.jupyter.widget-view+json": {
       "model_id": "5a73c1bed1344c5d8ea2f9e437a87cb4",
       "version_major": 2,
       "version_minor": 0
      },
      "text/plain": [
       "Epoch 26/100 | Timesteps: 300 | Sample t ∈ [0,295):   0%|          | 0/79 [00:00<?, ?it/s]"
      ]
     },
     "metadata": {},
     "output_type": "display_data"
    },
    {
     "name": "stdout",
     "output_type": "stream",
     "text": [
      "🔁 Epoch 26 terminé — Moyenne loss : 0.0646\n"
     ]
    },
    {
     "data": {
      "application/vnd.jupyter.widget-view+json": {
       "model_id": "200b833c999f4160b62f31c41209a31b",
       "version_major": 2,
       "version_minor": 0
      },
      "text/plain": [
       "Epoch 27/100 | Timesteps: 300 | Sample t ∈ [0,298):   0%|          | 0/79 [00:00<?, ?it/s]"
      ]
     },
     "metadata": {},
     "output_type": "display_data"
    },
    {
     "name": "stdout",
     "output_type": "stream",
     "text": [
      "🔁 Epoch 27 terminé — Moyenne loss : 0.0656\n"
     ]
    },
    {
     "data": {
      "application/vnd.jupyter.widget-view+json": {
       "model_id": "75549b52cb06431e80c77ee4660290d8",
       "version_major": 2,
       "version_minor": 0
      },
      "text/plain": [
       "Epoch 28/100 | Timesteps: 300 | Sample t ∈ [0,298):   0%|          | 0/79 [00:00<?, ?it/s]"
      ]
     },
     "metadata": {},
     "output_type": "display_data"
    },
    {
     "name": "stdout",
     "output_type": "stream",
     "text": [
      "🔁 Epoch 28 terminé — Moyenne loss : 0.0645\n"
     ]
    },
    {
     "data": {
      "application/vnd.jupyter.widget-view+json": {
       "model_id": "da8fff25c43d448488eea7ee85e85a41",
       "version_major": 2,
       "version_minor": 0
      },
      "text/plain": [
       "Epoch 29/100 | Timesteps: 300 | Sample t ∈ [0,298):   0%|          | 0/79 [00:00<?, ?it/s]"
      ]
     },
     "metadata": {},
     "output_type": "display_data"
    },
    {
     "name": "stdout",
     "output_type": "stream",
     "text": [
      "🔁 Epoch 29 terminé — Moyenne loss : 0.0664\n"
     ]
    },
    {
     "data": {
      "application/vnd.jupyter.widget-view+json": {
       "model_id": "5a050bf0fa7a4ed9859400dfcbe7e5ee",
       "version_major": 2,
       "version_minor": 0
      },
      "text/plain": [
       "Epoch 30/100 | Timesteps: 300 | Sample t ∈ [0,298):   0%|          | 0/79 [00:00<?, ?it/s]"
      ]
     },
     "metadata": {},
     "output_type": "display_data"
    },
    {
     "name": "stdout",
     "output_type": "stream",
     "text": [
      "🔁 Epoch 30 terminé — Moyenne loss : 0.0639\n",
      "🔧 Diffusion mise à jour : 400 étapes\n",
      "🧼 Optimiseur réinitialisé après update des timesteps à 400\n",
      "📸 Échantillons + modèle sauvegardés (epoch 30) dans results\n"
     ]
    },
    {
     "data": {
      "application/vnd.jupyter.widget-view+json": {
       "model_id": "18db7ff37a524b04abc116cc4a16385d",
       "version_major": 2,
       "version_minor": 0
      },
      "text/plain": [
       "Epoch 31/100 | Timesteps: 400 | Sample t ∈ [0,300):   0%|          | 0/79 [00:00<?, ?it/s]"
      ]
     },
     "metadata": {},
     "output_type": "display_data"
    },
    {
     "name": "stdout",
     "output_type": "stream",
     "text": [
      "🔁 Epoch 31 terminé — Moyenne loss : 0.0943\n"
     ]
    },
    {
     "data": {
      "application/vnd.jupyter.widget-view+json": {
       "model_id": "2117a4adbd9e47f787e0d200cf0b21c3",
       "version_major": 2,
       "version_minor": 0
      },
      "text/plain": [
       "Epoch 32/100 | Timesteps: 400 | Sample t ∈ [0,325):   0%|          | 0/79 [00:00<?, ?it/s]"
      ]
     },
     "metadata": {},
     "output_type": "display_data"
    },
    {
     "name": "stdout",
     "output_type": "stream",
     "text": [
      "🔁 Epoch 32 terminé — Moyenne loss : 0.0684\n"
     ]
    },
    {
     "data": {
      "application/vnd.jupyter.widget-view+json": {
       "model_id": "eec34f4c24044fc3a016e6fb9e5c6301",
       "version_major": 2,
       "version_minor": 0
      },
      "text/plain": [
       "Epoch 33/100 | Timesteps: 400 | Sample t ∈ [0,350):   0%|          | 0/79 [00:00<?, ?it/s]"
      ]
     },
     "metadata": {},
     "output_type": "display_data"
    },
    {
     "name": "stdout",
     "output_type": "stream",
     "text": [
      "🔁 Epoch 33 terminé — Moyenne loss : 0.0637\n"
     ]
    },
    {
     "data": {
      "application/vnd.jupyter.widget-view+json": {
       "model_id": "495a0b037dcf40efaa9d2a39da002c33",
       "version_major": 2,
       "version_minor": 0
      },
      "text/plain": [
       "Epoch 34/100 | Timesteps: 400 | Sample t ∈ [0,375):   0%|          | 0/79 [00:00<?, ?it/s]"
      ]
     },
     "metadata": {},
     "output_type": "display_data"
    },
    {
     "name": "stdout",
     "output_type": "stream",
     "text": [
      "🔁 Epoch 34 terminé — Moyenne loss : 0.0596\n"
     ]
    },
    {
     "data": {
      "application/vnd.jupyter.widget-view+json": {
       "model_id": "4c4b2b80358e43028b4896fa067ce2d4",
       "version_major": 2,
       "version_minor": 0
      },
      "text/plain": [
       "Epoch 35/100 | Timesteps: 400 | Sample t ∈ [0,385):   0%|          | 0/79 [00:00<?, ?it/s]"
      ]
     },
     "metadata": {},
     "output_type": "display_data"
    },
    {
     "name": "stdout",
     "output_type": "stream",
     "text": [
      "🔁 Epoch 35 terminé — Moyenne loss : 0.0559\n",
      "📸 Échantillons + modèle sauvegardés (epoch 35) dans results\n"
     ]
    },
    {
     "data": {
      "application/vnd.jupyter.widget-view+json": {
       "model_id": "783b5ad76bc64388b55c63334c8e29d7",
       "version_major": 2,
       "version_minor": 0
      },
      "text/plain": [
       "Epoch 36/100 | Timesteps: 400 | Sample t ∈ [0,395):   0%|          | 0/79 [00:00<?, ?it/s]"
      ]
     },
     "metadata": {},
     "output_type": "display_data"
    },
    {
     "name": "stdout",
     "output_type": "stream",
     "text": [
      "🔁 Epoch 36 terminé — Moyenne loss : 0.0550\n"
     ]
    },
    {
     "data": {
      "application/vnd.jupyter.widget-view+json": {
       "model_id": "dd8ae856dffe46d6a0110677bc0e7a96",
       "version_major": 2,
       "version_minor": 0
      },
      "text/plain": [
       "Epoch 37/100 | Timesteps: 400 | Sample t ∈ [0,398):   0%|          | 0/79 [00:00<?, ?it/s]"
      ]
     },
     "metadata": {},
     "output_type": "display_data"
    },
    {
     "name": "stdout",
     "output_type": "stream",
     "text": [
      "🔁 Epoch 37 terminé — Moyenne loss : 0.0580\n"
     ]
    },
    {
     "data": {
      "application/vnd.jupyter.widget-view+json": {
       "model_id": "67088d10b7ff4408854bd9db1b536287",
       "version_major": 2,
       "version_minor": 0
      },
      "text/plain": [
       "Epoch 38/100 | Timesteps: 400 | Sample t ∈ [0,398):   0%|          | 0/79 [00:00<?, ?it/s]"
      ]
     },
     "metadata": {},
     "output_type": "display_data"
    },
    {
     "name": "stdout",
     "output_type": "stream",
     "text": [
      "🔁 Epoch 38 terminé — Moyenne loss : 0.0550\n"
     ]
    },
    {
     "data": {
      "application/vnd.jupyter.widget-view+json": {
       "model_id": "61f6f72e1950493f8a6043c99ad887a8",
       "version_major": 2,
       "version_minor": 0
      },
      "text/plain": [
       "Epoch 39/100 | Timesteps: 400 | Sample t ∈ [0,398):   0%|          | 0/79 [00:00<?, ?it/s]"
      ]
     },
     "metadata": {},
     "output_type": "display_data"
    },
    {
     "name": "stdout",
     "output_type": "stream",
     "text": [
      "🔁 Epoch 39 terminé — Moyenne loss : 0.0561\n"
     ]
    },
    {
     "data": {
      "application/vnd.jupyter.widget-view+json": {
       "model_id": "d4cb98e57df84b9c8479a1803b2ad91f",
       "version_major": 2,
       "version_minor": 0
      },
      "text/plain": [
       "Epoch 40/100 | Timesteps: 400 | Sample t ∈ [0,398):   0%|          | 0/79 [00:00<?, ?it/s]"
      ]
     },
     "metadata": {},
     "output_type": "display_data"
    },
    {
     "name": "stdout",
     "output_type": "stream",
     "text": [
      "🔁 Epoch 40 terminé — Moyenne loss : 0.0557\n",
      "🔧 Diffusion mise à jour : 500 étapes\n",
      "🧼 Optimiseur réinitialisé après update des timesteps à 500\n",
      "📸 Échantillons + modèle sauvegardés (epoch 40) dans results\n"
     ]
    },
    {
     "data": {
      "application/vnd.jupyter.widget-view+json": {
       "model_id": "4ddec7895bd84816a79166c902cecec9",
       "version_major": 2,
       "version_minor": 0
      },
      "text/plain": [
       "Epoch 41/100 | Timesteps: 500 | Sample t ∈ [0,400):   0%|          | 0/79 [00:00<?, ?it/s]"
      ]
     },
     "metadata": {},
     "output_type": "display_data"
    },
    {
     "name": "stdout",
     "output_type": "stream",
     "text": [
      "🔁 Epoch 41 terminé — Moyenne loss : 0.0683\n"
     ]
    },
    {
     "data": {
      "application/vnd.jupyter.widget-view+json": {
       "model_id": "02d28080ab6147119a794138438278ea",
       "version_major": 2,
       "version_minor": 0
      },
      "text/plain": [
       "Epoch 42/100 | Timesteps: 500 | Sample t ∈ [0,425):   0%|          | 0/79 [00:00<?, ?it/s]"
      ]
     },
     "metadata": {},
     "output_type": "display_data"
    },
    {
     "name": "stdout",
     "output_type": "stream",
     "text": [
      "🔁 Epoch 42 terminé — Moyenne loss : 0.0581\n"
     ]
    },
    {
     "data": {
      "application/vnd.jupyter.widget-view+json": {
       "model_id": "09480ff1d12144068d539bafe4ace446",
       "version_major": 2,
       "version_minor": 0
      },
      "text/plain": [
       "Epoch 43/100 | Timesteps: 500 | Sample t ∈ [0,450):   0%|          | 0/79 [00:00<?, ?it/s]"
      ]
     },
     "metadata": {},
     "output_type": "display_data"
    },
    {
     "name": "stdout",
     "output_type": "stream",
     "text": [
      "🔁 Epoch 43 terminé — Moyenne loss : 0.0525\n"
     ]
    },
    {
     "data": {
      "application/vnd.jupyter.widget-view+json": {
       "model_id": "6e940d8375bd4749bb51199b99d5303e",
       "version_major": 2,
       "version_minor": 0
      },
      "text/plain": [
       "Epoch 44/100 | Timesteps: 500 | Sample t ∈ [0,475):   0%|          | 0/79 [00:00<?, ?it/s]"
      ]
     },
     "metadata": {},
     "output_type": "display_data"
    },
    {
     "name": "stdout",
     "output_type": "stream",
     "text": [
      "🔁 Epoch 44 terminé — Moyenne loss : 0.0522\n"
     ]
    },
    {
     "data": {
      "application/vnd.jupyter.widget-view+json": {
       "model_id": "858f50b45b5243059715b8a0cab1b28f",
       "version_major": 2,
       "version_minor": 0
      },
      "text/plain": [
       "Epoch 45/100 | Timesteps: 500 | Sample t ∈ [0,485):   0%|          | 0/79 [00:00<?, ?it/s]"
      ]
     },
     "metadata": {},
     "output_type": "display_data"
    },
    {
     "name": "stdout",
     "output_type": "stream",
     "text": [
      "🔁 Epoch 45 terminé — Moyenne loss : 0.0542\n",
      "📸 Échantillons + modèle sauvegardés (epoch 45) dans results\n"
     ]
    },
    {
     "data": {
      "application/vnd.jupyter.widget-view+json": {
       "model_id": "9702fc575a334fc3a1d338e90be11587",
       "version_major": 2,
       "version_minor": 0
      },
      "text/plain": [
       "Epoch 46/100 | Timesteps: 500 | Sample t ∈ [0,495):   0%|          | 0/79 [00:00<?, ?it/s]"
      ]
     },
     "metadata": {},
     "output_type": "display_data"
    },
    {
     "name": "stdout",
     "output_type": "stream",
     "text": [
      "🔁 Epoch 46 terminé — Moyenne loss : 0.0499\n"
     ]
    },
    {
     "data": {
      "application/vnd.jupyter.widget-view+json": {
       "model_id": "fcf929688644470498e11e298d8ace4f",
       "version_major": 2,
       "version_minor": 0
      },
      "text/plain": [
       "Epoch 47/100 | Timesteps: 500 | Sample t ∈ [0,498):   0%|          | 0/79 [00:00<?, ?it/s]"
      ]
     },
     "metadata": {},
     "output_type": "display_data"
    },
    {
     "name": "stdout",
     "output_type": "stream",
     "text": [
      "🔁 Epoch 47 terminé — Moyenne loss : 0.0475\n"
     ]
    },
    {
     "data": {
      "application/vnd.jupyter.widget-view+json": {
       "model_id": "17db89af11c24a6c9957831317bb0baf",
       "version_major": 2,
       "version_minor": 0
      },
      "text/plain": [
       "Epoch 48/100 | Timesteps: 500 | Sample t ∈ [0,498):   0%|          | 0/79 [00:00<?, ?it/s]"
      ]
     },
     "metadata": {},
     "output_type": "display_data"
    },
    {
     "name": "stdout",
     "output_type": "stream",
     "text": [
      "🔁 Epoch 48 terminé — Moyenne loss : 0.0483\n"
     ]
    },
    {
     "data": {
      "application/vnd.jupyter.widget-view+json": {
       "model_id": "9872fb7a248d48cfbae2e64f97e0b8da",
       "version_major": 2,
       "version_minor": 0
      },
      "text/plain": [
       "Epoch 49/100 | Timesteps: 500 | Sample t ∈ [0,498):   0%|          | 0/79 [00:00<?, ?it/s]"
      ]
     },
     "metadata": {},
     "output_type": "display_data"
    },
    {
     "name": "stdout",
     "output_type": "stream",
     "text": [
      "🔁 Epoch 49 terminé — Moyenne loss : 0.0482\n"
     ]
    },
    {
     "data": {
      "application/vnd.jupyter.widget-view+json": {
       "model_id": "5b066b1e16b9440aa771741ea725ca79",
       "version_major": 2,
       "version_minor": 0
      },
      "text/plain": [
       "Epoch 50/100 | Timesteps: 500 | Sample t ∈ [0,498):   0%|          | 0/79 [00:00<?, ?it/s]"
      ]
     },
     "metadata": {},
     "output_type": "display_data"
    },
    {
     "name": "stdout",
     "output_type": "stream",
     "text": [
      "🔁 Epoch 50 terminé — Moyenne loss : 0.0478\n",
      "🔧 Diffusion mise à jour : 600 étapes\n",
      "🧼 Optimiseur réinitialisé après update des timesteps à 600\n",
      "📸 Échantillons + modèle sauvegardés (epoch 50) dans results\n"
     ]
    },
    {
     "data": {
      "application/vnd.jupyter.widget-view+json": {
       "model_id": "de577f0bcaf44c539126dbd5019cd56f",
       "version_major": 2,
       "version_minor": 0
      },
      "text/plain": [
       "Epoch 51/100 | Timesteps: 600 | Sample t ∈ [0,500):   0%|          | 0/79 [00:00<?, ?it/s]"
      ]
     },
     "metadata": {},
     "output_type": "display_data"
    },
    {
     "name": "stdout",
     "output_type": "stream",
     "text": [
      "🔁 Epoch 51 terminé — Moyenne loss : 0.0776\n"
     ]
    },
    {
     "data": {
      "application/vnd.jupyter.widget-view+json": {
       "model_id": "65ea5e6dbf76405290c41e1fe5333bf2",
       "version_major": 2,
       "version_minor": 0
      },
      "text/plain": [
       "Epoch 52/100 | Timesteps: 600 | Sample t ∈ [0,525):   0%|          | 0/79 [00:00<?, ?it/s]"
      ]
     },
     "metadata": {},
     "output_type": "display_data"
    },
    {
     "name": "stdout",
     "output_type": "stream",
     "text": [
      "🔁 Epoch 52 terminé — Moyenne loss : 0.0516\n"
     ]
    },
    {
     "data": {
      "application/vnd.jupyter.widget-view+json": {
       "model_id": "dbb33613f8384794950708f42a4f2ef6",
       "version_major": 2,
       "version_minor": 0
      },
      "text/plain": [
       "Epoch 53/100 | Timesteps: 600 | Sample t ∈ [0,550):   0%|          | 0/79 [00:00<?, ?it/s]"
      ]
     },
     "metadata": {},
     "output_type": "display_data"
    },
    {
     "name": "stdout",
     "output_type": "stream",
     "text": [
      "🔁 Epoch 53 terminé — Moyenne loss : 0.0475\n"
     ]
    },
    {
     "data": {
      "application/vnd.jupyter.widget-view+json": {
       "model_id": "af1565c28f6f411293eae47776bf775b",
       "version_major": 2,
       "version_minor": 0
      },
      "text/plain": [
       "Epoch 54/100 | Timesteps: 600 | Sample t ∈ [0,575):   0%|          | 0/79 [00:00<?, ?it/s]"
      ]
     },
     "metadata": {},
     "output_type": "display_data"
    },
    {
     "name": "stdout",
     "output_type": "stream",
     "text": [
      "🔁 Epoch 54 terminé — Moyenne loss : 0.0471\n"
     ]
    },
    {
     "data": {
      "application/vnd.jupyter.widget-view+json": {
       "model_id": "6bb317cfc80047e78b003a1091ca93ec",
       "version_major": 2,
       "version_minor": 0
      },
      "text/plain": [
       "Epoch 55/100 | Timesteps: 600 | Sample t ∈ [0,585):   0%|          | 0/79 [00:00<?, ?it/s]"
      ]
     },
     "metadata": {},
     "output_type": "display_data"
    },
    {
     "name": "stdout",
     "output_type": "stream",
     "text": [
      "🔁 Epoch 55 terminé — Moyenne loss : 0.0449\n",
      "📸 Échantillons + modèle sauvegardés (epoch 55) dans results\n"
     ]
    },
    {
     "data": {
      "application/vnd.jupyter.widget-view+json": {
       "model_id": "39492e6a9e9c4cf093b6198ecf17a7c6",
       "version_major": 2,
       "version_minor": 0
      },
      "text/plain": [
       "Epoch 56/100 | Timesteps: 600 | Sample t ∈ [0,595):   0%|          | 0/79 [00:00<?, ?it/s]"
      ]
     },
     "metadata": {},
     "output_type": "display_data"
    },
    {
     "name": "stdout",
     "output_type": "stream",
     "text": [
      "🔁 Epoch 56 terminé — Moyenne loss : 0.0457\n"
     ]
    },
    {
     "data": {
      "application/vnd.jupyter.widget-view+json": {
       "model_id": "56d7c7f53db84670b2c1ffd3c36e3a29",
       "version_major": 2,
       "version_minor": 0
      },
      "text/plain": [
       "Epoch 57/100 | Timesteps: 600 | Sample t ∈ [0,598):   0%|          | 0/79 [00:00<?, ?it/s]"
      ]
     },
     "metadata": {},
     "output_type": "display_data"
    },
    {
     "name": "stdout",
     "output_type": "stream",
     "text": [
      "🔁 Epoch 57 terminé — Moyenne loss : 0.0433\n"
     ]
    },
    {
     "data": {
      "application/vnd.jupyter.widget-view+json": {
       "model_id": "711baeca72e444f99000737adbf23e5a",
       "version_major": 2,
       "version_minor": 0
      },
      "text/plain": [
       "Epoch 58/100 | Timesteps: 600 | Sample t ∈ [0,598):   0%|          | 0/79 [00:00<?, ?it/s]"
      ]
     },
     "metadata": {},
     "output_type": "display_data"
    },
    {
     "name": "stdout",
     "output_type": "stream",
     "text": [
      "🔁 Epoch 58 terminé — Moyenne loss : 0.0562\n"
     ]
    },
    {
     "data": {
      "application/vnd.jupyter.widget-view+json": {
       "model_id": "b0d4eca1094546d4a0b1e05fbbf4a786",
       "version_major": 2,
       "version_minor": 0
      },
      "text/plain": [
       "Epoch 59/100 | Timesteps: 600 | Sample t ∈ [0,598):   0%|          | 0/79 [00:00<?, ?it/s]"
      ]
     },
     "metadata": {},
     "output_type": "display_data"
    },
    {
     "name": "stdout",
     "output_type": "stream",
     "text": [
      "🔁 Epoch 59 terminé — Moyenne loss : 0.0505\n"
     ]
    },
    {
     "data": {
      "application/vnd.jupyter.widget-view+json": {
       "model_id": "1299aa7737b74be387fc21a837fafe44",
       "version_major": 2,
       "version_minor": 0
      },
      "text/plain": [
       "Epoch 60/100 | Timesteps: 600 | Sample t ∈ [0,598):   0%|          | 0/79 [00:00<?, ?it/s]"
      ]
     },
     "metadata": {},
     "output_type": "display_data"
    },
    {
     "name": "stdout",
     "output_type": "stream",
     "text": [
      "🔁 Epoch 60 terminé — Moyenne loss : 0.0446\n",
      "🔧 Diffusion mise à jour : 700 étapes\n",
      "🧼 Optimiseur réinitialisé après update des timesteps à 700\n",
      "📸 Échantillons + modèle sauvegardés (epoch 60) dans results\n"
     ]
    },
    {
     "data": {
      "application/vnd.jupyter.widget-view+json": {
       "model_id": "354261b3d2604d5f9a0341bb97dcac55",
       "version_major": 2,
       "version_minor": 0
      },
      "text/plain": [
       "Epoch 61/100 | Timesteps: 700 | Sample t ∈ [0,600):   0%|          | 0/79 [00:00<?, ?it/s]"
      ]
     },
     "metadata": {},
     "output_type": "display_data"
    },
    {
     "name": "stdout",
     "output_type": "stream",
     "text": [
      "🔁 Epoch 61 terminé — Moyenne loss : 0.0634\n"
     ]
    },
    {
     "data": {
      "application/vnd.jupyter.widget-view+json": {
       "model_id": "05022018039842a285a9cedf4750fd47",
       "version_major": 2,
       "version_minor": 0
      },
      "text/plain": [
       "Epoch 62/100 | Timesteps: 700 | Sample t ∈ [0,625):   0%|          | 0/79 [00:00<?, ?it/s]"
      ]
     },
     "metadata": {},
     "output_type": "display_data"
    },
    {
     "name": "stdout",
     "output_type": "stream",
     "text": [
      "🔁 Epoch 62 terminé — Moyenne loss : 0.0475\n"
     ]
    },
    {
     "data": {
      "application/vnd.jupyter.widget-view+json": {
       "model_id": "bb243bb485b9418796c3d6438122e638",
       "version_major": 2,
       "version_minor": 0
      },
      "text/plain": [
       "Epoch 63/100 | Timesteps: 700 | Sample t ∈ [0,650):   0%|          | 0/79 [00:00<?, ?it/s]"
      ]
     },
     "metadata": {},
     "output_type": "display_data"
    },
    {
     "name": "stdout",
     "output_type": "stream",
     "text": [
      "🔁 Epoch 63 terminé — Moyenne loss : 0.0446\n"
     ]
    },
    {
     "data": {
      "application/vnd.jupyter.widget-view+json": {
       "model_id": "6d08d77fd2ef4281af187bb9540b505f",
       "version_major": 2,
       "version_minor": 0
      },
      "text/plain": [
       "Epoch 64/100 | Timesteps: 700 | Sample t ∈ [0,675):   0%|          | 0/79 [00:00<?, ?it/s]"
      ]
     },
     "metadata": {},
     "output_type": "display_data"
    },
    {
     "name": "stdout",
     "output_type": "stream",
     "text": [
      "🔁 Epoch 64 terminé — Moyenne loss : 0.0421\n"
     ]
    },
    {
     "data": {
      "application/vnd.jupyter.widget-view+json": {
       "model_id": "19fad4c70a9e4e009966719181c01987",
       "version_major": 2,
       "version_minor": 0
      },
      "text/plain": [
       "Epoch 65/100 | Timesteps: 700 | Sample t ∈ [0,685):   0%|          | 0/79 [00:00<?, ?it/s]"
      ]
     },
     "metadata": {},
     "output_type": "display_data"
    },
    {
     "name": "stdout",
     "output_type": "stream",
     "text": [
      "🔁 Epoch 65 terminé — Moyenne loss : 0.0403\n",
      "📸 Échantillons + modèle sauvegardés (epoch 65) dans results\n"
     ]
    },
    {
     "data": {
      "application/vnd.jupyter.widget-view+json": {
       "model_id": "da465ac1e426483d9aed7168c5dc8fcb",
       "version_major": 2,
       "version_minor": 0
      },
      "text/plain": [
       "Epoch 66/100 | Timesteps: 700 | Sample t ∈ [0,695):   0%|          | 0/79 [00:00<?, ?it/s]"
      ]
     },
     "metadata": {},
     "output_type": "display_data"
    },
    {
     "name": "stdout",
     "output_type": "stream",
     "text": [
      "🔁 Epoch 66 terminé — Moyenne loss : 0.0402\n"
     ]
    },
    {
     "data": {
      "application/vnd.jupyter.widget-view+json": {
       "model_id": "6101a96bb11d4ec0adf581c937b25a3a",
       "version_major": 2,
       "version_minor": 0
      },
      "text/plain": [
       "Epoch 67/100 | Timesteps: 700 | Sample t ∈ [0,698):   0%|          | 0/79 [00:00<?, ?it/s]"
      ]
     },
     "metadata": {},
     "output_type": "display_data"
    },
    {
     "name": "stdout",
     "output_type": "stream",
     "text": [
      "🔁 Epoch 67 terminé — Moyenne loss : 0.0423\n"
     ]
    },
    {
     "data": {
      "application/vnd.jupyter.widget-view+json": {
       "model_id": "f66b2cbf0e0742398856d22bc3ff68d6",
       "version_major": 2,
       "version_minor": 0
      },
      "text/plain": [
       "Epoch 68/100 | Timesteps: 700 | Sample t ∈ [0,698):   0%|          | 0/79 [00:00<?, ?it/s]"
      ]
     },
     "metadata": {},
     "output_type": "display_data"
    },
    {
     "name": "stdout",
     "output_type": "stream",
     "text": [
      "🔁 Epoch 68 terminé — Moyenne loss : 0.0400\n"
     ]
    },
    {
     "data": {
      "application/vnd.jupyter.widget-view+json": {
       "model_id": "7285aa2410e641af816f8da76fe3c378",
       "version_major": 2,
       "version_minor": 0
      },
      "text/plain": [
       "Epoch 69/100 | Timesteps: 700 | Sample t ∈ [0,698):   0%|          | 0/79 [00:00<?, ?it/s]"
      ]
     },
     "metadata": {},
     "output_type": "display_data"
    },
    {
     "name": "stdout",
     "output_type": "stream",
     "text": [
      "🔁 Epoch 69 terminé — Moyenne loss : 0.0407\n"
     ]
    },
    {
     "data": {
      "application/vnd.jupyter.widget-view+json": {
       "model_id": "3eb0a85b2a45468c84b404b4d3e619ca",
       "version_major": 2,
       "version_minor": 0
      },
      "text/plain": [
       "Epoch 70/100 | Timesteps: 700 | Sample t ∈ [0,698):   0%|          | 0/79 [00:00<?, ?it/s]"
      ]
     },
     "metadata": {},
     "output_type": "display_data"
    },
    {
     "name": "stdout",
     "output_type": "stream",
     "text": [
      "🔁 Epoch 70 terminé — Moyenne loss : 0.0420\n",
      "🔧 Diffusion mise à jour : 800 étapes\n",
      "🧼 Optimiseur réinitialisé après update des timesteps à 800\n",
      "📸 Échantillons + modèle sauvegardés (epoch 70) dans results\n"
     ]
    },
    {
     "data": {
      "application/vnd.jupyter.widget-view+json": {
       "model_id": "17218f7dd3444407aa14f184ee7fc385",
       "version_major": 2,
       "version_minor": 0
      },
      "text/plain": [
       "Epoch 71/100 | Timesteps: 800 | Sample t ∈ [0,700):   0%|          | 0/79 [00:00<?, ?it/s]"
      ]
     },
     "metadata": {},
     "output_type": "display_data"
    },
    {
     "name": "stdout",
     "output_type": "stream",
     "text": [
      "🔁 Epoch 71 terminé — Moyenne loss : 0.0613\n"
     ]
    },
    {
     "data": {
      "application/vnd.jupyter.widget-view+json": {
       "model_id": "4ae585efc517467ca36932a37fb61166",
       "version_major": 2,
       "version_minor": 0
      },
      "text/plain": [
       "Epoch 72/100 | Timesteps: 800 | Sample t ∈ [0,725):   0%|          | 0/79 [00:00<?, ?it/s]"
      ]
     },
     "metadata": {},
     "output_type": "display_data"
    },
    {
     "name": "stdout",
     "output_type": "stream",
     "text": [
      "🔁 Epoch 72 terminé — Moyenne loss : 0.0417\n"
     ]
    },
    {
     "data": {
      "application/vnd.jupyter.widget-view+json": {
       "model_id": "886ecd81d81548ae9d8ef48bdbe7bdd4",
       "version_major": 2,
       "version_minor": 0
      },
      "text/plain": [
       "Epoch 73/100 | Timesteps: 800 | Sample t ∈ [0,750):   0%|          | 0/79 [00:00<?, ?it/s]"
      ]
     },
     "metadata": {},
     "output_type": "display_data"
    },
    {
     "name": "stdout",
     "output_type": "stream",
     "text": [
      "🔁 Epoch 73 terminé — Moyenne loss : 0.0389\n"
     ]
    },
    {
     "data": {
      "application/vnd.jupyter.widget-view+json": {
       "model_id": "0df0ccae5c2649e6bbe6a492e2545b92",
       "version_major": 2,
       "version_minor": 0
      },
      "text/plain": [
       "Epoch 74/100 | Timesteps: 800 | Sample t ∈ [0,775):   0%|          | 0/79 [00:00<?, ?it/s]"
      ]
     },
     "metadata": {},
     "output_type": "display_data"
    },
    {
     "name": "stdout",
     "output_type": "stream",
     "text": [
      "🔁 Epoch 74 terminé — Moyenne loss : 336.1250\n"
     ]
    },
    {
     "data": {
      "application/vnd.jupyter.widget-view+json": {
       "model_id": "88b1a90f4ed44e308cffe43887949be9",
       "version_major": 2,
       "version_minor": 0
      },
      "text/plain": [
       "Epoch 75/100 | Timesteps: 800 | Sample t ∈ [0,785):   0%|          | 0/79 [00:00<?, ?it/s]"
      ]
     },
     "metadata": {},
     "output_type": "display_data"
    },
    {
     "name": "stdout",
     "output_type": "stream",
     "text": [
      "🔁 Epoch 75 terminé — Moyenne loss : 235.3047\n",
      "📸 Échantillons + modèle sauvegardés (epoch 75) dans results\n"
     ]
    },
    {
     "data": {
      "application/vnd.jupyter.widget-view+json": {
       "model_id": "4bf0fc56feb042faab3e99151bd1d7e6",
       "version_major": 2,
       "version_minor": 0
      },
      "text/plain": [
       "Epoch 76/100 | Timesteps: 800 | Sample t ∈ [0,795):   0%|          | 0/79 [00:00<?, ?it/s]"
      ]
     },
     "metadata": {},
     "output_type": "display_data"
    },
    {
     "name": "stdout",
     "output_type": "stream",
     "text": [
      "🔁 Epoch 76 terminé — Moyenne loss : 0.0456\n"
     ]
    },
    {
     "data": {
      "application/vnd.jupyter.widget-view+json": {
       "model_id": "aa473098a16c492f9a26c799123da8bf",
       "version_major": 2,
       "version_minor": 0
      },
      "text/plain": [
       "Epoch 77/100 | Timesteps: 800 | Sample t ∈ [0,798):   0%|          | 0/79 [00:00<?, ?it/s]"
      ]
     },
     "metadata": {},
     "output_type": "display_data"
    },
    {
     "name": "stdout",
     "output_type": "stream",
     "text": [
      "🔁 Epoch 77 terminé — Moyenne loss : 0.0406\n"
     ]
    },
    {
     "data": {
      "application/vnd.jupyter.widget-view+json": {
       "model_id": "2e2680400e314c56949e1f355d39069f",
       "version_major": 2,
       "version_minor": 0
      },
      "text/plain": [
       "Epoch 78/100 | Timesteps: 800 | Sample t ∈ [0,798):   0%|          | 0/79 [00:00<?, ?it/s]"
      ]
     },
     "metadata": {},
     "output_type": "display_data"
    },
    {
     "name": "stdout",
     "output_type": "stream",
     "text": [
      "🔁 Epoch 78 terminé — Moyenne loss : 0.0376\n"
     ]
    },
    {
     "data": {
      "application/vnd.jupyter.widget-view+json": {
       "model_id": "569292b9b664458fb819f497b003b390",
       "version_major": 2,
       "version_minor": 0
      },
      "text/plain": [
       "Epoch 79/100 | Timesteps: 800 | Sample t ∈ [0,798):   0%|          | 0/79 [00:00<?, ?it/s]"
      ]
     },
     "metadata": {},
     "output_type": "display_data"
    },
    {
     "name": "stdout",
     "output_type": "stream",
     "text": [
      "🔁 Epoch 79 terminé — Moyenne loss : 0.0384\n"
     ]
    },
    {
     "data": {
      "application/vnd.jupyter.widget-view+json": {
       "model_id": "67309ed48eba4a369ef8ac7fc32087f3",
       "version_major": 2,
       "version_minor": 0
      },
      "text/plain": [
       "Epoch 80/100 | Timesteps: 800 | Sample t ∈ [0,798):   0%|          | 0/79 [00:00<?, ?it/s]"
      ]
     },
     "metadata": {},
     "output_type": "display_data"
    },
    {
     "name": "stdout",
     "output_type": "stream",
     "text": [
      "🔁 Epoch 80 terminé — Moyenne loss : 0.0377\n",
      "🔧 Diffusion mise à jour : 900 étapes\n",
      "🧼 Optimiseur réinitialisé après update des timesteps à 900\n",
      "📸 Échantillons + modèle sauvegardés (epoch 80) dans results\n"
     ]
    },
    {
     "data": {
      "application/vnd.jupyter.widget-view+json": {
       "model_id": "533d564b959243f5b2d3bdb42f15e9dd",
       "version_major": 2,
       "version_minor": 0
      },
      "text/plain": [
       "Epoch 81/100 | Timesteps: 900 | Sample t ∈ [0,800):   0%|          | 0/79 [00:00<?, ?it/s]"
      ]
     },
     "metadata": {},
     "output_type": "display_data"
    },
    {
     "name": "stdout",
     "output_type": "stream",
     "text": [
      "🔁 Epoch 81 terminé — Moyenne loss : 0.3635\n"
     ]
    },
    {
     "data": {
      "application/vnd.jupyter.widget-view+json": {
       "model_id": "f903c54780af44ea9563eddce10af892",
       "version_major": 2,
       "version_minor": 0
      },
      "text/plain": [
       "Epoch 82/100 | Timesteps: 900 | Sample t ∈ [0,825):   0%|          | 0/79 [00:00<?, ?it/s]"
      ]
     },
     "metadata": {},
     "output_type": "display_data"
    },
    {
     "name": "stdout",
     "output_type": "stream",
     "text": [
      "🔁 Epoch 82 terminé — Moyenne loss : 0.0406\n"
     ]
    },
    {
     "data": {
      "application/vnd.jupyter.widget-view+json": {
       "model_id": "7dfb831460c142c0917e01e82df7199c",
       "version_major": 2,
       "version_minor": 0
      },
      "text/plain": [
       "Epoch 83/100 | Timesteps: 900 | Sample t ∈ [0,850):   0%|          | 0/79 [00:00<?, ?it/s]"
      ]
     },
     "metadata": {},
     "output_type": "display_data"
    },
    {
     "name": "stdout",
     "output_type": "stream",
     "text": [
      "🔁 Epoch 83 terminé — Moyenne loss : 0.0392\n"
     ]
    },
    {
     "data": {
      "application/vnd.jupyter.widget-view+json": {
       "model_id": "163333fb6f314bb287860345f34bc159",
       "version_major": 2,
       "version_minor": 0
      },
      "text/plain": [
       "Epoch 84/100 | Timesteps: 900 | Sample t ∈ [0,875):   0%|          | 0/79 [00:00<?, ?it/s]"
      ]
     },
     "metadata": {},
     "output_type": "display_data"
    },
    {
     "name": "stdout",
     "output_type": "stream",
     "text": [
      "🔁 Epoch 84 terminé — Moyenne loss : 0.0361\n"
     ]
    },
    {
     "data": {
      "application/vnd.jupyter.widget-view+json": {
       "model_id": "5612bdbb673246ed846200c8e6813f4e",
       "version_major": 2,
       "version_minor": 0
      },
      "text/plain": [
       "Epoch 85/100 | Timesteps: 900 | Sample t ∈ [0,885):   0%|          | 0/79 [00:00<?, ?it/s]"
      ]
     },
     "metadata": {},
     "output_type": "display_data"
    },
    {
     "name": "stdout",
     "output_type": "stream",
     "text": [
      "🔁 Epoch 85 terminé — Moyenne loss : 0.0380\n",
      "📸 Échantillons + modèle sauvegardés (epoch 85) dans results\n"
     ]
    },
    {
     "data": {
      "application/vnd.jupyter.widget-view+json": {
       "model_id": "959687cc32254f7591bc5e0c3b80bd2f",
       "version_major": 2,
       "version_minor": 0
      },
      "text/plain": [
       "Epoch 86/100 | Timesteps: 900 | Sample t ∈ [0,895):   0%|          | 0/79 [00:00<?, ?it/s]"
      ]
     },
     "metadata": {},
     "output_type": "display_data"
    },
    {
     "name": "stdout",
     "output_type": "stream",
     "text": [
      "🔁 Epoch 86 terminé — Moyenne loss : 0.0356\n"
     ]
    },
    {
     "data": {
      "application/vnd.jupyter.widget-view+json": {
       "model_id": "04a97d5978c143d483df52d4d08166bd",
       "version_major": 2,
       "version_minor": 0
      },
      "text/plain": [
       "Epoch 87/100 | Timesteps: 900 | Sample t ∈ [0,898):   0%|          | 0/79 [00:00<?, ?it/s]"
      ]
     },
     "metadata": {},
     "output_type": "display_data"
    },
    {
     "name": "stdout",
     "output_type": "stream",
     "text": [
      "🔁 Epoch 87 terminé — Moyenne loss : 0.0350\n"
     ]
    },
    {
     "data": {
      "application/vnd.jupyter.widget-view+json": {
       "model_id": "c96902ec9e284398a6563f3b76dbbf46",
       "version_major": 2,
       "version_minor": 0
      },
      "text/plain": [
       "Epoch 88/100 | Timesteps: 900 | Sample t ∈ [0,898):   0%|          | 0/79 [00:00<?, ?it/s]"
      ]
     },
     "metadata": {},
     "output_type": "display_data"
    },
    {
     "name": "stdout",
     "output_type": "stream",
     "text": [
      "🔁 Epoch 88 terminé — Moyenne loss : 0.0361\n"
     ]
    },
    {
     "data": {
      "application/vnd.jupyter.widget-view+json": {
       "model_id": "33b5e590593842678587a63758107c59",
       "version_major": 2,
       "version_minor": 0
      },
      "text/plain": [
       "Epoch 89/100 | Timesteps: 900 | Sample t ∈ [0,898):   0%|          | 0/79 [00:00<?, ?it/s]"
      ]
     },
     "metadata": {},
     "output_type": "display_data"
    },
    {
     "name": "stdout",
     "output_type": "stream",
     "text": [
      "🔁 Epoch 89 terminé — Moyenne loss : 0.0351\n"
     ]
    },
    {
     "data": {
      "application/vnd.jupyter.widget-view+json": {
       "model_id": "ec3774c0d6d24078a6b4d33bf89d6ead",
       "version_major": 2,
       "version_minor": 0
      },
      "text/plain": [
       "Epoch 90/100 | Timesteps: 900 | Sample t ∈ [0,898):   0%|          | 0/79 [00:00<?, ?it/s]"
      ]
     },
     "metadata": {},
     "output_type": "display_data"
    },
    {
     "name": "stdout",
     "output_type": "stream",
     "text": [
      "🔁 Epoch 90 terminé — Moyenne loss : 0.0357\n",
      "🔧 Diffusion mise à jour : 1000 étapes\n",
      "🧼 Optimiseur réinitialisé après update des timesteps à 1000\n",
      "📸 Échantillons + modèle sauvegardés (epoch 90) dans results\n"
     ]
    },
    {
     "data": {
      "application/vnd.jupyter.widget-view+json": {
       "model_id": "a48fec9c92a14d9892eb500ee22daf03",
       "version_major": 2,
       "version_minor": 0
      },
      "text/plain": [
       "Epoch 91/100 | Timesteps: 1000 | Sample t ∈ [0,900):   0%|          | 0/79 [00:00<?, ?it/s]"
      ]
     },
     "metadata": {},
     "output_type": "display_data"
    },
    {
     "name": "stdout",
     "output_type": "stream",
     "text": [
      "🔁 Epoch 91 terminé — Moyenne loss : 0.0963\n"
     ]
    },
    {
     "data": {
      "application/vnd.jupyter.widget-view+json": {
       "model_id": "1af6c411960a4671b4d5529199d60f89",
       "version_major": 2,
       "version_minor": 0
      },
      "text/plain": [
       "Epoch 92/100 | Timesteps: 1000 | Sample t ∈ [0,925):   0%|          | 0/79 [00:00<?, ?it/s]"
      ]
     },
     "metadata": {},
     "output_type": "display_data"
    },
    {
     "name": "stdout",
     "output_type": "stream",
     "text": [
      "🔁 Epoch 92 terminé — Moyenne loss : 0.0356\n"
     ]
    },
    {
     "data": {
      "application/vnd.jupyter.widget-view+json": {
       "model_id": "9094a908fc6c41a1a0d7d28303a2b186",
       "version_major": 2,
       "version_minor": 0
      },
      "text/plain": [
       "Epoch 93/100 | Timesteps: 1000 | Sample t ∈ [0,950):   0%|          | 0/79 [00:00<?, ?it/s]"
      ]
     },
     "metadata": {},
     "output_type": "display_data"
    },
    {
     "name": "stdout",
     "output_type": "stream",
     "text": [
      "🔁 Epoch 93 terminé — Moyenne loss : 0.0347\n"
     ]
    },
    {
     "data": {
      "application/vnd.jupyter.widget-view+json": {
       "model_id": "270505329c0b472cb6a7111051e1634d",
       "version_major": 2,
       "version_minor": 0
      },
      "text/plain": [
       "Epoch 94/100 | Timesteps: 1000 | Sample t ∈ [0,975):   0%|          | 0/79 [00:00<?, ?it/s]"
      ]
     },
     "metadata": {},
     "output_type": "display_data"
    },
    {
     "name": "stdout",
     "output_type": "stream",
     "text": [
      "🔁 Epoch 94 terminé — Moyenne loss : 0.0339\n"
     ]
    },
    {
     "data": {
      "application/vnd.jupyter.widget-view+json": {
       "model_id": "a76e5b6ca1ce45e79b1bd2f0bfc5f67b",
       "version_major": 2,
       "version_minor": 0
      },
      "text/plain": [
       "Epoch 95/100 | Timesteps: 1000 | Sample t ∈ [0,985):   0%|          | 0/79 [00:00<?, ?it/s]"
      ]
     },
     "metadata": {},
     "output_type": "display_data"
    },
    {
     "name": "stdout",
     "output_type": "stream",
     "text": [
      "🔁 Epoch 95 terminé — Moyenne loss : 0.0324\n",
      "📸 Échantillons + modèle sauvegardés (epoch 95) dans results\n"
     ]
    },
    {
     "data": {
      "application/vnd.jupyter.widget-view+json": {
       "model_id": "5f40441e1ccb4449b1cfaec8752248ce",
       "version_major": 2,
       "version_minor": 0
      },
      "text/plain": [
       "Epoch 96/100 | Timesteps: 1000 | Sample t ∈ [0,995):   0%|          | 0/79 [00:00<?, ?it/s]"
      ]
     },
     "metadata": {},
     "output_type": "display_data"
    },
    {
     "name": "stdout",
     "output_type": "stream",
     "text": [
      "🔁 Epoch 96 terminé — Moyenne loss : 0.0312\n"
     ]
    },
    {
     "data": {
      "application/vnd.jupyter.widget-view+json": {
       "model_id": "e94c05889e5b4cca8697bb1b2c688458",
       "version_major": 2,
       "version_minor": 0
      },
      "text/plain": [
       "Epoch 97/100 | Timesteps: 1000 | Sample t ∈ [0,998):   0%|          | 0/79 [00:00<?, ?it/s]"
      ]
     },
     "metadata": {},
     "output_type": "display_data"
    },
    {
     "name": "stdout",
     "output_type": "stream",
     "text": [
      "🔁 Epoch 97 terminé — Moyenne loss : 0.0331\n"
     ]
    },
    {
     "data": {
      "application/vnd.jupyter.widget-view+json": {
       "model_id": "951222bedf074ebba188bc1912a43c7a",
       "version_major": 2,
       "version_minor": 0
      },
      "text/plain": [
       "Epoch 98/100 | Timesteps: 1000 | Sample t ∈ [0,998):   0%|          | 0/79 [00:00<?, ?it/s]"
      ]
     },
     "metadata": {},
     "output_type": "display_data"
    },
    {
     "name": "stdout",
     "output_type": "stream",
     "text": [
      "🔁 Epoch 98 terminé — Moyenne loss : 0.0347\n"
     ]
    },
    {
     "data": {
      "application/vnd.jupyter.widget-view+json": {
       "model_id": "d6c6e825ff4a4725a5ec05e889f2b44f",
       "version_major": 2,
       "version_minor": 0
      },
      "text/plain": [
       "Epoch 99/100 | Timesteps: 1000 | Sample t ∈ [0,998):   0%|          | 0/79 [00:00<?, ?it/s]"
      ]
     },
     "metadata": {},
     "output_type": "display_data"
    },
    {
     "name": "stdout",
     "output_type": "stream",
     "text": [
      "🔁 Epoch 99 terminé — Moyenne loss : 0.1019\n"
     ]
    },
    {
     "data": {
      "application/vnd.jupyter.widget-view+json": {
       "model_id": "2ebac547bcf444c7bfbe6dae5ef1edb8",
       "version_major": 2,
       "version_minor": 0
      },
      "text/plain": [
       "Epoch 100/100 | Timesteps: 1000 | Sample t ∈ [0,998):   0%|          | 0/79 [00:00<?, ?it/s]"
      ]
     },
     "metadata": {},
     "output_type": "display_data"
    },
    {
     "name": "stdout",
     "output_type": "stream",
     "text": [
      "🔁 Epoch 100 terminé — Moyenne loss : 778678.4780\n",
      "📸 Échantillons + modèle sauvegardés (epoch 100) dans results\n"
     ]
    }
   ],
   "source": [
    "from tqdm.notebook import tqdm\n",
    "import torch.nn.utils\n",
    "\n",
    "# Modèle et diffusion\n",
    "model = UNetConditional(in_channels=3, base_channels=64, time_emb_dim=256, class_emb_dim=128, num_classes=num_classes).to(device)\n",
    "diffusion = GaussianDiffusion(model, timesteps=100, beta_end=0.02, device=device)\n",
    "optimizer = optim.Adam(model.parameters(), lr=lr)\n",
    "\n",
    "losses = []\n",
    "timestep_increment = 100\n",
    "timestep_schedule_every = 10\n",
    "max_timesteps = 1000\n",
    "current_max_sample_t = diffusion.timesteps\n",
    "\n",
    "for epoch in range(1, epochs + 1):\n",
    "    model.train()\n",
    "    epoch_losses = []\n",
    "\n",
    "    loop = tqdm(dataloader, desc=f\"Epoch {epoch}/{epochs} | Timesteps: {diffusion.timesteps} | Sample t ∈ [0,{current_max_sample_t})\")\n",
    "    \n",
    "    for x, y in loop:\n",
    "        x, y = x.to(device), y.to(device)\n",
    "        t = torch.randint(0, min(current_max_sample_t, diffusion.timesteps - 2), (x.size(0),), device=device).long()\n",
    "        noise = torch.randn_like(x)\n",
    "        x_t = diffusion.q_sample(x, t, noise)\n",
    "\n",
    "        noise_pred = model(x_t, t, y)\n",
    "        loss = F.mse_loss(noise_pred, noise)\n",
    "\n",
    "        optimizer.zero_grad()\n",
    "        loss.backward()\n",
    "        torch.nn.utils.clip_grad_norm_(model.parameters(), max_norm=1.0)  # 🛡️ stabilise l'explosion\n",
    "        optimizer.step()\n",
    "\n",
    "        loop.set_postfix(loss=loss.item())\n",
    "        losses.append(loss.item())\n",
    "        epoch_losses.append(loss.item())\n",
    "\n",
    "    avg_loss = sum(epoch_losses) / len(epoch_losses)\n",
    "    print(f\"🔁 Epoch {epoch} terminé — Moyenne loss : {avg_loss:.4f}\")\n",
    "\n",
    "    # 🔁 Mise à jour des timesteps toutes les 10 epochs\n",
    "    if epoch % timestep_schedule_every == 0 and diffusion.timesteps < max_timesteps:\n",
    "        new_steps = min(diffusion.timesteps + timestep_increment, max_timesteps)\n",
    "        diffusion.set_timesteps(new_steps)\n",
    "        optimizer = optim.Adam(model.parameters(), lr=lr)\n",
    "        print(f\"🧼 Optimiseur réinitialisé après update des timesteps à {new_steps}\")\n",
    "\n",
    "    # 📈 Planning t max progressif (évite de taper T-1 trop tôt)\n",
    "    dizaine = epoch // 10\n",
    "    position = epoch % 10\n",
    "\n",
    "    if epoch <= 10:\n",
    "        current_max_sample_t = 100\n",
    "    else:\n",
    "        if position == 0:\n",
    "            current_max_sample_t = dizaine * 100\n",
    "        elif position == 1:\n",
    "            current_max_sample_t = dizaine * 100 + 25\n",
    "        elif position == 2:\n",
    "            current_max_sample_t = dizaine * 100 + 50\n",
    "        elif position == 3:\n",
    "            current_max_sample_t = dizaine * 100 + 75\n",
    "        elif position == 4:\n",
    "            current_max_sample_t = dizaine * 100 + 85\n",
    "        elif position == 5:\n",
    "            current_max_sample_t = dizaine * 100 + 95\n",
    "        elif position == 6:\n",
    "            current_max_sample_t = dizaine * 100 + 98\n",
    "        elif position in [7, 8, 9]:\n",
    "            current_max_sample_t = dizaine * 100 + 99\n",
    "\n",
    "        current_max_sample_t = min(current_max_sample_t, diffusion.timesteps - 2)\n",
    "\n",
    "    # 🖼️ Échantillonnage\n",
    "    if epoch % 5 == 0:\n",
    "        model.eval()\n",
    "        with torch.no_grad():\n",
    "            y_sample = torch.tensor([0] * 16, device=device)\n",
    "            samples = diffusion.sample(batch_size=16, image_size=image_size, y=y_sample)\n",
    "            save_sample_grid(samples, os.path.join(save_dir, f\"sample_epoch_{epoch}.png\"), nrow=4)\n",
    "            torch.save(model.state_dict(), os.path.join(save_dir, f\"model_epoch_{epoch}.pt\"))\n",
    "            print(f\"📸 Échantillons + modèle sauvegardés (epoch {epoch}) dans {save_dir}\")\n"
   ]
  },
  {
   "cell_type": "code",
   "execution_count": 11,
   "metadata": {},
   "outputs": [
    {
     "name": "stderr",
     "output_type": "stream",
     "text": [
      "C:\\Users\\mbell\\AppData\\Local\\Temp\\ipykernel_32048\\3133666572.py:32: UserWarning: Glyph 128201 (\\N{CHART WITH DOWNWARDS TREND}) missing from font(s) DejaVu Sans.\n",
      "  plt.tight_layout()\n"
     ]
    },
    {
     "data": {
      "image/png": "[encoded data removed]",
      "text/plain": [
       "<Figure size 1400x600 with 1 Axes>"
      ]
     },
     "metadata": {},
     "output_type": "display_data"
    }
   ],
   "source": [
    "import matplotlib.pyplot as plt\n",
    "import numpy as np\n",
    "\n",
    "plt.figure(figsize=(14, 6))\n",
    "\n",
    "# Paramètres\n",
    "window = 50  # Moyenne glissante\n",
    "iterations_per_epoch = len(dataloader)  # nombre d'itérations pour 1 epoch\n",
    "\n",
    "# Moyenne glissante\n",
    "smoothed = np.convolve(losses, np.ones(window)/window, mode='valid')\n",
    "\n",
    "# Courbes\n",
    "plt.plot(losses, alpha=0.3, label=\"Loss brute\")\n",
    "plt.plot(range(window - 1, len(losses)), smoothed, color='blue', label=f\"Loss moy. glissante (n={window})\")\n",
    "\n",
    "# Échelle log pour la lisibilité\n",
    "plt.yscale(\"log\")\n",
    "\n",
    "# Lignes verticales aux changements de T (epochs multiples de 10)\n",
    "max_epoch = len(losses) // iterations_per_epoch\n",
    "for e in range(0, max_epoch + 1, 10):\n",
    "    x = e * iterations_per_epoch\n",
    "    plt.axvline(x=x, color='red', linestyle='--', linewidth=1, alpha=0.6, label='Changement T' if e == 0 else None)\n",
    "\n",
    "# Légendes & axes\n",
    "plt.xlabel(\"Itérations\")\n",
    "plt.ylabel(\"Loss MSE (log scale)\")\n",
    "plt.title(\"📉 Courbe de la Loss MSE pendant l'entraînement\")\n",
    "plt.legend()\n",
    "plt.grid(True, which=\"both\", ls=\"--\", lw=0.5)\n",
    "plt.tight_layout()\n",
    "plt.show()\n"
   ]
  },
  {
   "cell_type": "code",
   "execution_count": 12,
   "metadata": {},
   "outputs": [
    {
     "data": {
      "image/png": "[encoded data removed]",
      "text/plain": [
       "<Figure size 1500x300 with 6 Axes>"
      ]
     },
     "metadata": {},
     "output_type": "display_data"
    }
   ],
   "source": [
    "# Générer une image à t=900 (bruit très fort) jusqu'à t=0 (propre)\n",
    "import matplotlib.pyplot as plt\n",
    "\n",
    "t_test = [900, 700, 500, 300, 100, 0]\n",
    "\n",
    "fig, axs = plt.subplots(1, len(t_test), figsize=(15, 3))\n",
    "model.eval()\n",
    "x = torch.randn(1, 3, 32, 32).to(device)\n",
    "\n",
    "for i, t_val in enumerate(t_test):\n",
    "    t_tensor = torch.tensor([t_val], device=device)\n",
    "    x_t = diffusion.p_sample(x, t_tensor, y=torch.tensor([0], device=device))\n",
    "    axs[i].imshow(((x_t.squeeze().detach().cpu().clamp(-1, 1) + 1) / 2).permute(1, 2, 0))\n",
    "    axs[i].axis(\"off\")\n",
    "    axs[i].set_title(f\"t={t_val}\")\n",
    "plt.show()\n"
   ]
  },
  {
   "cell_type": "code",
   "execution_count": 13,
   "metadata": {},
   "outputs": [
    {
     "ename": "TypeError",
     "evalue": "can't convert cuda:0 device type tensor to numpy. Use Tensor.cpu() to copy the tensor to host memory first.",
     "output_type": "error",
     "traceback": [
      "\u001b[1;31m---------------------------------------------------------------------------\u001b[0m",
      "\u001b[1;31mTypeError\u001b[0m                                 Traceback (most recent call last)",
      "Cell \u001b[1;32mIn[13], line 28\u001b[0m\n\u001b[0;32m     26\u001b[0m \u001b[38;5;66;03m# Générées\u001b[39;00m\n\u001b[0;32m     27\u001b[0m plt\u001b[38;5;241m.\u001b[39msubplot(\u001b[38;5;241m1\u001b[39m, \u001b[38;5;241m2\u001b[39m, \u001b[38;5;241m2\u001b[39m)\n\u001b[1;32m---> 28\u001b[0m \u001b[43mplt\u001b[49m\u001b[38;5;241;43m.\u001b[39;49m\u001b[43mimshow\u001b[49m\u001b[43m(\u001b[49m\u001b[43mfake_grid\u001b[49m\u001b[38;5;241;43m.\u001b[39;49m\u001b[43mpermute\u001b[49m\u001b[43m(\u001b[49m\u001b[38;5;241;43m1\u001b[39;49m\u001b[43m,\u001b[49m\u001b[43m \u001b[49m\u001b[38;5;241;43m2\u001b[39;49m\u001b[43m,\u001b[49m\u001b[43m \u001b[49m\u001b[38;5;241;43m0\u001b[39;49m\u001b[43m)\u001b[49m\u001b[43m)\u001b[49m\n\u001b[0;32m     29\u001b[0m plt\u001b[38;5;241m.\u001b[39mtitle(\u001b[38;5;124m\"\u001b[39m\u001b[38;5;124m🎨 Cerfs générés (DDPM)\u001b[39m\u001b[38;5;124m\"\u001b[39m)\n\u001b[0;32m     30\u001b[0m plt\u001b[38;5;241m.\u001b[39maxis(\u001b[38;5;124m\"\u001b[39m\u001b[38;5;124moff\u001b[39m\u001b[38;5;124m\"\u001b[39m)\n",
      "File \u001b[1;32m~\\AppData\\Local\\Packages\\PythonSoftwareFoundation.Python.3.11_qbz5n2kfra8p0\\LocalCache\\local-packages\\Python311\\site-packages\\matplotlib\\pyplot.py:3592\u001b[0m, in \u001b[0;36mimshow\u001b[1;34m(X, cmap, norm, aspect, interpolation, alpha, vmin, vmax, colorizer, origin, extent, interpolation_stage, filternorm, filterrad, resample, url, data, **kwargs)\u001b[0m\n\u001b[0;32m   3570\u001b[0m \u001b[38;5;129m@_copy_docstring_and_deprecators\u001b[39m(Axes\u001b[38;5;241m.\u001b[39mimshow)\n\u001b[0;32m   3571\u001b[0m \u001b[38;5;28;01mdef\u001b[39;00m\u001b[38;5;250m \u001b[39m\u001b[38;5;21mimshow\u001b[39m(\n\u001b[0;32m   3572\u001b[0m     X: ArrayLike \u001b[38;5;241m|\u001b[39m PIL\u001b[38;5;241m.\u001b[39mImage\u001b[38;5;241m.\u001b[39mImage,\n\u001b[1;32m   (...)\u001b[0m\n\u001b[0;32m   3590\u001b[0m     \u001b[38;5;241m*\u001b[39m\u001b[38;5;241m*\u001b[39mkwargs,\n\u001b[0;32m   3591\u001b[0m ) \u001b[38;5;241m-\u001b[39m\u001b[38;5;241m>\u001b[39m AxesImage:\n\u001b[1;32m-> 3592\u001b[0m     __ret \u001b[38;5;241m=\u001b[39m \u001b[43mgca\u001b[49m\u001b[43m(\u001b[49m\u001b[43m)\u001b[49m\u001b[38;5;241;43m.\u001b[39;49m\u001b[43mimshow\u001b[49m\u001b[43m(\u001b[49m\n\u001b[0;32m   3593\u001b[0m \u001b[43m        \u001b[49m\u001b[43mX\u001b[49m\u001b[43m,\u001b[49m\n\u001b[0;32m   3594\u001b[0m \u001b[43m        \u001b[49m\u001b[43mcmap\u001b[49m\u001b[38;5;241;43m=\u001b[39;49m\u001b[43mcmap\u001b[49m\u001b[43m,\u001b[49m\n\u001b[0;32m   3595\u001b[0m \u001b[43m        \u001b[49m\u001b[43mnorm\u001b[49m\u001b[38;5;241;43m=\u001b[39;49m\u001b[43mnorm\u001b[49m\u001b[43m,\u001b[49m\n\u001b[0;32m   3596\u001b[0m \u001b[43m        \u001b[49m\u001b[43maspect\u001b[49m\u001b[38;5;241;43m=\u001b[39;49m\u001b[43maspect\u001b[49m\u001b[43m,\u001b[49m\n\u001b[0;32m   3597\u001b[0m \u001b[43m        \u001b[49m\u001b[43minterpolation\u001b[49m\u001b[38;5;241;43m=\u001b[39;49m\u001b[43minterpolation\u001b[49m\u001b[43m,\u001b[49m\n\u001b[0;32m   3598\u001b[0m \u001b[43m        \u001b[49m\u001b[43malpha\u001b[49m\u001b[38;5;241;43m=\u001b[39;49m\u001b[43malpha\u001b[49m\u001b[43m,\u001b[49m\n\u001b[0;32m   3599\u001b[0m \u001b[43m        \u001b[49m\u001b[43mvmin\u001b[49m\u001b[38;5;241;43m=\u001b[39;49m\u001b[43mvmin\u001b[49m\u001b[43m,\u001b[49m\n\u001b[0;32m   3600\u001b[0m \u001b[43m        \u001b[49m\u001b[43mvmax\u001b[49m\u001b[38;5;241;43m=\u001b[39;49m\u001b[43mvmax\u001b[49m\u001b[43m,\u001b[49m\n\u001b[0;32m   3601\u001b[0m \u001b[43m        \u001b[49m\u001b[43mcolorizer\u001b[49m\u001b[38;5;241;43m=\u001b[39;49m\u001b[43mcolorizer\u001b[49m\u001b[43m,\u001b[49m\n\u001b[0;32m   3602\u001b[0m \u001b[43m        \u001b[49m\u001b[43morigin\u001b[49m\u001b[38;5;241;43m=\u001b[39;49m\u001b[43morigin\u001b[49m\u001b[43m,\u001b[49m\n\u001b[0;32m   3603\u001b[0m \u001b[43m        \u001b[49m\u001b[43mextent\u001b[49m\u001b[38;5;241;43m=\u001b[39;49m\u001b[43mextent\u001b[49m\u001b[43m,\u001b[49m\n\u001b[0;32m   3604\u001b[0m \u001b[43m        \u001b[49m\u001b[43minterpolation_stage\u001b[49m\u001b[38;5;241;43m=\u001b[39;49m\u001b[43minterpolation_stage\u001b[49m\u001b[43m,\u001b[49m\n\u001b[0;32m   3605\u001b[0m \u001b[43m        \u001b[49m\u001b[43mfilternorm\u001b[49m\u001b[38;5;241;43m=\u001b[39;49m\u001b[43mfilternorm\u001b[49m\u001b[43m,\u001b[49m\n\u001b[0;32m   3606\u001b[0m \u001b[43m        \u001b[49m\u001b[43mfilterrad\u001b[49m\u001b[38;5;241;43m=\u001b[39;49m\u001b[43mfilterrad\u001b[49m\u001b[43m,\u001b[49m\n\u001b[0;32m   3607\u001b[0m \u001b[43m        \u001b[49m\u001b[43mresample\u001b[49m\u001b[38;5;241;43m=\u001b[39;49m\u001b[43mresample\u001b[49m\u001b[43m,\u001b[49m\n\u001b[0;32m   3608\u001b[0m \u001b[43m        \u001b[49m\u001b[43murl\u001b[49m\u001b[38;5;241;43m=\u001b[39;49m\u001b[43murl\u001b[49m\u001b[43m,\u001b[49m\n\u001b[0;32m   3609\u001b[0m \u001b[43m        \u001b[49m\u001b[38;5;241;43m*\u001b[39;49m\u001b[38;5;241;43m*\u001b[39;49m\u001b[43m(\u001b[49m\u001b[43m{\u001b[49m\u001b[38;5;124;43m\"\u001b[39;49m\u001b[38;5;124;43mdata\u001b[39;49m\u001b[38;5;124;43m\"\u001b[39;49m\u001b[43m:\u001b[49m\u001b[43m \u001b[49m\u001b[43mdata\u001b[49m\u001b[43m}\u001b[49m\u001b[43m \u001b[49m\u001b[38;5;28;43;01mif\u001b[39;49;00m\u001b[43m \u001b[49m\u001b[43mdata\u001b[49m\u001b[43m \u001b[49m\u001b[38;5;129;43;01mis\u001b[39;49;00m\u001b[43m \u001b[49m\u001b[38;5;129;43;01mnot\u001b[39;49;00m\u001b[43m \u001b[49m\u001b[38;5;28;43;01mNone\u001b[39;49;00m\u001b[43m \u001b[49m\u001b[38;5;28;43;01melse\u001b[39;49;00m\u001b[43m \u001b[49m\u001b[43m{\u001b[49m\u001b[43m}\u001b[49m\u001b[43m)\u001b[49m\u001b[43m,\u001b[49m\n\u001b[0;32m   3610\u001b[0m \u001b[43m        \u001b[49m\u001b[38;5;241;43m*\u001b[39;49m\u001b[38;5;241;43m*\u001b[39;49m\u001b[43mkwargs\u001b[49m\u001b[43m,\u001b[49m\n\u001b[0;32m   3611\u001b[0m \u001b[43m    \u001b[49m\u001b[43m)\u001b[49m\n\u001b[0;32m   3612\u001b[0m     sci(__ret)\n\u001b[0;32m   3613\u001b[0m     \u001b[38;5;28;01mreturn\u001b[39;00m __ret\n",
      "File \u001b[1;32m~\\AppData\\Local\\Packages\\PythonSoftwareFoundation.Python.3.11_qbz5n2kfra8p0\\LocalCache\\local-packages\\Python311\\site-packages\\matplotlib\\__init__.py:1521\u001b[0m, in \u001b[0;36m_preprocess_data.<locals>.inner\u001b[1;34m(ax, data, *args, **kwargs)\u001b[0m\n\u001b[0;32m   1518\u001b[0m \u001b[38;5;129m@functools\u001b[39m\u001b[38;5;241m.\u001b[39mwraps(func)\n\u001b[0;32m   1519\u001b[0m \u001b[38;5;28;01mdef\u001b[39;00m\u001b[38;5;250m \u001b[39m\u001b[38;5;21minner\u001b[39m(ax, \u001b[38;5;241m*\u001b[39margs, data\u001b[38;5;241m=\u001b[39m\u001b[38;5;28;01mNone\u001b[39;00m, \u001b[38;5;241m*\u001b[39m\u001b[38;5;241m*\u001b[39mkwargs):\n\u001b[0;32m   1520\u001b[0m     \u001b[38;5;28;01mif\u001b[39;00m data \u001b[38;5;129;01mis\u001b[39;00m \u001b[38;5;28;01mNone\u001b[39;00m:\n\u001b[1;32m-> 1521\u001b[0m         \u001b[38;5;28;01mreturn\u001b[39;00m \u001b[43mfunc\u001b[49m\u001b[43m(\u001b[49m\n\u001b[0;32m   1522\u001b[0m \u001b[43m            \u001b[49m\u001b[43max\u001b[49m\u001b[43m,\u001b[49m\n\u001b[0;32m   1523\u001b[0m \u001b[43m            \u001b[49m\u001b[38;5;241;43m*\u001b[39;49m\u001b[38;5;28;43mmap\u001b[39;49m\u001b[43m(\u001b[49m\u001b[43mcbook\u001b[49m\u001b[38;5;241;43m.\u001b[39;49m\u001b[43msanitize_sequence\u001b[49m\u001b[43m,\u001b[49m\u001b[43m \u001b[49m\u001b[43margs\u001b[49m\u001b[43m)\u001b[49m\u001b[43m,\u001b[49m\n\u001b[0;32m   1524\u001b[0m \u001b[43m            \u001b[49m\u001b[38;5;241;43m*\u001b[39;49m\u001b[38;5;241;43m*\u001b[39;49m\u001b[43m{\u001b[49m\u001b[43mk\u001b[49m\u001b[43m:\u001b[49m\u001b[43m \u001b[49m\u001b[43mcbook\u001b[49m\u001b[38;5;241;43m.\u001b[39;49m\u001b[43msanitize_sequence\u001b[49m\u001b[43m(\u001b[49m\u001b[43mv\u001b[49m\u001b[43m)\u001b[49m\u001b[43m \u001b[49m\u001b[38;5;28;43;01mfor\u001b[39;49;00m\u001b[43m \u001b[49m\u001b[43mk\u001b[49m\u001b[43m,\u001b[49m\u001b[43m \u001b[49m\u001b[43mv\u001b[49m\u001b[43m \u001b[49m\u001b[38;5;129;43;01min\u001b[39;49;00m\u001b[43m \u001b[49m\u001b[43mkwargs\u001b[49m\u001b[38;5;241;43m.\u001b[39;49m\u001b[43mitems\u001b[49m\u001b[43m(\u001b[49m\u001b[43m)\u001b[49m\u001b[43m}\u001b[49m\u001b[43m)\u001b[49m\n\u001b[0;32m   1526\u001b[0m     bound \u001b[38;5;241m=\u001b[39m new_sig\u001b[38;5;241m.\u001b[39mbind(ax, \u001b[38;5;241m*\u001b[39margs, \u001b[38;5;241m*\u001b[39m\u001b[38;5;241m*\u001b[39mkwargs)\n\u001b[0;32m   1527\u001b[0m     auto_label \u001b[38;5;241m=\u001b[39m (bound\u001b[38;5;241m.\u001b[39marguments\u001b[38;5;241m.\u001b[39mget(label_namer)\n\u001b[0;32m   1528\u001b[0m                   \u001b[38;5;129;01mor\u001b[39;00m bound\u001b[38;5;241m.\u001b[39mkwargs\u001b[38;5;241m.\u001b[39mget(label_namer))\n",
      "File \u001b[1;32m~\\AppData\\Local\\Packages\\PythonSoftwareFoundation.Python.3.11_qbz5n2kfra8p0\\LocalCache\\local-packages\\Python311\\site-packages\\matplotlib\\axes\\_axes.py:5945\u001b[0m, in \u001b[0;36mAxes.imshow\u001b[1;34m(self, X, cmap, norm, aspect, interpolation, alpha, vmin, vmax, colorizer, origin, extent, interpolation_stage, filternorm, filterrad, resample, url, **kwargs)\u001b[0m\n\u001b[0;32m   5942\u001b[0m \u001b[38;5;28;01mif\u001b[39;00m aspect \u001b[38;5;129;01mis\u001b[39;00m \u001b[38;5;129;01mnot\u001b[39;00m \u001b[38;5;28;01mNone\u001b[39;00m:\n\u001b[0;32m   5943\u001b[0m     \u001b[38;5;28mself\u001b[39m\u001b[38;5;241m.\u001b[39mset_aspect(aspect)\n\u001b[1;32m-> 5945\u001b[0m \u001b[43mim\u001b[49m\u001b[38;5;241;43m.\u001b[39;49m\u001b[43mset_data\u001b[49m\u001b[43m(\u001b[49m\u001b[43mX\u001b[49m\u001b[43m)\u001b[49m\n\u001b[0;32m   5946\u001b[0m im\u001b[38;5;241m.\u001b[39mset_alpha(alpha)\n\u001b[0;32m   5947\u001b[0m \u001b[38;5;28;01mif\u001b[39;00m im\u001b[38;5;241m.\u001b[39mget_clip_path() \u001b[38;5;129;01mis\u001b[39;00m \u001b[38;5;28;01mNone\u001b[39;00m:\n\u001b[0;32m   5948\u001b[0m     \u001b[38;5;66;03m# image does not already have clipping set, clip to Axes patch\u001b[39;00m\n",
      "File \u001b[1;32m~\\AppData\\Local\\Packages\\PythonSoftwareFoundation.Python.3.11_qbz5n2kfra8p0\\LocalCache\\local-packages\\Python311\\site-packages\\matplotlib\\image.py:675\u001b[0m, in \u001b[0;36m_ImageBase.set_data\u001b[1;34m(self, A)\u001b[0m\n\u001b[0;32m    673\u001b[0m \u001b[38;5;28;01mif\u001b[39;00m \u001b[38;5;28misinstance\u001b[39m(A, PIL\u001b[38;5;241m.\u001b[39mImage\u001b[38;5;241m.\u001b[39mImage):\n\u001b[0;32m    674\u001b[0m     A \u001b[38;5;241m=\u001b[39m pil_to_array(A)  \u001b[38;5;66;03m# Needed e.g. to apply png palette.\u001b[39;00m\n\u001b[1;32m--> 675\u001b[0m \u001b[38;5;28mself\u001b[39m\u001b[38;5;241m.\u001b[39m_A \u001b[38;5;241m=\u001b[39m \u001b[38;5;28;43mself\u001b[39;49m\u001b[38;5;241;43m.\u001b[39;49m\u001b[43m_normalize_image_array\u001b[49m\u001b[43m(\u001b[49m\u001b[43mA\u001b[49m\u001b[43m)\u001b[49m\n\u001b[0;32m    676\u001b[0m \u001b[38;5;28mself\u001b[39m\u001b[38;5;241m.\u001b[39m_imcache \u001b[38;5;241m=\u001b[39m \u001b[38;5;28;01mNone\u001b[39;00m\n\u001b[0;32m    677\u001b[0m \u001b[38;5;28mself\u001b[39m\u001b[38;5;241m.\u001b[39mstale \u001b[38;5;241m=\u001b[39m \u001b[38;5;28;01mTrue\u001b[39;00m\n",
      "File \u001b[1;32m~\\AppData\\Local\\Packages\\PythonSoftwareFoundation.Python.3.11_qbz5n2kfra8p0\\LocalCache\\local-packages\\Python311\\site-packages\\matplotlib\\image.py:636\u001b[0m, in \u001b[0;36m_ImageBase._normalize_image_array\u001b[1;34m(A)\u001b[0m\n\u001b[0;32m    630\u001b[0m \u001b[38;5;129m@staticmethod\u001b[39m\n\u001b[0;32m    631\u001b[0m \u001b[38;5;28;01mdef\u001b[39;00m\u001b[38;5;250m \u001b[39m\u001b[38;5;21m_normalize_image_array\u001b[39m(A):\n\u001b[0;32m    632\u001b[0m \u001b[38;5;250m    \u001b[39m\u001b[38;5;124;03m\"\"\"\u001b[39;00m\n\u001b[0;32m    633\u001b[0m \u001b[38;5;124;03m    Check validity of image-like input *A* and normalize it to a format suitable for\u001b[39;00m\n\u001b[0;32m    634\u001b[0m \u001b[38;5;124;03m    Image subclasses.\u001b[39;00m\n\u001b[0;32m    635\u001b[0m \u001b[38;5;124;03m    \"\"\"\u001b[39;00m\n\u001b[1;32m--> 636\u001b[0m     A \u001b[38;5;241m=\u001b[39m \u001b[43mcbook\u001b[49m\u001b[38;5;241;43m.\u001b[39;49m\u001b[43msafe_masked_invalid\u001b[49m\u001b[43m(\u001b[49m\u001b[43mA\u001b[49m\u001b[43m,\u001b[49m\u001b[43m \u001b[49m\u001b[43mcopy\u001b[49m\u001b[38;5;241;43m=\u001b[39;49m\u001b[38;5;28;43;01mTrue\u001b[39;49;00m\u001b[43m)\u001b[49m\n\u001b[0;32m    637\u001b[0m     \u001b[38;5;28;01mif\u001b[39;00m A\u001b[38;5;241m.\u001b[39mdtype \u001b[38;5;241m!=\u001b[39m np\u001b[38;5;241m.\u001b[39muint8 \u001b[38;5;129;01mand\u001b[39;00m \u001b[38;5;129;01mnot\u001b[39;00m np\u001b[38;5;241m.\u001b[39mcan_cast(A\u001b[38;5;241m.\u001b[39mdtype, \u001b[38;5;28mfloat\u001b[39m, \u001b[38;5;124m\"\u001b[39m\u001b[38;5;124msame_kind\u001b[39m\u001b[38;5;124m\"\u001b[39m):\n\u001b[0;32m    638\u001b[0m         \u001b[38;5;28;01mraise\u001b[39;00m \u001b[38;5;167;01mTypeError\u001b[39;00m(\u001b[38;5;124mf\u001b[39m\u001b[38;5;124m\"\u001b[39m\u001b[38;5;124mImage data of dtype \u001b[39m\u001b[38;5;132;01m{\u001b[39;00mA\u001b[38;5;241m.\u001b[39mdtype\u001b[38;5;132;01m}\u001b[39;00m\u001b[38;5;124m cannot be \u001b[39m\u001b[38;5;124m\"\u001b[39m\n\u001b[0;32m    639\u001b[0m                         \u001b[38;5;124mf\u001b[39m\u001b[38;5;124m\"\u001b[39m\u001b[38;5;124mconverted to float\u001b[39m\u001b[38;5;124m\"\u001b[39m)\n",
      "File \u001b[1;32m~\\AppData\\Local\\Packages\\PythonSoftwareFoundation.Python.3.11_qbz5n2kfra8p0\\LocalCache\\local-packages\\Python311\\site-packages\\matplotlib\\cbook.py:684\u001b[0m, in \u001b[0;36msafe_masked_invalid\u001b[1;34m(x, copy)\u001b[0m\n\u001b[0;32m    683\u001b[0m \u001b[38;5;28;01mdef\u001b[39;00m\u001b[38;5;250m \u001b[39m\u001b[38;5;21msafe_masked_invalid\u001b[39m(x, copy\u001b[38;5;241m=\u001b[39m\u001b[38;5;28;01mFalse\u001b[39;00m):\n\u001b[1;32m--> 684\u001b[0m     x \u001b[38;5;241m=\u001b[39m np\u001b[38;5;241m.\u001b[39marray(x, subok\u001b[38;5;241m=\u001b[39m\u001b[38;5;28;01mTrue\u001b[39;00m, copy\u001b[38;5;241m=\u001b[39mcopy)\n\u001b[0;32m    685\u001b[0m     \u001b[38;5;28;01mif\u001b[39;00m \u001b[38;5;129;01mnot\u001b[39;00m x\u001b[38;5;241m.\u001b[39mdtype\u001b[38;5;241m.\u001b[39misnative:\n\u001b[0;32m    686\u001b[0m         \u001b[38;5;66;03m# If we have already made a copy, do the byteswap in place, else make a\u001b[39;00m\n\u001b[0;32m    687\u001b[0m         \u001b[38;5;66;03m# copy with the byte order swapped.\u001b[39;00m\n\u001b[0;32m    688\u001b[0m         \u001b[38;5;66;03m# Swap to native order.\u001b[39;00m\n\u001b[0;32m    689\u001b[0m         x \u001b[38;5;241m=\u001b[39m x\u001b[38;5;241m.\u001b[39mbyteswap(inplace\u001b[38;5;241m=\u001b[39mcopy)\u001b[38;5;241m.\u001b[39mview(x\u001b[38;5;241m.\u001b[39mdtype\u001b[38;5;241m.\u001b[39mnewbyteorder(\u001b[38;5;124m'\u001b[39m\u001b[38;5;124mN\u001b[39m\u001b[38;5;124m'\u001b[39m))\n",
      "File \u001b[1;32m~\\AppData\\Local\\Packages\\PythonSoftwareFoundation.Python.3.11_qbz5n2kfra8p0\\LocalCache\\local-packages\\Python311\\site-packages\\torch\\_tensor.py:1194\u001b[0m, in \u001b[0;36mTensor.__array__\u001b[1;34m(self, dtype)\u001b[0m\n\u001b[0;32m   1192\u001b[0m     \u001b[38;5;28;01mreturn\u001b[39;00m handle_torch_function(Tensor\u001b[38;5;241m.\u001b[39m__array__, (\u001b[38;5;28mself\u001b[39m,), \u001b[38;5;28mself\u001b[39m, dtype\u001b[38;5;241m=\u001b[39mdtype)\n\u001b[0;32m   1193\u001b[0m \u001b[38;5;28;01mif\u001b[39;00m dtype \u001b[38;5;129;01mis\u001b[39;00m \u001b[38;5;28;01mNone\u001b[39;00m:\n\u001b[1;32m-> 1194\u001b[0m     \u001b[38;5;28;01mreturn\u001b[39;00m \u001b[38;5;28;43mself\u001b[39;49m\u001b[38;5;241;43m.\u001b[39;49m\u001b[43mnumpy\u001b[49m\u001b[43m(\u001b[49m\u001b[43m)\u001b[49m\n\u001b[0;32m   1195\u001b[0m \u001b[38;5;28;01melse\u001b[39;00m:\n\u001b[0;32m   1196\u001b[0m     \u001b[38;5;28;01mreturn\u001b[39;00m \u001b[38;5;28mself\u001b[39m\u001b[38;5;241m.\u001b[39mnumpy()\u001b[38;5;241m.\u001b[39mastype(dtype, copy\u001b[38;5;241m=\u001b[39m\u001b[38;5;28;01mFalse\u001b[39;00m)\n",
      "\u001b[1;31mTypeError\u001b[0m: can't convert cuda:0 device type tensor to numpy. Use Tensor.cpu() to copy the tensor to host memory first."
     ]
    },
    {
     "data": {
      "image/png": "[encoded data removed]",
      "text/plain": [
       "<Figure size 1200x600 with 2 Axes>"
      ]
     },
     "metadata": {},
     "output_type": "display_data"
    }
   ],
   "source": [
    "import matplotlib.pyplot as plt\n",
    "import torchvision\n",
    "\n",
    "# 🔹 1. Affichage d'un batch d'images réelles (cerfs)\n",
    "real_images, real_labels = next(iter(dataloader))\n",
    "real_images = (real_images * 0.5) + 0.5  # Dé-normaliser [-1,1] → [0,1]\n",
    "real_grid = torchvision.utils.make_grid(real_images[:16], nrow=4)\n",
    "\n",
    "# 🔹 2. Génération d'un batch de cerfs synthétiques\n",
    "model.eval()\n",
    "with torch.no_grad():\n",
    "    y_sample = torch.zeros(16, dtype=torch.long, device=device)  # Tous cerfs (label 0)\n",
    "    fake_images = diffusion.sample(batch_size=16, image_size=image_size, y=y_sample)\n",
    "    fake_images = (fake_images.clamp(-1, 1) + 1) / 2\n",
    "    fake_grid = torchvision.utils.make_grid(fake_images, nrow=4)\n",
    "\n",
    "# 🔹 3. Affichage\n",
    "plt.figure(figsize=(12, 6))\n",
    "\n",
    "# Vraies images\n",
    "plt.subplot(1, 2, 1)\n",
    "plt.imshow(real_grid.permute(1, 2, 0))\n",
    "plt.title(\"📸 Vrais cerfs (dataset)\")\n",
    "plt.axis(\"off\")\n",
    "\n",
    "# Générées\n",
    "plt.subplot(1, 2, 2)\n",
    "plt.imshow(fake_grid.permute(1, 2, 0))\n",
    "plt.title(\"🎨 Cerfs générés (DDPM)\")\n",
    "plt.axis(\"off\")\n",
    "\n",
    "plt.tight_layout()\n",
    "plt.show()\n"
   ]
  },
  {
   "cell_type": "code",
   "execution_count": 5,
   "metadata": {},
   "outputs": [
    {
     "name": "stdout",
     "output_type": "stream",
     "text": [
      "✅ Modèle chargé depuis model_epoch_100.pt\n",
      "🔧 Diffusion mise à jour : 1000 étapes\n"
     ]
    },
    {
     "data": {
      "application/vnd.jupyter.widget-view+json": {
       "model_id": "8c7fa81054304e14a2895834465e116e",
       "version_major": 2,
       "version_minor": 0
      },
      "text/plain": [
       "Epoch 100/150 | Timesteps: 1000 | Sample t ∈ [0,1000):   0%|          | 0/79 [00:00<?, ?it/s]"
      ]
     },
     "metadata": {},
     "output_type": "display_data"
    },
    {
     "name": "stdout",
     "output_type": "stream",
     "text": [
      "🔁 Epoch 100 terminé — Moyenne loss : 0.1057\n",
      "📸 Échantillons + modèle sauvegardés (epoch 100) dans results\n"
     ]
    },
    {
     "data": {
      "application/vnd.jupyter.widget-view+json": {
       "model_id": "ad19f99f3e274c138980e2a1f9c66583",
       "version_major": 2,
       "version_minor": 0
      },
      "text/plain": [
       "Epoch 101/150 | Timesteps: 1000 | Sample t ∈ [0,999):   0%|          | 0/79 [00:00<?, ?it/s]"
      ]
     },
     "metadata": {},
     "output_type": "display_data"
    },
    {
     "name": "stdout",
     "output_type": "stream",
     "text": [
      "🔁 Epoch 101 terminé — Moyenne loss : 0.0357\n"
     ]
    },
    {
     "data": {
      "application/vnd.jupyter.widget-view+json": {
       "model_id": "964609299961474aa4477349a51250f4",
       "version_major": 2,
       "version_minor": 0
      },
      "text/plain": [
       "Epoch 102/150 | Timesteps: 1000 | Sample t ∈ [0,999):   0%|          | 0/79 [00:00<?, ?it/s]"
      ]
     },
     "metadata": {},
     "output_type": "display_data"
    },
    {
     "name": "stdout",
     "output_type": "stream",
     "text": [
      "🔁 Epoch 102 terminé — Moyenne loss : 0.0327\n"
     ]
    },
    {
     "data": {
      "application/vnd.jupyter.widget-view+json": {
       "model_id": "286f6056cdcc4c5da3f1e62e0fa6dd9e",
       "version_major": 2,
       "version_minor": 0
      },
      "text/plain": [
       "Epoch 103/150 | Timesteps: 1000 | Sample t ∈ [0,999):   0%|          | 0/79 [00:00<?, ?it/s]"
      ]
     },
     "metadata": {},
     "output_type": "display_data"
    },
    {
     "ename": "KeyboardInterrupt",
     "evalue": "",
     "output_type": "error",
     "traceback": [
      "\u001b[1;31m---------------------------------------------------------------------------\u001b[0m",
      "\u001b[1;31mKeyboardInterrupt\u001b[0m                         Traceback (most recent call last)",
      "Cell \u001b[1;32mIn[5], line 44\u001b[0m\n\u001b[0;32m     41\u001b[0m torch\u001b[38;5;241m.\u001b[39mnn\u001b[38;5;241m.\u001b[39mutils\u001b[38;5;241m.\u001b[39mclip_grad_norm_(model\u001b[38;5;241m.\u001b[39mparameters(), max_norm\u001b[38;5;241m=\u001b[39m\u001b[38;5;241m1.0\u001b[39m)  \u001b[38;5;66;03m# stabilisation\u001b[39;00m\n\u001b[0;32m     42\u001b[0m optimizer\u001b[38;5;241m.\u001b[39mstep()\n\u001b[1;32m---> 44\u001b[0m loop\u001b[38;5;241m.\u001b[39mset_postfix(loss\u001b[38;5;241m=\u001b[39m\u001b[43mloss\u001b[49m\u001b[38;5;241;43m.\u001b[39;49m\u001b[43mitem\u001b[49m\u001b[43m(\u001b[49m\u001b[43m)\u001b[49m)\n\u001b[0;32m     45\u001b[0m epoch_losses\u001b[38;5;241m.\u001b[39mappend(loss\u001b[38;5;241m.\u001b[39mitem())\n\u001b[0;32m     46\u001b[0m losses\u001b[38;5;241m.\u001b[39mappend(loss\u001b[38;5;241m.\u001b[39mitem())  \u001b[38;5;66;03m# 👈 tu peux garder la liste si tu veux tracer après\u001b[39;00m\n",
      "\u001b[1;31mKeyboardInterrupt\u001b[0m: "
     ]
    }
   ],
   "source": [
    "from tqdm.notebook import tqdm\n",
    "import torch.nn.utils\n",
    "\n",
    "start_epoch = 100\n",
    "epochs = 150  \n",
    "timestep_final = 1000\n",
    "current_max_sample_t = 1000  # 🔁 à l'epoch 95, t allait jusqu'à 998\n",
    "lr = 2e-4\n",
    "\n",
    "# ✅ Recharger modèle\n",
    "model = UNetConditional(in_channels=3, base_channels=64, time_emb_dim=256, class_emb_dim=128, num_classes=num_classes).to(device)\n",
    "model.load_state_dict(torch.load(\"model_epoch_100.pt\", map_location=device))\n",
    "print(\"✅ Modèle chargé depuis model_epoch_100.pt\")\n",
    "\n",
    "# 🔁 Créer diffusion avec T=1000\n",
    "diffusion = GaussianDiffusion(model, timesteps=timestep_final, device=device)\n",
    "\n",
    "# 🔄 Optimiseur\n",
    "optimizer = torch.optim.Adam(model.parameters(), lr=lr)\n",
    "\n",
    "losses = []\n",
    "\n",
    "# 🔂 Boucle d'entraînement (suite)\n",
    "for epoch in range(start_epoch, epochs + 1):\n",
    "    model.train()\n",
    "    epoch_losses = []\n",
    "\n",
    "    loop = tqdm(dataloader, desc=f\"Epoch {epoch}/{epochs} | Timesteps: {diffusion.timesteps} | Sample t ∈ [0,{current_max_sample_t})\")\n",
    "\n",
    "    for x, y in loop:\n",
    "        x, y = x.to(device), y.to(device)\n",
    "        t = torch.randint(0, min(current_max_sample_t, diffusion.timesteps - 1), (x.size(0),), device=device).long()\n",
    "        noise = torch.randn_like(x)\n",
    "        x_t = diffusion.q_sample(x, t, noise)\n",
    "\n",
    "        noise_pred = model(x_t, t, y)\n",
    "        loss = F.mse_loss(noise_pred, noise)\n",
    "\n",
    "        optimizer.zero_grad()\n",
    "        loss.backward()\n",
    "        torch.nn.utils.clip_grad_norm_(model.parameters(), max_norm=1.0)  # stabilisation\n",
    "        optimizer.step()\n",
    "\n",
    "        loop.set_postfix(loss=loss.item())\n",
    "        epoch_losses.append(loss.item())\n",
    "        losses.append(loss.item())  # 👈 tu peux garder la liste si tu veux tracer après\n",
    "\n",
    "    avg_loss = sum(epoch_losses) / len(epoch_losses)\n",
    "    print(f\"🔁 Epoch {epoch} terminé — Moyenne loss : {avg_loss:.4f}\")\n",
    "\n",
    "    # 🔼 Progression douce vers T\n",
    "    if epoch == 96:\n",
    "        current_max_sample_t = 999\n",
    "    elif epoch == 97:\n",
    "        current_max_sample_t = 1000\n",
    "    elif epoch >= 98:\n",
    "        current_max_sample_t = min(current_max_sample_t, diffusion.timesteps - 1)\n",
    "\n",
    "    # 🖼️ Échantillonnage toutes les 5 epochs\n",
    "    if epoch % 5 == 0:\n",
    "        model.eval()\n",
    "        with torch.no_grad():\n",
    "            y_sample = torch.tensor([0] * 16, device=device)\n",
    "            samples = diffusion.sample(batch_size=16, image_size=image_size, y=y_sample)\n",
    "            save_sample_grid(samples, os.path.join(save_dir, f\"sample_epoch_{epoch}.png\"), nrow=4)\n",
    "            torch.save(model.state_dict(), os.path.join(save_dir, f\"model_epoch_{epoch}.pt\"))\n",
    "            print(f\"📸 Échantillons + modèle sauvegardés (epoch {epoch}) dans {save_dir}\")\n"
   ]
  },
  {
   "cell_type": "code",
   "execution_count": 7,
   "metadata": {},
   "outputs": [
    {
     "name": "stdout",
     "output_type": "stream",
     "text": [
      "✅ Modèle chargé depuis model_epoch_100.pt\n",
      "🔧 Diffusion mise à jour : 1000 étapes\n"
     ]
    },
    {
     "data": {
      "application/vnd.jupyter.widget-view+json": {
       "model_id": "291500b6cf904596a66224decdbe4d85",
       "version_major": 2,
       "version_minor": 0
      },
      "text/plain": [
       "Epoch 100/150 | Timesteps: 1000 | t ∈ [0,1000):   0%|          | 0/79 [00:00<?, ?it/s]"
      ]
     },
     "metadata": {},
     "output_type": "display_data"
    },
    {
     "name": "stdout",
     "output_type": "stream",
     "text": [
      "🔁 Epoch 100 terminé — Moyenne loss : 0.0898\n",
      "📸 Échantillons + modèle sauvegardés (epoch 100) dans results\n"
     ]
    },
    {
     "data": {
      "application/vnd.jupyter.widget-view+json": {
       "model_id": "463744da40ea4f17840a7d3b35a8dc04",
       "version_major": 2,
       "version_minor": 0
      },
      "text/plain": [
       "Epoch 101/150 | Timesteps: 1000 | t ∈ [0,1000):   0%|          | 0/79 [00:00<?, ?it/s]"
      ]
     },
     "metadata": {},
     "output_type": "display_data"
    },
    {
     "name": "stdout",
     "output_type": "stream",
     "text": [
      "🔁 Epoch 101 terminé — Moyenne loss : 0.0333\n"
     ]
    },
    {
     "data": {
      "application/vnd.jupyter.widget-view+json": {
       "model_id": "b0ab47f9cd8c4243a1cde616b0b89157",
       "version_major": 2,
       "version_minor": 0
      },
      "text/plain": [
       "Epoch 102/150 | Timesteps: 1000 | t ∈ [0,1000):   0%|          | 0/79 [00:00<?, ?it/s]"
      ]
     },
     "metadata": {},
     "output_type": "display_data"
    },
    {
     "name": "stdout",
     "output_type": "stream",
     "text": [
      "🔁 Epoch 102 terminé — Moyenne loss : 0.0351\n"
     ]
    },
    {
     "data": {
      "application/vnd.jupyter.widget-view+json": {
       "model_id": "b8bb8e610bb64dc0a0bc0dd4959f82ee",
       "version_major": 2,
       "version_minor": 0
      },
      "text/plain": [
       "Epoch 103/150 | Timesteps: 1000 | t ∈ [0,1000):   0%|          | 0/79 [00:00<?, ?it/s]"
      ]
     },
     "metadata": {},
     "output_type": "display_data"
    },
    {
     "name": "stdout",
     "output_type": "stream",
     "text": [
      "🔁 Epoch 103 terminé — Moyenne loss : 0.0316\n"
     ]
    },
    {
     "data": {
      "application/vnd.jupyter.widget-view+json": {
       "model_id": "1cff974b48754d61965c5afde230485a",
       "version_major": 2,
       "version_minor": 0
      },
      "text/plain": [
       "Epoch 104/150 | Timesteps: 1000 | t ∈ [0,1000):   0%|          | 0/79 [00:00<?, ?it/s]"
      ]
     },
     "metadata": {},
     "output_type": "display_data"
    },
    {
     "name": "stdout",
     "output_type": "stream",
     "text": [
      "🔁 Epoch 104 terminé — Moyenne loss : 0.0331\n"
     ]
    },
    {
     "data": {
      "application/vnd.jupyter.widget-view+json": {
       "model_id": "3db4e032fadf4a66a564a0d03bc138fb",
       "version_major": 2,
       "version_minor": 0
      },
      "text/plain": [
       "Epoch 105/150 | Timesteps: 1000 | t ∈ [0,1000):   0%|          | 0/79 [00:00<?, ?it/s]"
      ]
     },
     "metadata": {},
     "output_type": "display_data"
    },
    {
     "name": "stdout",
     "output_type": "stream",
     "text": [
      "🔁 Epoch 105 terminé — Moyenne loss : 0.0353\n",
      "📸 Échantillons + modèle sauvegardés (epoch 105) dans results\n"
     ]
    },
    {
     "data": {
      "application/vnd.jupyter.widget-view+json": {
       "model_id": "5c61a10eb7fe46b8aa52ea238a245108",
       "version_major": 2,
       "version_minor": 0
      },
      "text/plain": [
       "Epoch 106/150 | Timesteps: 1000 | t ∈ [0,1000):   0%|          | 0/79 [00:00<?, ?it/s]"
      ]
     },
     "metadata": {},
     "output_type": "display_data"
    },
    {
     "name": "stdout",
     "output_type": "stream",
     "text": [
      "🔁 Epoch 106 terminé — Moyenne loss : 0.0744\n"
     ]
    },
    {
     "data": {
      "application/vnd.jupyter.widget-view+json": {
       "model_id": "01ff0bde1bb94c77b4a2b0dbc6f7d49e",
       "version_major": 2,
       "version_minor": 0
      },
      "text/plain": [
       "Epoch 107/150 | Timesteps: 1000 | t ∈ [0,1000):   0%|          | 0/79 [00:00<?, ?it/s]"
      ]
     },
     "metadata": {},
     "output_type": "display_data"
    },
    {
     "name": "stdout",
     "output_type": "stream",
     "text": [
      "🔁 Epoch 107 terminé — Moyenne loss : 0.0572\n"
     ]
    },
    {
     "data": {
      "application/vnd.jupyter.widget-view+json": {
       "model_id": "9aad7acca5fd470da71a450eb461da51",
       "version_major": 2,
       "version_minor": 0
      },
      "text/plain": [
       "Epoch 108/150 | Timesteps: 1000 | t ∈ [0,1000):   0%|          | 0/79 [00:00<?, ?it/s]"
      ]
     },
     "metadata": {},
     "output_type": "display_data"
    },
    {
     "name": "stdout",
     "output_type": "stream",
     "text": [
      "🔁 Epoch 108 terminé — Moyenne loss : 0.0356\n"
     ]
    },
    {
     "data": {
      "application/vnd.jupyter.widget-view+json": {
       "model_id": "491ba85bfed24e76a16e4bc6eebf76fa",
       "version_major": 2,
       "version_minor": 0
      },
      "text/plain": [
       "Epoch 109/150 | Timesteps: 1000 | t ∈ [0,1000):   0%|          | 0/79 [00:00<?, ?it/s]"
      ]
     },
     "metadata": {},
     "output_type": "display_data"
    },
    {
     "name": "stdout",
     "output_type": "stream",
     "text": [
      "🔁 Epoch 109 terminé — Moyenne loss : 0.0355\n"
     ]
    },
    {
     "data": {
      "application/vnd.jupyter.widget-view+json": {
       "model_id": "4b4434d4c19046de8c603ced41caec5c",
       "version_major": 2,
       "version_minor": 0
      },
      "text/plain": [
       "Epoch 110/150 | Timesteps: 1000 | t ∈ [0,1000):   0%|          | 0/79 [00:00<?, ?it/s]"
      ]
     },
     "metadata": {},
     "output_type": "display_data"
    },
    {
     "name": "stdout",
     "output_type": "stream",
     "text": [
      "🔁 Epoch 110 terminé — Moyenne loss : 0.0329\n",
      "📸 Échantillons + modèle sauvegardés (epoch 110) dans results\n"
     ]
    },
    {
     "data": {
      "application/vnd.jupyter.widget-view+json": {
       "model_id": "604d938145314338a42ebea9fc2bf405",
       "version_major": 2,
       "version_minor": 0
      },
      "text/plain": [
       "Epoch 111/150 | Timesteps: 1000 | t ∈ [0,1000):   0%|          | 0/79 [00:00<?, ?it/s]"
      ]
     },
     "metadata": {},
     "output_type": "display_data"
    },
    {
     "name": "stdout",
     "output_type": "stream",
     "text": [
      "🔁 Epoch 111 terminé — Moyenne loss : 0.0321\n"
     ]
    },
    {
     "data": {
      "application/vnd.jupyter.widget-view+json": {
       "model_id": "2d5c3cf71dee4cec80875633a3764c1a",
       "version_major": 2,
       "version_minor": 0
      },
      "text/plain": [
       "Epoch 112/150 | Timesteps: 1000 | t ∈ [0,1000):   0%|          | 0/79 [00:00<?, ?it/s]"
      ]
     },
     "metadata": {},
     "output_type": "display_data"
    },
    {
     "name": "stdout",
     "output_type": "stream",
     "text": [
      "🔁 Epoch 112 terminé — Moyenne loss : 0.0324\n"
     ]
    },
    {
     "data": {
      "application/vnd.jupyter.widget-view+json": {
       "model_id": "1e0467e7626c43db9c82a910b937bbd6",
       "version_major": 2,
       "version_minor": 0
      },
      "text/plain": [
       "Epoch 113/150 | Timesteps: 1000 | t ∈ [0,1000):   0%|          | 0/79 [00:00<?, ?it/s]"
      ]
     },
     "metadata": {},
     "output_type": "display_data"
    },
    {
     "name": "stdout",
     "output_type": "stream",
     "text": [
      "🔁 Epoch 113 terminé — Moyenne loss : 0.0350\n"
     ]
    },
    {
     "data": {
      "application/vnd.jupyter.widget-view+json": {
       "model_id": "64e1a3a708f44fc8a42ce71cbf945d25",
       "version_major": 2,
       "version_minor": 0
      },
      "text/plain": [
       "Epoch 114/150 | Timesteps: 1000 | t ∈ [0,1000):   0%|          | 0/79 [00:00<?, ?it/s]"
      ]
     },
     "metadata": {},
     "output_type": "display_data"
    },
    {
     "name": "stdout",
     "output_type": "stream",
     "text": [
      "🔁 Epoch 114 terminé — Moyenne loss : 0.0320\n"
     ]
    },
    {
     "data": {
      "application/vnd.jupyter.widget-view+json": {
       "model_id": "3d888be9cb0d4892a2a76be835a7d806",
       "version_major": 2,
       "version_minor": 0
      },
      "text/plain": [
       "Epoch 115/150 | Timesteps: 1000 | t ∈ [0,1000):   0%|          | 0/79 [00:00<?, ?it/s]"
      ]
     },
     "metadata": {},
     "output_type": "display_data"
    },
    {
     "name": "stdout",
     "output_type": "stream",
     "text": [
      "🔁 Epoch 115 terminé — Moyenne loss : 0.0343\n",
      "📸 Échantillons + modèle sauvegardés (epoch 115) dans results\n"
     ]
    },
    {
     "data": {
      "application/vnd.jupyter.widget-view+json": {
       "model_id": "9db74c6380e1418e997b39806a74a091",
       "version_major": 2,
       "version_minor": 0
      },
      "text/plain": [
       "Epoch 116/150 | Timesteps: 1000 | t ∈ [0,1000):   0%|          | 0/79 [00:00<?, ?it/s]"
      ]
     },
     "metadata": {},
     "output_type": "display_data"
    },
    {
     "name": "stdout",
     "output_type": "stream",
     "text": [
      "🔁 Epoch 116 terminé — Moyenne loss : 0.0325\n"
     ]
    },
    {
     "data": {
      "application/vnd.jupyter.widget-view+json": {
       "model_id": "23c8a16b2f1e4f5aa8448fc0ceb9b5eb",
       "version_major": 2,
       "version_minor": 0
      },
      "text/plain": [
       "Epoch 117/150 | Timesteps: 1000 | t ∈ [0,1000):   0%|          | 0/79 [00:00<?, ?it/s]"
      ]
     },
     "metadata": {},
     "output_type": "display_data"
    },
    {
     "name": "stdout",
     "output_type": "stream",
     "text": [
      "🔁 Epoch 117 terminé — Moyenne loss : 0.0330\n"
     ]
    },
    {
     "data": {
      "application/vnd.jupyter.widget-view+json": {
       "model_id": "ad1c73740a0e4c3ba8d95e14ee9be064",
       "version_major": 2,
       "version_minor": 0
      },
      "text/plain": [
       "Epoch 118/150 | Timesteps: 1000 | t ∈ [0,1000):   0%|          | 0/79 [00:00<?, ?it/s]"
      ]
     },
     "metadata": {},
     "output_type": "display_data"
    },
    {
     "name": "stdout",
     "output_type": "stream",
     "text": [
      "🔁 Epoch 118 terminé — Moyenne loss : 0.0325\n"
     ]
    },
    {
     "data": {
      "application/vnd.jupyter.widget-view+json": {
       "model_id": "58ae4238f6be40cea93b2fa660e8066f",
       "version_major": 2,
       "version_minor": 0
      },
      "text/plain": [
       "Epoch 119/150 | Timesteps: 1000 | t ∈ [0,1000):   0%|          | 0/79 [00:00<?, ?it/s]"
      ]
     },
     "metadata": {},
     "output_type": "display_data"
    },
    {
     "name": "stdout",
     "output_type": "stream",
     "text": [
      "🔁 Epoch 119 terminé — Moyenne loss : 0.0321\n"
     ]
    },
    {
     "data": {
      "application/vnd.jupyter.widget-view+json": {
       "model_id": "7b34741d03b54d4e826de578411b7d7f",
       "version_major": 2,
       "version_minor": 0
      },
      "text/plain": [
       "Epoch 120/150 | Timesteps: 1000 | t ∈ [0,1000):   0%|          | 0/79 [00:00<?, ?it/s]"
      ]
     },
     "metadata": {},
     "output_type": "display_data"
    },
    {
     "name": "stdout",
     "output_type": "stream",
     "text": [
      "🔁 Epoch 120 terminé — Moyenne loss : 0.0359\n",
      "📸 Échantillons + modèle sauvegardés (epoch 120) dans results\n"
     ]
    },
    {
     "data": {
      "application/vnd.jupyter.widget-view+json": {
       "model_id": "2701f4ce469d4e0f9523ad25879c0f46",
       "version_major": 2,
       "version_minor": 0
      },
      "text/plain": [
       "Epoch 121/150 | Timesteps: 1000 | t ∈ [0,1000):   0%|          | 0/79 [00:00<?, ?it/s]"
      ]
     },
     "metadata": {},
     "output_type": "display_data"
    },
    {
     "name": "stdout",
     "output_type": "stream",
     "text": [
      "🔁 Epoch 121 terminé — Moyenne loss : 0.0513\n"
     ]
    },
    {
     "data": {
      "application/vnd.jupyter.widget-view+json": {
       "model_id": "80743ced37194c74a31fd773b84d22c8",
       "version_major": 2,
       "version_minor": 0
      },
      "text/plain": [
       "Epoch 122/150 | Timesteps: 1000 | t ∈ [0,1000):   0%|          | 0/79 [00:00<?, ?it/s]"
      ]
     },
     "metadata": {},
     "output_type": "display_data"
    },
    {
     "name": "stdout",
     "output_type": "stream",
     "text": [
      "🔁 Epoch 122 terminé — Moyenne loss : 495236.1278\n"
     ]
    },
    {
     "data": {
      "application/vnd.jupyter.widget-view+json": {
       "model_id": "21bb79b9f47a4eb6be94e46a4c9c0d1f",
       "version_major": 2,
       "version_minor": 0
      },
      "text/plain": [
       "Epoch 123/150 | Timesteps: 1000 | t ∈ [0,1000):   0%|          | 0/79 [00:00<?, ?it/s]"
      ]
     },
     "metadata": {},
     "output_type": "display_data"
    },
    {
     "name": "stdout",
     "output_type": "stream",
     "text": [
      "🔁 Epoch 123 terminé — Moyenne loss : 23324.8529\n"
     ]
    },
    {
     "data": {
      "application/vnd.jupyter.widget-view+json": {
       "model_id": "2bb4a9e8d82e4049b4e3d9c3a1c3e0e5",
       "version_major": 2,
       "version_minor": 0
      },
      "text/plain": [
       "Epoch 124/150 | Timesteps: 1000 | t ∈ [0,1000):   0%|          | 0/79 [00:00<?, ?it/s]"
      ]
     },
     "metadata": {},
     "output_type": "display_data"
    },
    {
     "name": "stdout",
     "output_type": "stream",
     "text": [
      "🔁 Epoch 124 terminé — Moyenne loss : 4.0262\n"
     ]
    },
    {
     "data": {
      "application/vnd.jupyter.widget-view+json": {
       "model_id": "acf980dcf901418b9b33428de287b6a4",
       "version_major": 2,
       "version_minor": 0
      },
      "text/plain": [
       "Epoch 125/150 | Timesteps: 1000 | t ∈ [0,1000):   0%|          | 0/79 [00:00<?, ?it/s]"
      ]
     },
     "metadata": {},
     "output_type": "display_data"
    },
    {
     "name": "stdout",
     "output_type": "stream",
     "text": [
      "🔁 Epoch 125 terminé — Moyenne loss : 4.3499\n",
      "📸 Échantillons + modèle sauvegardés (epoch 125) dans results\n"
     ]
    },
    {
     "data": {
      "application/vnd.jupyter.widget-view+json": {
       "model_id": "4bf43502551946ecb8043ff219a3a4ac",
       "version_major": 2,
       "version_minor": 0
      },
      "text/plain": [
       "Epoch 126/150 | Timesteps: 1000 | t ∈ [0,1000):   0%|          | 0/79 [00:00<?, ?it/s]"
      ]
     },
     "metadata": {},
     "output_type": "display_data"
    },
    {
     "name": "stdout",
     "output_type": "stream",
     "text": [
      "🔁 Epoch 126 terminé — Moyenne loss : 0.0617\n"
     ]
    },
    {
     "data": {
      "application/vnd.jupyter.widget-view+json": {
       "model_id": "501d5fe54b0c4c81a8e24cd620827bfd",
       "version_major": 2,
       "version_minor": 0
      },
      "text/plain": [
       "Epoch 127/150 | Timesteps: 1000 | t ∈ [0,1000):   0%|          | 0/79 [00:00<?, ?it/s]"
      ]
     },
     "metadata": {},
     "output_type": "display_data"
    },
    {
     "name": "stdout",
     "output_type": "stream",
     "text": [
      "🔁 Epoch 127 terminé — Moyenne loss : 0.0478\n"
     ]
    },
    {
     "data": {
      "application/vnd.jupyter.widget-view+json": {
       "model_id": "325c44fb7cfa4aadac52bde26a4ba219",
       "version_major": 2,
       "version_minor": 0
      },
      "text/plain": [
       "Epoch 128/150 | Timesteps: 1000 | t ∈ [0,1000):   0%|          | 0/79 [00:00<?, ?it/s]"
      ]
     },
     "metadata": {},
     "output_type": "display_data"
    },
    {
     "name": "stdout",
     "output_type": "stream",
     "text": [
      "🔁 Epoch 128 terminé — Moyenne loss : 0.0471\n"
     ]
    },
    {
     "data": {
      "application/vnd.jupyter.widget-view+json": {
       "model_id": "909f028e3e7340dc8746ad40528d846d",
       "version_major": 2,
       "version_minor": 0
      },
      "text/plain": [
       "Epoch 129/150 | Timesteps: 1000 | t ∈ [0,1000):   0%|          | 0/79 [00:00<?, ?it/s]"
      ]
     },
     "metadata": {},
     "output_type": "display_data"
    },
    {
     "name": "stdout",
     "output_type": "stream",
     "text": [
      "🔁 Epoch 129 terminé — Moyenne loss : 0.0442\n"
     ]
    },
    {
     "data": {
      "application/vnd.jupyter.widget-view+json": {
       "model_id": "343ecc0dae124657911ef3d7f96d44df",
       "version_major": 2,
       "version_minor": 0
      },
      "text/plain": [
       "Epoch 130/150 | Timesteps: 1000 | t ∈ [0,1000):   0%|          | 0/79 [00:00<?, ?it/s]"
      ]
     },
     "metadata": {},
     "output_type": "display_data"
    },
    {
     "name": "stdout",
     "output_type": "stream",
     "text": [
      "🔁 Epoch 130 terminé — Moyenne loss : 0.0451\n",
      "📸 Échantillons + modèle sauvegardés (epoch 130) dans results\n"
     ]
    },
    {
     "data": {
      "application/vnd.jupyter.widget-view+json": {
       "model_id": "9f508d4fa9f74dd49b6b5cefd02f527a",
       "version_major": 2,
       "version_minor": 0
      },
      "text/plain": [
       "Epoch 131/150 | Timesteps: 1000 | t ∈ [0,1000):   0%|          | 0/79 [00:00<?, ?it/s]"
      ]
     },
     "metadata": {},
     "output_type": "display_data"
    },
    {
     "name": "stdout",
     "output_type": "stream",
     "text": [
      "🔁 Epoch 131 terminé — Moyenne loss : 0.0421\n"
     ]
    },
    {
     "data": {
      "application/vnd.jupyter.widget-view+json": {
       "model_id": "9e712642841c41a4a490b4ed85a31740",
       "version_major": 2,
       "version_minor": 0
      },
      "text/plain": [
       "Epoch 132/150 | Timesteps: 1000 | t ∈ [0,1000):   0%|          | 0/79 [00:00<?, ?it/s]"
      ]
     },
     "metadata": {},
     "output_type": "display_data"
    },
    {
     "name": "stdout",
     "output_type": "stream",
     "text": [
      "🔁 Epoch 132 terminé — Moyenne loss : 0.0434\n"
     ]
    },
    {
     "data": {
      "application/vnd.jupyter.widget-view+json": {
       "model_id": "1220b84ca2cd4302846286de2e081bd5",
       "version_major": 2,
       "version_minor": 0
      },
      "text/plain": [
       "Epoch 133/150 | Timesteps: 1000 | t ∈ [0,1000):   0%|          | 0/79 [00:00<?, ?it/s]"
      ]
     },
     "metadata": {},
     "output_type": "display_data"
    },
    {
     "name": "stdout",
     "output_type": "stream",
     "text": [
      "🔁 Epoch 133 terminé — Moyenne loss : 0.0394\n"
     ]
    },
    {
     "data": {
      "application/vnd.jupyter.widget-view+json": {
       "model_id": "e2d18267396b4ad99b137b8a4510197a",
       "version_major": 2,
       "version_minor": 0
      },
      "text/plain": [
       "Epoch 134/150 | Timesteps: 1000 | t ∈ [0,1000):   0%|          | 0/79 [00:00<?, ?it/s]"
      ]
     },
     "metadata": {},
     "output_type": "display_data"
    },
    {
     "name": "stdout",
     "output_type": "stream",
     "text": [
      "🔁 Epoch 134 terminé — Moyenne loss : 0.0414\n"
     ]
    },
    {
     "data": {
      "application/vnd.jupyter.widget-view+json": {
       "model_id": "ebdb05642f5d4715961f48036235c3d0",
       "version_major": 2,
       "version_minor": 0
      },
      "text/plain": [
       "Epoch 135/150 | Timesteps: 1000 | t ∈ [0,1000):   0%|          | 0/79 [00:00<?, ?it/s]"
      ]
     },
     "metadata": {},
     "output_type": "display_data"
    },
    {
     "name": "stdout",
     "output_type": "stream",
     "text": [
      "🔁 Epoch 135 terminé — Moyenne loss : 0.0376\n",
      "📸 Échantillons + modèle sauvegardés (epoch 135) dans results\n"
     ]
    },
    {
     "data": {
      "application/vnd.jupyter.widget-view+json": {
       "model_id": "efb9248bc5f24e528fe9d6f93aa4c148",
       "version_major": 2,
       "version_minor": 0
      },
      "text/plain": [
       "Epoch 136/150 | Timesteps: 1000 | t ∈ [0,1000):   0%|          | 0/79 [00:00<?, ?it/s]"
      ]
     },
     "metadata": {},
     "output_type": "display_data"
    },
    {
     "name": "stdout",
     "output_type": "stream",
     "text": [
      "🔁 Epoch 136 terminé — Moyenne loss : 0.0371\n"
     ]
    },
    {
     "data": {
      "application/vnd.jupyter.widget-view+json": {
       "model_id": "ecfb4f7ce10341ae982b7cd706083449",
       "version_major": 2,
       "version_minor": 0
      },
      "text/plain": [
       "Epoch 137/150 | Timesteps: 1000 | t ∈ [0,1000):   0%|          | 0/79 [00:00<?, ?it/s]"
      ]
     },
     "metadata": {},
     "output_type": "display_data"
    },
    {
     "name": "stdout",
     "output_type": "stream",
     "text": [
      "🔁 Epoch 137 terminé — Moyenne loss : 0.0370\n"
     ]
    },
    {
     "data": {
      "application/vnd.jupyter.widget-view+json": {
       "model_id": "572bf8779ed34f669e15d8d470100fc3",
       "version_major": 2,
       "version_minor": 0
      },
      "text/plain": [
       "Epoch 138/150 | Timesteps: 1000 | t ∈ [0,1000):   0%|          | 0/79 [00:00<?, ?it/s]"
      ]
     },
     "metadata": {},
     "output_type": "display_data"
    },
    {
     "name": "stdout",
     "output_type": "stream",
     "text": [
      "🔁 Epoch 138 terminé — Moyenne loss : 0.0362\n"
     ]
    },
    {
     "data": {
      "application/vnd.jupyter.widget-view+json": {
       "model_id": "b9aa5cef5fc04a348dd73dbd042e4763",
       "version_major": 2,
       "version_minor": 0
      },
      "text/plain": [
       "Epoch 139/150 | Timesteps: 1000 | t ∈ [0,1000):   0%|          | 0/79 [00:00<?, ?it/s]"
      ]
     },
     "metadata": {},
     "output_type": "display_data"
    },
    {
     "name": "stdout",
     "output_type": "stream",
     "text": [
      "🔁 Epoch 139 terminé — Moyenne loss : 0.0374\n"
     ]
    },
    {
     "data": {
      "application/vnd.jupyter.widget-view+json": {
       "model_id": "b444487e62cf4b0b9d05561131158be1",
       "version_major": 2,
       "version_minor": 0
      },
      "text/plain": [
       "Epoch 140/150 | Timesteps: 1000 | t ∈ [0,1000):   0%|          | 0/79 [00:00<?, ?it/s]"
      ]
     },
     "metadata": {},
     "output_type": "display_data"
    },
    {
     "name": "stdout",
     "output_type": "stream",
     "text": [
      "🔁 Epoch 140 terminé — Moyenne loss : 0.0339\n",
      "📸 Échantillons + modèle sauvegardés (epoch 140) dans results\n"
     ]
    },
    {
     "data": {
      "application/vnd.jupyter.widget-view+json": {
       "model_id": "547df32c53924ea99c0fafbf45afa5bd",
       "version_major": 2,
       "version_minor": 0
      },
      "text/plain": [
       "Epoch 141/150 | Timesteps: 1000 | t ∈ [0,1000):   0%|          | 0/79 [00:00<?, ?it/s]"
      ]
     },
     "metadata": {},
     "output_type": "display_data"
    },
    {
     "name": "stdout",
     "output_type": "stream",
     "text": [
      "🔁 Epoch 141 terminé — Moyenne loss : 0.0383\n"
     ]
    },
    {
     "data": {
      "application/vnd.jupyter.widget-view+json": {
       "model_id": "5161af16564d4c809c535c2d5923b9c7",
       "version_major": 2,
       "version_minor": 0
      },
      "text/plain": [
       "Epoch 142/150 | Timesteps: 1000 | t ∈ [0,1000):   0%|          | 0/79 [00:00<?, ?it/s]"
      ]
     },
     "metadata": {},
     "output_type": "display_data"
    },
    {
     "name": "stdout",
     "output_type": "stream",
     "text": [
      "🔁 Epoch 142 terminé — Moyenne loss : 0.0348\n"
     ]
    },
    {
     "data": {
      "application/vnd.jupyter.widget-view+json": {
       "model_id": "a875bde140494df595bf1ae8d700b44b",
       "version_major": 2,
       "version_minor": 0
      },
      "text/plain": [
       "Epoch 143/150 | Timesteps: 1000 | t ∈ [0,1000):   0%|          | 0/79 [00:00<?, ?it/s]"
      ]
     },
     "metadata": {},
     "output_type": "display_data"
    },
    {
     "name": "stdout",
     "output_type": "stream",
     "text": [
      "🔁 Epoch 143 terminé — Moyenne loss : 0.0346\n"
     ]
    },
    {
     "data": {
      "application/vnd.jupyter.widget-view+json": {
       "model_id": "fe71a852da2e410eb7307c2743ba25b7",
       "version_major": 2,
       "version_minor": 0
      },
      "text/plain": [
       "Epoch 144/150 | Timesteps: 1000 | t ∈ [0,1000):   0%|          | 0/79 [00:00<?, ?it/s]"
      ]
     },
     "metadata": {},
     "output_type": "display_data"
    },
    {
     "name": "stdout",
     "output_type": "stream",
     "text": [
      "🔁 Epoch 144 terminé — Moyenne loss : 0.0357\n"
     ]
    },
    {
     "data": {
      "application/vnd.jupyter.widget-view+json": {
       "model_id": "1513b5ae20be45e785d23541d5830e3f",
       "version_major": 2,
       "version_minor": 0
      },
      "text/plain": [
       "Epoch 145/150 | Timesteps: 1000 | t ∈ [0,1000):   0%|          | 0/79 [00:00<?, ?it/s]"
      ]
     },
     "metadata": {},
     "output_type": "display_data"
    },
    {
     "name": "stdout",
     "output_type": "stream",
     "text": [
      "🔁 Epoch 145 terminé — Moyenne loss : 0.0362\n",
      "📸 Échantillons + modèle sauvegardés (epoch 145) dans results\n"
     ]
    },
    {
     "data": {
      "application/vnd.jupyter.widget-view+json": {
       "model_id": "a68620ffb6d64c9aa37a281c68a23b34",
       "version_major": 2,
       "version_minor": 0
      },
      "text/plain": [
       "Epoch 146/150 | Timesteps: 1000 | t ∈ [0,1000):   0%|          | 0/79 [00:00<?, ?it/s]"
      ]
     },
     "metadata": {},
     "output_type": "display_data"
    },
    {
     "name": "stdout",
     "output_type": "stream",
     "text": [
      "🔁 Epoch 146 terminé — Moyenne loss : 0.0361\n"
     ]
    },
    {
     "data": {
      "application/vnd.jupyter.widget-view+json": {
       "model_id": "2d7543da81884b5b922629cdecd276fd",
       "version_major": 2,
       "version_minor": 0
      },
      "text/plain": [
       "Epoch 147/150 | Timesteps: 1000 | t ∈ [0,1000):   0%|          | 0/79 [00:00<?, ?it/s]"
      ]
     },
     "metadata": {},
     "output_type": "display_data"
    },
    {
     "name": "stdout",
     "output_type": "stream",
     "text": [
      "🔁 Epoch 147 terminé — Moyenne loss : 0.0357\n"
     ]
    },
    {
     "data": {
      "application/vnd.jupyter.widget-view+json": {
       "model_id": "cabfe44917c24729b3d4d7bec9e4175d",
       "version_major": 2,
       "version_minor": 0
      },
      "text/plain": [
       "Epoch 148/150 | Timesteps: 1000 | t ∈ [0,1000):   0%|          | 0/79 [00:00<?, ?it/s]"
      ]
     },
     "metadata": {},
     "output_type": "display_data"
    },
    {
     "name": "stdout",
     "output_type": "stream",
     "text": [
      "🔁 Epoch 148 terminé — Moyenne loss : 0.0359\n"
     ]
    },
    {
     "data": {
      "application/vnd.jupyter.widget-view+json": {
       "model_id": "dfbff9ae5ceb4504979af57221e7b679",
       "version_major": 2,
       "version_minor": 0
      },
      "text/plain": [
       "Epoch 149/150 | Timesteps: 1000 | t ∈ [0,1000):   0%|          | 0/79 [00:00<?, ?it/s]"
      ]
     },
     "metadata": {},
     "output_type": "display_data"
    },
    {
     "name": "stdout",
     "output_type": "stream",
     "text": [
      "🔁 Epoch 149 terminé — Moyenne loss : 0.0366\n"
     ]
    },
    {
     "data": {
      "application/vnd.jupyter.widget-view+json": {
       "model_id": "a4b080f6f91a4446af71dbde8e460013",
       "version_major": 2,
       "version_minor": 0
      },
      "text/plain": [
       "Epoch 150/150 | Timesteps: 1000 | t ∈ [0,1000):   0%|          | 0/79 [00:00<?, ?it/s]"
      ]
     },
     "metadata": {},
     "output_type": "display_data"
    },
    {
     "name": "stdout",
     "output_type": "stream",
     "text": [
      "🔁 Epoch 150 terminé — Moyenne loss : 0.0347\n",
      "📸 Échantillons + modèle sauvegardés (epoch 150) dans results\n"
     ]
    }
   ],
   "source": [
    "from tqdm.notebook import tqdm\n",
    "import torch.nn.utils\n",
    "\n",
    "# ⚙️ Paramètres\n",
    "start_epoch = 100\n",
    "epochs = 150\n",
    "timestep_final = 1000\n",
    "lr = 2e-4\n",
    "losses = []\n",
    "\n",
    "current_max_sample_t = 1000\n",
    "\n",
    "\n",
    "# ✅ Recharger modèle depuis epoch 100\n",
    "model = UNetConditional(in_channels=3, base_channels=64, time_emb_dim=256, class_emb_dim=128, num_classes=num_classes).to(device)\n",
    "model.load_state_dict(torch.load(\"model_epoch_100.pt\", map_location=device))\n",
    "print(\"✅ Modèle chargé depuis model_epoch_100.pt\")\n",
    "\n",
    "# 🌀 Diffusion avec T=1000\n",
    "diffusion = GaussianDiffusion(model, timesteps=timestep_final, device=device)\n",
    "\n",
    "# Optimiseur\n",
    "optimizer = torch.optim.Adam(model.parameters(), lr=lr)\n",
    "\n",
    "# 🔁 Boucle d'entraînement\n",
    "for epoch in range(start_epoch, epochs + 1):\n",
    "    model.train()\n",
    "    epoch_losses = []\n",
    "\n",
    "    loop = tqdm(dataloader, desc=f\"Epoch {epoch}/{epochs} | Timesteps: {diffusion.timesteps} | t ∈ [0,{current_max_sample_t})\")\n",
    "\n",
    "    for x, y in loop:\n",
    "        x, y = x.to(device), y.to(device)\n",
    "        t = torch.randint(0, current_max_sample_t, (x.size(0),), device=device).long()\n",
    "        noise = torch.randn_like(x)\n",
    "        x_t = diffusion.q_sample(x, t, noise)\n",
    "\n",
    "        noise_pred = model(x_t, t, y)\n",
    "        loss = F.mse_loss(noise_pred, noise)\n",
    "\n",
    "        optimizer.zero_grad()\n",
    "        loss.backward()\n",
    "        torch.nn.utils.clip_grad_norm_(model.parameters(), max_norm=1.0)  # stabilisation\n",
    "        optimizer.step()\n",
    "\n",
    "        loop.set_postfix(loss=loss.item())\n",
    "        epoch_losses.append(loss.item())\n",
    "        losses.append(loss.item())  # utile pour ta courbe\n",
    "\n",
    "    avg_loss = sum(epoch_losses) / len(epoch_losses)\n",
    "    print(f\"🔁 Epoch {epoch} terminé — Moyenne loss : {avg_loss:.4f}\")\n",
    "\n",
    "    # 🖼️ Échantillons & modèle\n",
    "    if epoch % 5 == 0:\n",
    "        model.eval()\n",
    "        with torch.no_grad():\n",
    "            y_sample = torch.tensor([0] * 16, device=device)\n",
    "            samples = diffusion.sample(batch_size=16, image_size=image_size, y=y_sample)\n",
    "            save_sample_grid(samples, os.path.join(save_dir, f\"sample_epoch_{epoch}.png\"), nrow=4)\n",
    "            torch.save(model.state_dict(), os.path.join(save_dir, f\"model_epoch_{epoch}.pt\"))\n",
    "            print(f\"📸 Échantillons + modèle sauvegardés (epoch {epoch}) dans {save_dir}\")\n",
    "\n"
   ]
  },
  {
   "cell_type": "code",
   "execution_count": 8,
   "metadata": {},
   "outputs": [
    {
     "name": "stdout",
     "output_type": "stream",
     "text": [
      "Modèle rechargé depuis model_epoch_110.pt\n",
      "🔧 Diffusion mise à jour : 1000 étapes\n"
     ]
    },
    {
     "data": {
      "application/vnd.jupyter.widget-view+json": {
       "model_id": "47a197c813cf4b8e9b5f4eb252b2e4db",
       "version_major": 2,
       "version_minor": 0
      },
      "text/plain": [
       "Epoch 111/150 | Finetune | t ∈ [0,1000):   0%|          | 0/79 [00:00<?, ?it/s]"
      ]
     },
     "metadata": {},
     "output_type": "display_data"
    },
    {
     "name": "stdout",
     "output_type": "stream",
     "text": [
      "🔁 Epoch 111 terminé — Moyenne loss : 0.0362\n"
     ]
    },
    {
     "data": {
      "application/vnd.jupyter.widget-view+json": {
       "model_id": "ed3e134788d24367b5d2020b98d4f50d",
       "version_major": 2,
       "version_minor": 0
      },
      "text/plain": [
       "Epoch 112/150 | Finetune | t ∈ [0,1000):   0%|          | 0/79 [00:00<?, ?it/s]"
      ]
     },
     "metadata": {},
     "output_type": "display_data"
    },
    {
     "name": "stdout",
     "output_type": "stream",
     "text": [
      "🔁 Epoch 112 terminé — Moyenne loss : 0.0331\n"
     ]
    },
    {
     "data": {
      "application/vnd.jupyter.widget-view+json": {
       "model_id": "0973a94681774dc5b1cad4d3a69e6304",
       "version_major": 2,
       "version_minor": 0
      },
      "text/plain": [
       "Epoch 113/150 | Finetune | t ∈ [0,1000):   0%|          | 0/79 [00:00<?, ?it/s]"
      ]
     },
     "metadata": {},
     "output_type": "display_data"
    },
    {
     "name": "stdout",
     "output_type": "stream",
     "text": [
      "🔁 Epoch 113 terminé — Moyenne loss : 0.0324\n"
     ]
    },
    {
     "data": {
      "application/vnd.jupyter.widget-view+json": {
       "model_id": "bab62f7a9da84e13a5f0a29d1cea3eb7",
       "version_major": 2,
       "version_minor": 0
      },
      "text/plain": [
       "Epoch 114/150 | Finetune | t ∈ [0,1000):   0%|          | 0/79 [00:00<?, ?it/s]"
      ]
     },
     "metadata": {},
     "output_type": "display_data"
    },
    {
     "name": "stdout",
     "output_type": "stream",
     "text": [
      "🔁 Epoch 114 terminé — Moyenne loss : 0.0322\n"
     ]
    },
    {
     "data": {
      "application/vnd.jupyter.widget-view+json": {
       "model_id": "afdd84e71bc94263bd78f51e1fe220e0",
       "version_major": 2,
       "version_minor": 0
      },
      "text/plain": [
       "Epoch 115/150 | Finetune | t ∈ [0,1000):   0%|          | 0/79 [00:00<?, ?it/s]"
      ]
     },
     "metadata": {},
     "output_type": "display_data"
    },
    {
     "name": "stdout",
     "output_type": "stream",
     "text": [
      "🔁 Epoch 115 terminé — Moyenne loss : 0.0319\n",
      "📸 Sauvegarde modèle + échantillons (epoch 115) dans results\n"
     ]
    },
    {
     "data": {
      "application/vnd.jupyter.widget-view+json": {
       "model_id": "8f2d20e99c9f45199ec91743f0e79c1c",
       "version_major": 2,
       "version_minor": 0
      },
      "text/plain": [
       "Epoch 116/150 | Finetune | t ∈ [0,1000):   0%|          | 0/79 [00:00<?, ?it/s]"
      ]
     },
     "metadata": {},
     "output_type": "display_data"
    },
    {
     "name": "stdout",
     "output_type": "stream",
     "text": [
      "🔁 Epoch 116 terminé — Moyenne loss : 0.0313\n"
     ]
    },
    {
     "data": {
      "application/vnd.jupyter.widget-view+json": {
       "model_id": "d64c541c3c01473b87e1f8f2e1071c84",
       "version_major": 2,
       "version_minor": 0
      },
      "text/plain": [
       "Epoch 117/150 | Finetune | t ∈ [0,1000):   0%|          | 0/79 [00:00<?, ?it/s]"
      ]
     },
     "metadata": {},
     "output_type": "display_data"
    },
    {
     "name": "stdout",
     "output_type": "stream",
     "text": [
      "🔁 Epoch 117 terminé — Moyenne loss : 0.0298\n"
     ]
    },
    {
     "data": {
      "application/vnd.jupyter.widget-view+json": {
       "model_id": "3c85de497afd42a4ac5da5e5ee16db66",
       "version_major": 2,
       "version_minor": 0
      },
      "text/plain": [
       "Epoch 118/150 | Finetune | t ∈ [0,1000):   0%|          | 0/79 [00:00<?, ?it/s]"
      ]
     },
     "metadata": {},
     "output_type": "display_data"
    },
    {
     "name": "stdout",
     "output_type": "stream",
     "text": [
      "🔁 Epoch 118 terminé — Moyenne loss : 0.0319\n"
     ]
    },
    {
     "data": {
      "application/vnd.jupyter.widget-view+json": {
       "model_id": "38df6502c4384d3498831d3f114bae0d",
       "version_major": 2,
       "version_minor": 0
      },
      "text/plain": [
       "Epoch 119/150 | Finetune | t ∈ [0,1000):   0%|          | 0/79 [00:00<?, ?it/s]"
      ]
     },
     "metadata": {},
     "output_type": "display_data"
    },
    {
     "name": "stdout",
     "output_type": "stream",
     "text": [
      "🔁 Epoch 119 terminé — Moyenne loss : 0.0320\n"
     ]
    },
    {
     "data": {
      "application/vnd.jupyter.widget-view+json": {
       "model_id": "cb66f076544949d8bed51c8f2bce478f",
       "version_major": 2,
       "version_minor": 0
      },
      "text/plain": [
       "Epoch 120/150 | Finetune | t ∈ [0,1000):   0%|          | 0/79 [00:00<?, ?it/s]"
      ]
     },
     "metadata": {},
     "output_type": "display_data"
    },
    {
     "name": "stdout",
     "output_type": "stream",
     "text": [
      "🔁 Epoch 120 terminé — Moyenne loss : 0.0330\n",
      "📸 Sauvegarde modèle + échantillons (epoch 120) dans results\n"
     ]
    },
    {
     "data": {
      "application/vnd.jupyter.widget-view+json": {
       "model_id": "6ea2d941d17a44c39db9d5db94562a3c",
       "version_major": 2,
       "version_minor": 0
      },
      "text/plain": [
       "Epoch 121/150 | Finetune | t ∈ [0,1000):   0%|          | 0/79 [00:00<?, ?it/s]"
      ]
     },
     "metadata": {},
     "output_type": "display_data"
    },
    {
     "name": "stdout",
     "output_type": "stream",
     "text": [
      "🔁 Epoch 121 terminé — Moyenne loss : 0.0325\n"
     ]
    },
    {
     "data": {
      "application/vnd.jupyter.widget-view+json": {
       "model_id": "35d3537379a44107b1eea1e90d33c2c2",
       "version_major": 2,
       "version_minor": 0
      },
      "text/plain": [
       "Epoch 122/150 | Finetune | t ∈ [0,1000):   0%|          | 0/79 [00:00<?, ?it/s]"
      ]
     },
     "metadata": {},
     "output_type": "display_data"
    },
    {
     "name": "stdout",
     "output_type": "stream",
     "text": [
      "🔁 Epoch 122 terminé — Moyenne loss : 0.0331\n"
     ]
    },
    {
     "data": {
      "application/vnd.jupyter.widget-view+json": {
       "model_id": "7baa1f3b87a24eae9510090d2f7c8d19",
       "version_major": 2,
       "version_minor": 0
      },
      "text/plain": [
       "Epoch 123/150 | Finetune | t ∈ [0,1000):   0%|          | 0/79 [00:00<?, ?it/s]"
      ]
     },
     "metadata": {},
     "output_type": "display_data"
    },
    {
     "name": "stdout",
     "output_type": "stream",
     "text": [
      "🔁 Epoch 123 terminé — Moyenne loss : 0.0326\n"
     ]
    },
    {
     "data": {
      "application/vnd.jupyter.widget-view+json": {
       "model_id": "b606f5aac72a42c59cc02220e242614f",
       "version_major": 2,
       "version_minor": 0
      },
      "text/plain": [
       "Epoch 124/150 | Finetune | t ∈ [0,1000):   0%|          | 0/79 [00:00<?, ?it/s]"
      ]
     },
     "metadata": {},
     "output_type": "display_data"
    },
    {
     "name": "stdout",
     "output_type": "stream",
     "text": [
      "🔁 Epoch 124 terminé — Moyenne loss : 0.0339\n"
     ]
    },
    {
     "data": {
      "application/vnd.jupyter.widget-view+json": {
       "model_id": "4049826a741241a19f73fb3404f380ba",
       "version_major": 2,
       "version_minor": 0
      },
      "text/plain": [
       "Epoch 125/150 | Finetune | t ∈ [0,1000):   0%|          | 0/79 [00:00<?, ?it/s]"
      ]
     },
     "metadata": {},
     "output_type": "display_data"
    },
    {
     "name": "stdout",
     "output_type": "stream",
     "text": [
      "🔁 Epoch 125 terminé — Moyenne loss : 0.0343\n",
      "📸 Sauvegarde modèle + échantillons (epoch 125) dans results\n"
     ]
    },
    {
     "data": {
      "application/vnd.jupyter.widget-view+json": {
       "model_id": "0d9542b569664bf6b6622f03fd3a6f25",
       "version_major": 2,
       "version_minor": 0
      },
      "text/plain": [
       "Epoch 126/150 | Finetune | t ∈ [0,1000):   0%|          | 0/79 [00:00<?, ?it/s]"
      ]
     },
     "metadata": {},
     "output_type": "display_data"
    },
    {
     "name": "stdout",
     "output_type": "stream",
     "text": [
      "🔁 Epoch 126 terminé — Moyenne loss : 0.0325\n"
     ]
    },
    {
     "data": {
      "application/vnd.jupyter.widget-view+json": {
       "model_id": "8e5fdd3fe26245e399b35c79bd9698c5",
       "version_major": 2,
       "version_minor": 0
      },
      "text/plain": [
       "Epoch 127/150 | Finetune | t ∈ [0,1000):   0%|          | 0/79 [00:00<?, ?it/s]"
      ]
     },
     "metadata": {},
     "output_type": "display_data"
    },
    {
     "name": "stdout",
     "output_type": "stream",
     "text": [
      "🔁 Epoch 127 terminé — Moyenne loss : 0.0318\n"
     ]
    },
    {
     "data": {
      "application/vnd.jupyter.widget-view+json": {
       "model_id": "b2855ee6bd974444a8d7846a42d8c52b",
       "version_major": 2,
       "version_minor": 0
      },
      "text/plain": [
       "Epoch 128/150 | Finetune | t ∈ [0,1000):   0%|          | 0/79 [00:00<?, ?it/s]"
      ]
     },
     "metadata": {},
     "output_type": "display_data"
    },
    {
     "name": "stdout",
     "output_type": "stream",
     "text": [
      "🔁 Epoch 128 terminé — Moyenne loss : 0.0320\n"
     ]
    },
    {
     "data": {
      "application/vnd.jupyter.widget-view+json": {
       "model_id": "4907d78d53604a5698fe0b2756adbb47",
       "version_major": 2,
       "version_minor": 0
      },
      "text/plain": [
       "Epoch 129/150 | Finetune | t ∈ [0,1000):   0%|          | 0/79 [00:00<?, ?it/s]"
      ]
     },
     "metadata": {},
     "output_type": "display_data"
    },
    {
     "name": "stdout",
     "output_type": "stream",
     "text": [
      "🔁 Epoch 129 terminé — Moyenne loss : 0.0324\n"
     ]
    },
    {
     "data": {
      "application/vnd.jupyter.widget-view+json": {
       "model_id": "7d70686f6a5c4dcb93d2b40781834e44",
       "version_major": 2,
       "version_minor": 0
      },
      "text/plain": [
       "Epoch 130/150 | Finetune | t ∈ [0,1000):   0%|          | 0/79 [00:00<?, ?it/s]"
      ]
     },
     "metadata": {},
     "output_type": "display_data"
    },
    {
     "name": "stdout",
     "output_type": "stream",
     "text": [
      "🔁 Epoch 130 terminé — Moyenne loss : 0.0327\n",
      "📸 Sauvegarde modèle + échantillons (epoch 130) dans results\n"
     ]
    },
    {
     "data": {
      "application/vnd.jupyter.widget-view+json": {
       "model_id": "be0a87bae0e8438f84ba6aa8eca34fdd",
       "version_major": 2,
       "version_minor": 0
      },
      "text/plain": [
       "Epoch 131/150 | Finetune | t ∈ [0,1000):   0%|          | 0/79 [00:00<?, ?it/s]"
      ]
     },
     "metadata": {},
     "output_type": "display_data"
    },
    {
     "name": "stdout",
     "output_type": "stream",
     "text": [
      "🔁 Epoch 131 terminé — Moyenne loss : 0.0324\n"
     ]
    },
    {
     "data": {
      "application/vnd.jupyter.widget-view+json": {
       "model_id": "e4a41737da464e8c901bfb5933ef6b83",
       "version_major": 2,
       "version_minor": 0
      },
      "text/plain": [
       "Epoch 132/150 | Finetune | t ∈ [0,1000):   0%|          | 0/79 [00:00<?, ?it/s]"
      ]
     },
     "metadata": {},
     "output_type": "display_data"
    },
    {
     "name": "stdout",
     "output_type": "stream",
     "text": [
      "🔁 Epoch 132 terminé — Moyenne loss : 0.0332\n"
     ]
    },
    {
     "data": {
      "application/vnd.jupyter.widget-view+json": {
       "model_id": "c3f6730bf0ef4cf5806ca55bfcc732b3",
       "version_major": 2,
       "version_minor": 0
      },
      "text/plain": [
       "Epoch 133/150 | Finetune | t ∈ [0,1000):   0%|          | 0/79 [00:00<?, ?it/s]"
      ]
     },
     "metadata": {},
     "output_type": "display_data"
    },
    {
     "name": "stdout",
     "output_type": "stream",
     "text": [
      "🔁 Epoch 133 terminé — Moyenne loss : 0.0329\n"
     ]
    },
    {
     "data": {
      "application/vnd.jupyter.widget-view+json": {
       "model_id": "445a8851b8814affa2570e5fd5df68aa",
       "version_major": 2,
       "version_minor": 0
      },
      "text/plain": [
       "Epoch 134/150 | Finetune | t ∈ [0,1000):   0%|          | 0/79 [00:00<?, ?it/s]"
      ]
     },
     "metadata": {},
     "output_type": "display_data"
    },
    {
     "name": "stdout",
     "output_type": "stream",
     "text": [
      "🔁 Epoch 134 terminé — Moyenne loss : 0.0317\n"
     ]
    },
    {
     "data": {
      "application/vnd.jupyter.widget-view+json": {
       "model_id": "dc0244c9808d4d128090a0c61fe6d6b0",
       "version_major": 2,
       "version_minor": 0
      },
      "text/plain": [
       "Epoch 135/150 | Finetune | t ∈ [0,1000):   0%|          | 0/79 [00:00<?, ?it/s]"
      ]
     },
     "metadata": {},
     "output_type": "display_data"
    },
    {
     "name": "stdout",
     "output_type": "stream",
     "text": [
      "🔁 Epoch 135 terminé — Moyenne loss : 0.0324\n",
      "📸 Sauvegarde modèle + échantillons (epoch 135) dans results\n"
     ]
    },
    {
     "data": {
      "application/vnd.jupyter.widget-view+json": {
       "model_id": "d1d238527b4841efa6dd41a6f776ecbc",
       "version_major": 2,
       "version_minor": 0
      },
      "text/plain": [
       "Epoch 136/150 | Finetune | t ∈ [0,1000):   0%|          | 0/79 [00:00<?, ?it/s]"
      ]
     },
     "metadata": {},
     "output_type": "display_data"
    },
    {
     "name": "stdout",
     "output_type": "stream",
     "text": [
      "🔁 Epoch 136 terminé — Moyenne loss : 0.0305\n"
     ]
    },
    {
     "data": {
      "application/vnd.jupyter.widget-view+json": {
       "model_id": "723196e86e094566a2c28a3d65064dad",
       "version_major": 2,
       "version_minor": 0
      },
      "text/plain": [
       "Epoch 137/150 | Finetune | t ∈ [0,1000):   0%|          | 0/79 [00:00<?, ?it/s]"
      ]
     },
     "metadata": {},
     "output_type": "display_data"
    },
    {
     "name": "stdout",
     "output_type": "stream",
     "text": [
      "🔁 Epoch 137 terminé — Moyenne loss : 0.0330\n"
     ]
    },
    {
     "data": {
      "application/vnd.jupyter.widget-view+json": {
       "model_id": "6f154d8312974c109f54474629c57949",
       "version_major": 2,
       "version_minor": 0
      },
      "text/plain": [
       "Epoch 138/150 | Finetune | t ∈ [0,1000):   0%|          | 0/79 [00:00<?, ?it/s]"
      ]
     },
     "metadata": {},
     "output_type": "display_data"
    },
    {
     "name": "stdout",
     "output_type": "stream",
     "text": [
      "🔁 Epoch 138 terminé — Moyenne loss : 0.0332\n"
     ]
    },
    {
     "data": {
      "application/vnd.jupyter.widget-view+json": {
       "model_id": "bf27f89caddb4866bac594f7bdc54e40",
       "version_major": 2,
       "version_minor": 0
      },
      "text/plain": [
       "Epoch 139/150 | Finetune | t ∈ [0,1000):   0%|          | 0/79 [00:00<?, ?it/s]"
      ]
     },
     "metadata": {},
     "output_type": "display_data"
    },
    {
     "name": "stdout",
     "output_type": "stream",
     "text": [
      "🔁 Epoch 139 terminé — Moyenne loss : 0.0318\n"
     ]
    },
    {
     "data": {
      "application/vnd.jupyter.widget-view+json": {
       "model_id": "def5df78de244ae193ea9163da48b4b6",
       "version_major": 2,
       "version_minor": 0
      },
      "text/plain": [
       "Epoch 140/150 | Finetune | t ∈ [0,1000):   0%|          | 0/79 [00:00<?, ?it/s]"
      ]
     },
     "metadata": {},
     "output_type": "display_data"
    },
    {
     "name": "stdout",
     "output_type": "stream",
     "text": [
      "🔁 Epoch 140 terminé — Moyenne loss : 0.0324\n",
      "📸 Sauvegarde modèle + échantillons (epoch 140) dans results\n"
     ]
    },
    {
     "data": {
      "application/vnd.jupyter.widget-view+json": {
       "model_id": "5138a0b097944959b297faa0f071b7f3",
       "version_major": 2,
       "version_minor": 0
      },
      "text/plain": [
       "Epoch 141/150 | Finetune | t ∈ [0,1000):   0%|          | 0/79 [00:00<?, ?it/s]"
      ]
     },
     "metadata": {},
     "output_type": "display_data"
    },
    {
     "name": "stdout",
     "output_type": "stream",
     "text": [
      "🔁 Epoch 141 terminé — Moyenne loss : 0.0330\n"
     ]
    },
    {
     "data": {
      "application/vnd.jupyter.widget-view+json": {
       "model_id": "fa7d8cb608ca4f2e8c0dde0a76d04fac",
       "version_major": 2,
       "version_minor": 0
      },
      "text/plain": [
       "Epoch 142/150 | Finetune | t ∈ [0,1000):   0%|          | 0/79 [00:00<?, ?it/s]"
      ]
     },
     "metadata": {},
     "output_type": "display_data"
    },
    {
     "name": "stdout",
     "output_type": "stream",
     "text": [
      "🔁 Epoch 142 terminé — Moyenne loss : 0.0330\n"
     ]
    },
    {
     "data": {
      "application/vnd.jupyter.widget-view+json": {
       "model_id": "418df6b3cf024b8f84709ae33a6d7a89",
       "version_major": 2,
       "version_minor": 0
      },
      "text/plain": [
       "Epoch 143/150 | Finetune | t ∈ [0,1000):   0%|          | 0/79 [00:00<?, ?it/s]"
      ]
     },
     "metadata": {},
     "output_type": "display_data"
    },
    {
     "name": "stdout",
     "output_type": "stream",
     "text": [
      "🔁 Epoch 143 terminé — Moyenne loss : 0.0322\n"
     ]
    },
    {
     "data": {
      "application/vnd.jupyter.widget-view+json": {
       "model_id": "86b3dcda6ae942e4b6fb36dd404b9f41",
       "version_major": 2,
       "version_minor": 0
      },
      "text/plain": [
       "Epoch 144/150 | Finetune | t ∈ [0,1000):   0%|          | 0/79 [00:00<?, ?it/s]"
      ]
     },
     "metadata": {},
     "output_type": "display_data"
    },
    {
     "name": "stdout",
     "output_type": "stream",
     "text": [
      "🔁 Epoch 144 terminé — Moyenne loss : 0.0321\n"
     ]
    },
    {
     "data": {
      "application/vnd.jupyter.widget-view+json": {
       "model_id": "22e3abd96e564f52a867dd298b8aa91f",
       "version_major": 2,
       "version_minor": 0
      },
      "text/plain": [
       "Epoch 145/150 | Finetune | t ∈ [0,1000):   0%|          | 0/79 [00:00<?, ?it/s]"
      ]
     },
     "metadata": {},
     "output_type": "display_data"
    },
    {
     "name": "stdout",
     "output_type": "stream",
     "text": [
      "🔁 Epoch 145 terminé — Moyenne loss : 0.0330\n",
      "📸 Sauvegarde modèle + échantillons (epoch 145) dans results\n"
     ]
    },
    {
     "data": {
      "application/vnd.jupyter.widget-view+json": {
       "model_id": "0b0988890e8d4c2087ad2865ca4f808f",
       "version_major": 2,
       "version_minor": 0
      },
      "text/plain": [
       "Epoch 146/150 | Finetune | t ∈ [0,1000):   0%|          | 0/79 [00:00<?, ?it/s]"
      ]
     },
     "metadata": {},
     "output_type": "display_data"
    },
    {
     "name": "stdout",
     "output_type": "stream",
     "text": [
      "🔁 Epoch 146 terminé — Moyenne loss : 0.0318\n"
     ]
    },
    {
     "data": {
      "application/vnd.jupyter.widget-view+json": {
       "model_id": "1c43cbd3af4d4f2999d93c7476713d36",
       "version_major": 2,
       "version_minor": 0
      },
      "text/plain": [
       "Epoch 147/150 | Finetune | t ∈ [0,1000):   0%|          | 0/79 [00:00<?, ?it/s]"
      ]
     },
     "metadata": {},
     "output_type": "display_data"
    },
    {
     "name": "stdout",
     "output_type": "stream",
     "text": [
      "🔁 Epoch 147 terminé — Moyenne loss : 0.0334\n"
     ]
    },
    {
     "data": {
      "application/vnd.jupyter.widget-view+json": {
       "model_id": "89bbc2d6332240bdbf2a11d661a76052",
       "version_major": 2,
       "version_minor": 0
      },
      "text/plain": [
       "Epoch 148/150 | Finetune | t ∈ [0,1000):   0%|          | 0/79 [00:00<?, ?it/s]"
      ]
     },
     "metadata": {},
     "output_type": "display_data"
    },
    {
     "name": "stdout",
     "output_type": "stream",
     "text": [
      "🔁 Epoch 148 terminé — Moyenne loss : 0.0329\n"
     ]
    },
    {
     "data": {
      "application/vnd.jupyter.widget-view+json": {
       "model_id": "ef8a1a0eba234c4aabd77e16690c6f72",
       "version_major": 2,
       "version_minor": 0
      },
      "text/plain": [
       "Epoch 149/150 | Finetune | t ∈ [0,1000):   0%|          | 0/79 [00:00<?, ?it/s]"
      ]
     },
     "metadata": {},
     "output_type": "display_data"
    },
    {
     "name": "stdout",
     "output_type": "stream",
     "text": [
      "🔁 Epoch 149 terminé — Moyenne loss : 0.0309\n"
     ]
    },
    {
     "data": {
      "application/vnd.jupyter.widget-view+json": {
       "model_id": "3c830b7eb48e475bbc4a3b583e84fe38",
       "version_major": 2,
       "version_minor": 0
      },
      "text/plain": [
       "Epoch 150/150 | Finetune | t ∈ [0,1000):   0%|          | 0/79 [00:00<?, ?it/s]"
      ]
     },
     "metadata": {},
     "output_type": "display_data"
    },
    {
     "name": "stdout",
     "output_type": "stream",
     "text": [
      "🔁 Epoch 150 terminé — Moyenne loss : 0.0326\n",
      "📸 Sauvegarde modèle + échantillons (epoch 150) dans results\n"
     ]
    }
   ],
   "source": [
    "start_epoch = 111\n",
    "epochs = 150  # ou plus si tu veux pousser encore un peu\n",
    "timestep_final = 1000\n",
    "current_max_sample_t = 1000  #  éviter t=999 qui est trop bruité\n",
    "lr_finetune = lr * 0.5 \n",
    "\n",
    "\n",
    "# Charger le modèle\n",
    "model = UNetConditional(in_channels=3, base_channels=64, time_emb_dim=256, class_emb_dim=128, num_classes=num_classes).to(device)\n",
    "model.load_state_dict(torch.load(\"model_epoch_110.pt\", map_location=device))\n",
    "print(\"Modèle rechargé depuis model_epoch_110.pt\")\n",
    "\n",
    "# Remettre la diffusion avec T=1000\n",
    "diffusion = GaussianDiffusion(model, timesteps=timestep_final, device=device)\n",
    "\n",
    "# Nouvel optimiseur avec learning rate réduit\n",
    "optimizer = torch.optim.Adam(model.parameters(), lr=lr_finetune)\n",
    "\n",
    "# Boucle d'entraînement stable\n",
    "for epoch in range(start_epoch, epochs + 1):\n",
    "    model.train()\n",
    "    epoch_losses = []\n",
    "\n",
    "    loop = tqdm(dataloader, desc=f\"Epoch {epoch}/{epochs} | Finetune | t ∈ [0,{current_max_sample_t})\")\n",
    "    for x, y in loop:\n",
    "        x, y = x.to(device), y.to(device)\n",
    "        t = torch.randint(0, current_max_sample_t, (x.size(0),), device=device).long()\n",
    "        noise = torch.randn_like(x)\n",
    "        x_t = diffusion.q_sample(x, t, noise)\n",
    "\n",
    "        noise_pred = model(x_t, t, y)\n",
    "        loss = F.mse_loss(noise_pred, noise)\n",
    "\n",
    "        optimizer.zero_grad()\n",
    "        loss.backward()\n",
    "        torch.nn.utils.clip_grad_norm_(model.parameters(), max_norm=1.0)\n",
    "        optimizer.step()\n",
    "\n",
    "        loop.set_postfix(loss=loss.item())\n",
    "        epoch_losses.append(loss.item())\n",
    "        losses.append(loss.item())\n",
    "\n",
    "    avg_loss = sum(epoch_losses) / len(epoch_losses)\n",
    "    print(f\"🔁 Epoch {epoch} terminé — Moyenne loss : {avg_loss:.4f}\")\n",
    "\n",
    "    # 📸 Sauvegarde\n",
    "    if epoch % 5 == 0:\n",
    "        model.eval()\n",
    "        with torch.no_grad():\n",
    "            y_sample = torch.tensor([0] * 16, device=device)\n",
    "            samples = diffusion.sample(batch_size=16, image_size=image_size, y=y_sample)\n",
    "            save_sample_grid(samples, os.path.join(save_dir, f\"sample_epoch_{epoch}.png\"), nrow=4)\n",
    "            torch.save(model.state_dict(), os.path.join(save_dir, f\"model_epoch_{epoch}.pt\"))\n",
    "            print(f\"📸 Sauvegarde modèle + échantillons (epoch {epoch}) dans {save_dir}\")\n"
   ]
  },
  {
   "cell_type": "code",
   "execution_count": 9,
   "metadata": {},
   "outputs": [
    {
     "name": "stderr",
     "output_type": "stream",
     "text": [
      "C:\\Users\\mbell\\AppData\\Local\\Temp\\ipykernel_50124\\690006229.py:27: UserWarning: Glyph 128201 (\\N{CHART WITH DOWNWARDS TREND}) missing from font(s) DejaVu Sans.\n",
      "  plt.tight_layout()\n",
      "C:\\Users\\mbell\\AppData\\Local\\Packages\\PythonSoftwareFoundation.Python.3.11_qbz5n2kfra8p0\\LocalCache\\local-packages\\Python311\\site-packages\\IPython\\core\\pylabtools.py:170: UserWarning: Glyph 128201 (\\N{CHART WITH DOWNWARDS TREND}) missing from font(s) DejaVu Sans.\n",
      "  fig.canvas.print_figure(bytes_io, **kw)\n"
     ]
    },
    {
     "data": {
      "image/png": "[encoded data removed]",
      "text/plain": [
       "<Figure size 1400x600 with 1 Axes>"
      ]
     },
     "metadata": {},
     "output_type": "display_data"
    }
   ],
   "source": [
    "#courbe de loss en logarithmique\n",
    "import matplotlib.pyplot as plt\n",
    "import numpy as np\n",
    "\n",
    "plt.figure(figsize=(14, 6))\n",
    "\n",
    "# Paramètres\n",
    "window = 50  # Moyenne glissante\n",
    "iterations_per_epoch = len(dataloader)  # nombre d'itérations pour 1 epoch\n",
    "\n",
    "# Moyenne glissante\n",
    "smoothed = np.convolve(losses, np.ones(window)/window, mode='valid')\n",
    "\n",
    "# Courbes\n",
    "plt.plot(losses, alpha=0.3, label=\"Loss brute\")\n",
    "\n",
    "plt.plot(range(window - 1, len(losses)), smoothed, color='blue', label=f\"Loss moy. glissante (n={window})\")\n",
    "\n",
    "# Échelle log pour la lisibilité\n",
    "plt.yscale(\"log\")\n",
    "# Légendes & axes\n",
    "plt.xlabel(\"Itérations\")\n",
    "plt.ylabel(\"Loss MSE (log scale)\")\n",
    "plt.title(\"📉 Courbe de la Loss MSE pendant l'entraînement\")\n",
    "plt.legend()\n",
    "plt.grid(True, which=\"both\", ls=\"--\", lw=0.5)\n",
    "plt.tight_layout()\n",
    "plt.show()\n",
    "\n"
   ]
  }
 ],
 "metadata": {
  "kernelspec": {
   "display_name": "Python 3",
   "language": "python",
   "name": "python3"
  },
  "language_info": {
   "codemirror_mode": {
    "name": "ipython",
    "version": 3
   },
   "file_extension": ".py",
   "mimetype": "text/x-python",
   "name": "python",
   "nbconvert_exporter": "python",
   "pygments_lexer": "ipython3",
   "version": "3.11.9"
  }
 },
 "nbformat": 4,
 "nbformat_minor": 2
}
