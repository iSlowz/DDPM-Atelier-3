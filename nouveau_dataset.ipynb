{
 "cells": [
  {
   "cell_type": "code",
   "execution_count": null,
   "metadata": {},
   "outputs": [
    {
     "name": "stdout",
     "output_type": "stream",
     "text": [
      "✅ Fusion terminée dans 'dataset/animals_combined'\n"
     ]
    }
   ],
   "source": [
    "# import os\n",
    "# import shutil\n",
    "\n",
    "# # Dossiers source\n",
    "# root_dir = \"dataset/animals\"\n",
    "# output_dir = \"dataset/animals_combined\"\n",
    "\n",
    "# # Créer le dossier de sortie\n",
    "# os.makedirs(output_dir, exist_ok=True)\n",
    "\n",
    "# # Fusionner train et validation\n",
    "# for split in [\"train\", \"val\"]:\n",
    "#     split_path = os.path.join(root_dir, split)\n",
    "#     for class_name in os.listdir(split_path):\n",
    "#         class_src = os.path.join(split_path, class_name)\n",
    "#         class_dst = os.path.join(output_dir, class_name)\n",
    "\n",
    "#         os.makedirs(class_dst, exist_ok=True)\n",
    "\n",
    "#         for filename in os.listdir(class_src):\n",
    "#             src_file = os.path.join(class_src, filename)\n",
    "#             dst_file = os.path.join(class_dst, filename)\n",
    "#             # Pour éviter les conflits de noms\n",
    "#             if os.path.exists(dst_file):\n",
    "#                 base, ext = os.path.splitext(filename)\n",
    "#                 count = 1\n",
    "#                 while os.path.exists(dst_file):\n",
    "#                     dst_file = os.path.join(class_dst, f\"{base}_{count}{ext}\")\n",
    "#                     count += 1\n",
    "#             shutil.copy2(src_file, dst_file)\n",
    "\n",
    "# print(\"✅ Fusion terminée dans 'dataset/animals_combined'\")\n"
   ]
  },
  {
   "cell_type": "code",
   "execution_count": null,
   "metadata": {},
   "outputs": [],
   "source": [
    "import torch\n",
    "import torch.nn.functional as F\n",
    "from torchvision.utils import save_image\n",
    "from torch import nn\n",
    "\n",
    "class GaussianDiffusion:\n",
    "    def __init__(self, model, timesteps=1000, beta_start=1e-4, beta_end=0.02, device='cuda'):\n",
    "        self.model = model\n",
    "        self.device = device\n",
    "        self.beta_start = beta_start\n",
    "        self.beta_end = beta_end\n",
    "        self.set_timesteps(timesteps)\n",
    "\n",
    "    def set_timesteps(self, timesteps):\n",
    "        self.timesteps = timesteps\n",
    "        self.beta = torch.linspace(self.beta_start, self.beta_end, timesteps).to(self.device)\n",
    "        self.alpha = 1. - self.beta\n",
    "        self.alpha_hat = torch.cumprod(self.alpha, dim=0)\n",
    "        print(f\"🔧 Diffusion mise à jour : {timesteps} étapes\")\n",
    "\n",
    "    def q_sample(self, x_start, t, noise=None):\n",
    "        \n",
    "        if noise is None:\n",
    "            noise = torch.randn_like(x_start)\n",
    "        sqrt_alpha_hat = self.alpha_hat[t].sqrt().unsqueeze(-1).unsqueeze(-1).unsqueeze(-1)\n",
    "        sqrt_one_minus_alpha_hat = (1 - self.alpha_hat[t]).sqrt().unsqueeze(-1).unsqueeze(-1).unsqueeze(-1)\n",
    "        return sqrt_alpha_hat * x_start + sqrt_one_minus_alpha_hat * noise\n",
    "\n",
    "    def p_sample(self, x, t, y):\n",
    "        \"\"\"Effectue une étape de diffusion inverse pour générer une image à partir du bruit.\n",
    "        p(x_t | x_{t-1}) = N(x_{t-1}; \\mu_t, \\sigma_t^2 I)\n",
    "        \"\"\"\n",
    "        # t est un tenseur de taille (batch_size,) contenant les indices de temps pour chaque échantillon\n",
    "        noise_pred = self.model(x, t, y)\n",
    "        beta_t = self.beta[t].unsqueeze(-1).unsqueeze(-1).unsqueeze(-1)\n",
    "        alpha_t = self.alpha[t].unsqueeze(-1).unsqueeze(-1).unsqueeze(-1)\n",
    "        alpha_hat_t = self.alpha_hat[t].unsqueeze(-1).unsqueeze(-1).unsqueeze(-1)\n",
    "\n",
    "        mean = (1 / alpha_t.sqrt()) * (x - beta_t / (1 - alpha_hat_t).sqrt() * noise_pred)\n",
    "\n",
    "        if t[0] == 0:\n",
    "            return mean\n",
    "\n",
    "        noise = torch.randn_like(x)\n",
    "        sigma = beta_t.sqrt()\n",
    "        return mean + sigma * noise\n",
    "\n",
    "    def p_sample_loop(self, shape, y):\n",
    "        x = torch.randn(shape).to(self.device)\n",
    "        for t in reversed(range(self.timesteps)):\n",
    "            t_tensor = torch.full((shape[0],), t, device=self.device, dtype=torch.long)\n",
    "            x = self.p_sample(x, t_tensor, y)\n",
    "        return x\n",
    "\n",
    "    def sample(self, batch_size, image_size, y):\n",
    "        \"\"\"\n",
    "        Génère un échantillon à partir du modèle en effectuant une boucle de diffusion inverse.\n",
    "        :param batch_size: Taille du lot d'échantillons à générer.\n",
    "        :param image_size: Taille de l'image (hauteur, largeur).\n",
    "        :param y: Étiquettes de classe pour la génération conditionnelle.\"\"\"\n",
    "        return self.p_sample_loop((batch_size, 3, image_size, image_size), y)\n",
    "\n",
    "\n",
    "\n",
    "\n",
    "\n",
    "def save_sample_grid(samples, filename, nrow=4):\n",
    "    samples = (samples.clamp(-1, 1) + 1) / 2  # [-1,1] -> [0,1]\n",
    "    save_image(samples, filename, nrow=nrow)"
   ]
  },
  {
   "cell_type": "code",
   "execution_count": 3,
   "metadata": {},
   "outputs": [],
   "source": [
    "import torch\n",
    "import torch.nn as nn\n",
    "import torch.nn.functional as F\n",
    "\n",
    "class ResidualBlock(nn.Module):\n",
    "    def __init__(self, in_channels, out_channels, time_emb_dim, class_emb_dim):\n",
    "        super().__init__()\n",
    "        self.conv1 = nn.Conv2d(in_channels, out_channels, 3, padding=1 , padding_mode='reflect')\n",
    "        self.conv2 = nn.Conv2d(out_channels, out_channels, 3, padding=1, padding_mode='reflect')\n",
    "        self.time_mlp = nn.Linear(time_emb_dim, out_channels)\n",
    "        self.class_mlp = nn.Linear(class_emb_dim, out_channels)\n",
    "        self.activation = nn.SiLU()\n",
    "        self.residual_conv = nn.Conv2d(in_channels, out_channels, 1) if in_channels != out_channels else nn.Identity()\n",
    "\n",
    "    def forward(self, x, t, y):\n",
    "        h = self.activation(self.conv1(x))\n",
    "        time_emb = self.time_mlp(t).unsqueeze(-1).unsqueeze(-1)\n",
    "        class_emb = self.class_mlp(y).unsqueeze(-1).unsqueeze(-1)\n",
    "        h = h + time_emb + class_emb\n",
    "        h = self.conv2(self.activation(h))\n",
    "        return h + self.residual_conv(x)\n",
    "\n",
    "class DownBlock(nn.Module):\n",
    "    def __init__(self, in_channels, out_channels, time_emb_dim, class_emb_dim):\n",
    "        super().__init__()\n",
    "        self.resblock1 = ResidualBlock(in_channels, out_channels, time_emb_dim, class_emb_dim)\n",
    "        self.resblock2 = ResidualBlock(out_channels, out_channels, time_emb_dim, class_emb_dim)\n",
    "        self.down = nn.Conv2d(out_channels, out_channels, 4, 2, 1)  # Downsample\n",
    "\n",
    "    def forward(self, x, t, y):\n",
    "        x = self.resblock1(x, t, y)\n",
    "        x = self.resblock2(x, t, y)\n",
    "        return self.down(x), x\n",
    "\n",
    "class UpBlock(nn.Module):\n",
    "    def __init__(self, up_in_channels, skip_channels, out_channels, time_emb_dim, class_emb_dim):\n",
    "        super().__init__()\n",
    "        self.up = nn.ConvTranspose2d(up_in_channels, out_channels, 4, 2, 1)\n",
    "        self.resblock1 = ResidualBlock(out_channels + skip_channels, out_channels, time_emb_dim, class_emb_dim)\n",
    "        self.resblock2 = ResidualBlock(out_channels, out_channels, time_emb_dim, class_emb_dim)\n",
    "\n",
    "    def forward(self, x, skip, t, y):\n",
    "        x = self.up(x)\n",
    "        x = torch.cat([x, skip], dim=1)\n",
    "        x = self.resblock1(x, t, y)\n",
    "        x = self.resblock2(x, t, y)\n",
    "        return x\n",
    "\n",
    "\n",
    "class UNetConditional(nn.Module):\n",
    "    def __init__(self, in_channels, base_channels, time_emb_dim, class_emb_dim, num_classes):\n",
    "        super().__init__()\n",
    "        self.time_embed = nn.Sequential(\n",
    "            nn.Linear(1, time_emb_dim),\n",
    "            nn.SiLU(),\n",
    "            nn.Linear(time_emb_dim, time_emb_dim)\n",
    "        )\n",
    "        self.class_embed = nn.Embedding(num_classes, class_emb_dim)\n",
    "\n",
    "        self.init_conv = nn.Conv2d(in_channels, base_channels, 3, padding=1, padding_mode='reflect')\n",
    "\n",
    "        self.down1 = DownBlock(base_channels, base_channels * 2, time_emb_dim, class_emb_dim)\n",
    "        self.down2 = DownBlock(base_channels * 2, base_channels * 4, time_emb_dim, class_emb_dim)\n",
    "        self.down3 = DownBlock(base_channels * 4, base_channels * 8, time_emb_dim, class_emb_dim)\n",
    "\n",
    "        self.middle = ResidualBlock(base_channels * 8, base_channels * 8, time_emb_dim, class_emb_dim)\n",
    "\n",
    "        \n",
    "        self.up3 = UpBlock(base_channels * 8, base_channels * 8, base_channels * 4, time_emb_dim, class_emb_dim)\n",
    "        self.up2 = UpBlock(base_channels * 4, base_channels * 4, base_channels * 2, time_emb_dim, class_emb_dim)\n",
    "        self.up1 = UpBlock(base_channels * 2, base_channels * 2, base_channels, time_emb_dim, class_emb_dim)\n",
    "\n",
    "        self.final_conv = nn.Conv2d(base_channels, in_channels, 1)  # pas de pooling ni réduction\n",
    "\n",
    "    def forward(self, x, t, y):\n",
    "        # print(f\"[Input] x: {x.shape}\")\n",
    "        \n",
    "        t = self.time_embed(t.unsqueeze(-1).float())\n",
    "        y = self.class_embed(y)\n",
    "\n",
    "        x = self.init_conv(x)\n",
    "        # print(f\"After init_conv: {x.shape}\")\n",
    "        \n",
    "        x1, skip1 = self.down1(x, t, y)\n",
    "        # print(f\"After down1: {x1.shape}, skip1: {skip1.shape}\")\n",
    "        \n",
    "        x2, skip2 = self.down2(x1, t, y)\n",
    "        # print(f\"After down2: {x2.shape}, skip2: {skip2.shape}\")\n",
    "        \n",
    "        x3, skip3 = self.down3(x2, t, y)\n",
    "        # print(f\"After down3: {x3.shape}, skip3: {skip3.shape}\")\n",
    "        \n",
    "        x = self.middle(x3, t, y)\n",
    "        # print(f\"After middle: {x.shape}\")\n",
    "        \n",
    "        x = self.up3(x, skip3, t, y)\n",
    "        # print(f\"After up3: {x.shape}\")\n",
    "        \n",
    "        x = self.up2(x, skip2, t, y)\n",
    "        # print(f\"After up2: {x.shape}\")\n",
    "        \n",
    "        x = self.up1(x, skip1, t, y)\n",
    "        # print(f\"After up1: {x.shape}\")\n",
    "\n",
    "        out = self.final_conv(x)\n",
    "        # print(f\"[Output] out: {out.shape}\")\n",
    "        return out\n"
   ]
  },
  {
   "cell_type": "code",
   "execution_count": 6,
   "metadata": {},
   "outputs": [
    {
     "name": "stdout",
     "output_type": "stream",
     "text": [
      "🖥️ Device utilisé : cuda\n",
      "🟢 GPU détecté : NVIDIA GeForce RTX 4070 Laptop GPU\n",
      "📚 Classes détectées : ['cat', 'dog', 'elephant', 'horse', 'lion']\n",
      "🔢 Nombre de classes : 1 (classe 'dog' uniquement)\n"
     ]
    }
   ],
   "source": [
    "import torch\n",
    "import torch.nn as nn\n",
    "import torch.optim as optim\n",
    "from torchvision import datasets, transforms\n",
    "from torch.utils.data import DataLoader\n",
    "import os\n",
    "\n",
    "# ⚙️ Hyperparamètres\n",
    "device = torch.device(\"cuda\" if torch.cuda.is_available() else \"cpu\")\n",
    "print(f\"🖥️ Device utilisé : {device}\")\n",
    "if device.type == \"cuda\":\n",
    "    print(f\"🟢 GPU détecté : {torch.cuda.get_device_name(0)}\")\n",
    "else:\n",
    "    print(\"🔴 Pas de GPU utilisé, on est sur CPU\")\n",
    "\n",
    "epochs = 100\n",
    "batch_size = 64\n",
    "lr = 2e-4\n",
    "image_size = 40  # ⬅️ Resize à 64x64\n",
    "save_dir = \"results\"\n",
    "os.makedirs(save_dir, exist_ok=True)\n",
    "\n",
    "# 📦 Transformations\n",
    "transform = transforms.Compose([\n",
    "    transforms.Resize((image_size, image_size)),\n",
    "    transforms.ToTensor(),\n",
    "    transforms.Normalize((0.5,), (0.5,))\n",
    "])\n",
    "\n",
    "# 📂 Charger le dataset fusionné\n",
    "dataset_path = \"dataset/animals_combined\"\n",
    "full_dataset = datasets.ImageFolder(dataset_path, transform=transform)\n",
    "\n",
    "# 🐶 Filtrer uniquement la classe \"dog\"\n",
    "class_names = full_dataset.classes  # ['cat', 'dog', 'elephant', 'horse', 'lion']\n",
    "print(f\"📚 Classes détectées : {class_names}\")\n",
    "dog_class_index = class_names.index(\"dog\")\n",
    "\n",
    "# 📌 Filtrage\n",
    "filtered_dataset = [(img, 0) for img, label in full_dataset if label == dog_class_index]\n",
    "\n",
    "# 🧠 Nombre de classes (juste dog = 1)\n",
    "num_classes = 1\n",
    "print(f\"🔢 Nombre de classes : {num_classes} (classe 'dog' uniquement)\")\n",
    "\n",
    "# 🔄 DataLoader\n",
    "dataloader = DataLoader(filtered_dataset, batch_size=batch_size, shuffle=True, num_workers=4)\n"
   ]
  },
  {
   "cell_type": "code",
   "execution_count": 7,
   "metadata": {},
   "outputs": [
    {
     "data": {
      "image/png": "[encoded data removed]",
      "text/plain": [
       "<Figure size 800x800 with 1 Axes>"
      ]
     },
     "metadata": {},
     "output_type": "display_data"
    }
   ],
   "source": [
    "import matplotlib.pyplot as plt\n",
    "import torchvision.utils as vutils\n",
    "\n",
    "# Obtenir un batch d'images\n",
    "images, labels = next(iter(dataloader))\n",
    "\n",
    "# Dénormaliser (passer de [-1, 1] à [0, 1])\n",
    "images = (images * 0.5) + 0.5\n",
    "\n",
    "# Créer une grille d'images\n",
    "grid = vutils.make_grid(images[:16], nrow=4)\n",
    "\n",
    "# Affichage\n",
    "plt.figure(figsize=(8, 8))\n",
    "plt.imshow(grid.permute(1, 2, 0).cpu().numpy())\n",
    "plt.axis(\"off\")\n",
    "plt.title(\"🐶 Exemple d'images de la classe 'dog'\")\n",
    "plt.show()\n"
   ]
  },
  {
   "cell_type": "code",
   "execution_count": 8,
   "metadata": {},
   "outputs": [
    {
     "name": "stdout",
     "output_type": "stream",
     "text": [
      "🔧 Diffusion mise à jour : 100 étapes\n"
     ]
    },
    {
     "data": {
      "application/vnd.jupyter.widget-view+json": {
       "model_id": "ff24b57237d648aab9f6e661bf790927",
       "version_major": 2,
       "version_minor": 0
      },
      "text/plain": [
       "Epoch 1/100 | Timesteps: 100 | Sample t ∈ [0,100):   0%|          | 0/46 [00:00<?, ?it/s]"
      ]
     },
     "metadata": {},
     "output_type": "display_data"
    },
    {
     "name": "stdout",
     "output_type": "stream",
     "text": [
      "🔁 Epoch 1 terminé — Moyenne loss : 2.9087\n"
     ]
    },
    {
     "data": {
      "application/vnd.jupyter.widget-view+json": {
       "model_id": "93a0e5efbe1b41da8aaeae8dd88339d0",
       "version_major": 2,
       "version_minor": 0
      },
      "text/plain": [
       "Epoch 2/100 | Timesteps: 100 | Sample t ∈ [0,100):   0%|          | 0/46 [00:00<?, ?it/s]"
      ]
     },
     "metadata": {},
     "output_type": "display_data"
    },
    {
     "name": "stdout",
     "output_type": "stream",
     "text": [
      "🔁 Epoch 2 terminé — Moyenne loss : 0.7429\n"
     ]
    },
    {
     "data": {
      "application/vnd.jupyter.widget-view+json": {
       "model_id": "eb16822542b04c27b1130c924341927d",
       "version_major": 2,
       "version_minor": 0
      },
      "text/plain": [
       "Epoch 3/100 | Timesteps: 100 | Sample t ∈ [0,100):   0%|          | 0/46 [00:00<?, ?it/s]"
      ]
     },
     "metadata": {},
     "output_type": "display_data"
    },
    {
     "name": "stdout",
     "output_type": "stream",
     "text": [
      "🔁 Epoch 3 terminé — Moyenne loss : 0.4289\n"
     ]
    },
    {
     "data": {
      "application/vnd.jupyter.widget-view+json": {
       "model_id": "b2c8b2b6446e4643b093ca20badea659",
       "version_major": 2,
       "version_minor": 0
      },
      "text/plain": [
       "Epoch 4/100 | Timesteps: 100 | Sample t ∈ [0,100):   0%|          | 0/46 [00:00<?, ?it/s]"
      ]
     },
     "metadata": {},
     "output_type": "display_data"
    },
    {
     "name": "stdout",
     "output_type": "stream",
     "text": [
      "🔁 Epoch 4 terminé — Moyenne loss : 0.2330\n"
     ]
    },
    {
     "data": {
      "application/vnd.jupyter.widget-view+json": {
       "model_id": "7e386bcb5ded4173a6f8a5f28409e566",
       "version_major": 2,
       "version_minor": 0
      },
      "text/plain": [
       "Epoch 5/100 | Timesteps: 100 | Sample t ∈ [0,100):   0%|          | 0/46 [00:00<?, ?it/s]"
      ]
     },
     "metadata": {},
     "output_type": "display_data"
    },
    {
     "name": "stdout",
     "output_type": "stream",
     "text": [
      "🔁 Epoch 5 terminé — Moyenne loss : 0.1751\n",
      "📸 Échantillons + modèle sauvegardés (epoch 5) dans results\n"
     ]
    },
    {
     "data": {
      "application/vnd.jupyter.widget-view+json": {
       "model_id": "2db844fc4b7a459199c58ea7da148545",
       "version_major": 2,
       "version_minor": 0
      },
      "text/plain": [
       "Epoch 6/100 | Timesteps: 100 | Sample t ∈ [0,100):   0%|          | 0/46 [00:00<?, ?it/s]"
      ]
     },
     "metadata": {},
     "output_type": "display_data"
    },
    {
     "name": "stdout",
     "output_type": "stream",
     "text": [
      "🔁 Epoch 6 terminé — Moyenne loss : 0.1488\n"
     ]
    },
    {
     "data": {
      "application/vnd.jupyter.widget-view+json": {
       "model_id": "99d67613c4cf42e0816254be9a58068f",
       "version_major": 2,
       "version_minor": 0
      },
      "text/plain": [
       "Epoch 7/100 | Timesteps: 100 | Sample t ∈ [0,100):   0%|          | 0/46 [00:00<?, ?it/s]"
      ]
     },
     "metadata": {},
     "output_type": "display_data"
    },
    {
     "name": "stdout",
     "output_type": "stream",
     "text": [
      "🔁 Epoch 7 terminé — Moyenne loss : 0.1382\n"
     ]
    },
    {
     "data": {
      "application/vnd.jupyter.widget-view+json": {
       "model_id": "dad76acef5614c43bf1a6a1e7b6ba333",
       "version_major": 2,
       "version_minor": 0
      },
      "text/plain": [
       "Epoch 8/100 | Timesteps: 100 | Sample t ∈ [0,100):   0%|          | 0/46 [00:00<?, ?it/s]"
      ]
     },
     "metadata": {},
     "output_type": "display_data"
    },
    {
     "name": "stdout",
     "output_type": "stream",
     "text": [
      "🔁 Epoch 8 terminé — Moyenne loss : 0.1229\n"
     ]
    },
    {
     "data": {
      "application/vnd.jupyter.widget-view+json": {
       "model_id": "2ffc1c0bb9114cac84a2253ba2e5f302",
       "version_major": 2,
       "version_minor": 0
      },
      "text/plain": [
       "Epoch 9/100 | Timesteps: 100 | Sample t ∈ [0,100):   0%|          | 0/46 [00:00<?, ?it/s]"
      ]
     },
     "metadata": {},
     "output_type": "display_data"
    },
    {
     "name": "stdout",
     "output_type": "stream",
     "text": [
      "🔁 Epoch 9 terminé — Moyenne loss : 0.1236\n"
     ]
    },
    {
     "data": {
      "application/vnd.jupyter.widget-view+json": {
       "model_id": "d1bebe9463ed4c30bb163b74c26bfa75",
       "version_major": 2,
       "version_minor": 0
      },
      "text/plain": [
       "Epoch 10/100 | Timesteps: 100 | Sample t ∈ [0,100):   0%|          | 0/46 [00:00<?, ?it/s]"
      ]
     },
     "metadata": {},
     "output_type": "display_data"
    },
    {
     "name": "stdout",
     "output_type": "stream",
     "text": [
      "🔁 Epoch 10 terminé — Moyenne loss : 0.1139\n",
      "🔧 Diffusion mise à jour : 200 étapes\n",
      "🧼 Optimiseur réinitialisé après update des timesteps à 200\n",
      "📸 Échantillons + modèle sauvegardés (epoch 10) dans results\n"
     ]
    },
    {
     "data": {
      "application/vnd.jupyter.widget-view+json": {
       "model_id": "7a3f90bcc31449b4b43ec432d20f5454",
       "version_major": 2,
       "version_minor": 0
      },
      "text/plain": [
       "Epoch 11/100 | Timesteps: 200 | Sample t ∈ [0,100):   0%|          | 0/46 [00:00<?, ?it/s]"
      ]
     },
     "metadata": {},
     "output_type": "display_data"
    },
    {
     "name": "stdout",
     "output_type": "stream",
     "text": [
      "🔁 Epoch 11 terminé — Moyenne loss : 0.1538\n"
     ]
    },
    {
     "data": {
      "application/vnd.jupyter.widget-view+json": {
       "model_id": "a2d0cb27055b40009da2cf870cb0d1d5",
       "version_major": 2,
       "version_minor": 0
      },
      "text/plain": [
       "Epoch 12/100 | Timesteps: 200 | Sample t ∈ [0,125):   0%|          | 0/46 [00:00<?, ?it/s]"
      ]
     },
     "metadata": {},
     "output_type": "display_data"
    },
    {
     "name": "stdout",
     "output_type": "stream",
     "text": [
      "🔁 Epoch 12 terminé — Moyenne loss : 0.1214\n"
     ]
    },
    {
     "data": {
      "application/vnd.jupyter.widget-view+json": {
       "model_id": "ceb3bfc568fc414ba7fa16e81116fae4",
       "version_major": 2,
       "version_minor": 0
      },
      "text/plain": [
       "Epoch 13/100 | Timesteps: 200 | Sample t ∈ [0,150):   0%|          | 0/46 [00:00<?, ?it/s]"
      ]
     },
     "metadata": {},
     "output_type": "display_data"
    },
    {
     "name": "stdout",
     "output_type": "stream",
     "text": [
      "🔁 Epoch 13 terminé — Moyenne loss : 0.1066\n"
     ]
    },
    {
     "data": {
      "application/vnd.jupyter.widget-view+json": {
       "model_id": "aa6339836dd84e40867d73050786d99e",
       "version_major": 2,
       "version_minor": 0
      },
      "text/plain": [
       "Epoch 14/100 | Timesteps: 200 | Sample t ∈ [0,175):   0%|          | 0/46 [00:00<?, ?it/s]"
      ]
     },
     "metadata": {},
     "output_type": "display_data"
    },
    {
     "name": "stdout",
     "output_type": "stream",
     "text": [
      "🔁 Epoch 14 terminé — Moyenne loss : 0.0934\n"
     ]
    },
    {
     "data": {
      "application/vnd.jupyter.widget-view+json": {
       "model_id": "a6ee653e55a04e4e94393709070afb40",
       "version_major": 2,
       "version_minor": 0
      },
      "text/plain": [
       "Epoch 15/100 | Timesteps: 200 | Sample t ∈ [0,185):   0%|          | 0/46 [00:00<?, ?it/s]"
      ]
     },
     "metadata": {},
     "output_type": "display_data"
    },
    {
     "name": "stdout",
     "output_type": "stream",
     "text": [
      "🔁 Epoch 15 terminé — Moyenne loss : 0.0890\n",
      "📸 Échantillons + modèle sauvegardés (epoch 15) dans results\n"
     ]
    },
    {
     "data": {
      "application/vnd.jupyter.widget-view+json": {
       "model_id": "766e8a72bf814e76871bb223a13ba250",
       "version_major": 2,
       "version_minor": 0
      },
      "text/plain": [
       "Epoch 16/100 | Timesteps: 200 | Sample t ∈ [0,195):   0%|          | 0/46 [00:00<?, ?it/s]"
      ]
     },
     "metadata": {},
     "output_type": "display_data"
    },
    {
     "name": "stdout",
     "output_type": "stream",
     "text": [
      "🔁 Epoch 16 terminé — Moyenne loss : 0.0839\n"
     ]
    },
    {
     "data": {
      "application/vnd.jupyter.widget-view+json": {
       "model_id": "1a72e0b0b1084512b8f181510c701055",
       "version_major": 2,
       "version_minor": 0
      },
      "text/plain": [
       "Epoch 17/100 | Timesteps: 200 | Sample t ∈ [0,198):   0%|          | 0/46 [00:00<?, ?it/s]"
      ]
     },
     "metadata": {},
     "output_type": "display_data"
    },
    {
     "name": "stdout",
     "output_type": "stream",
     "text": [
      "🔁 Epoch 17 terminé — Moyenne loss : 0.0814\n"
     ]
    },
    {
     "data": {
      "application/vnd.jupyter.widget-view+json": {
       "model_id": "c53bb3493ae2455e83ce6535a940be2c",
       "version_major": 2,
       "version_minor": 0
      },
      "text/plain": [
       "Epoch 18/100 | Timesteps: 200 | Sample t ∈ [0,198):   0%|          | 0/46 [00:00<?, ?it/s]"
      ]
     },
     "metadata": {},
     "output_type": "display_data"
    },
    {
     "name": "stdout",
     "output_type": "stream",
     "text": [
      "🔁 Epoch 18 terminé — Moyenne loss : 0.0807\n"
     ]
    },
    {
     "data": {
      "application/vnd.jupyter.widget-view+json": {
       "model_id": "389b43aaf44049d29cfba4bd91a19694",
       "version_major": 2,
       "version_minor": 0
      },
      "text/plain": [
       "Epoch 19/100 | Timesteps: 200 | Sample t ∈ [0,198):   0%|          | 0/46 [00:00<?, ?it/s]"
      ]
     },
     "metadata": {},
     "output_type": "display_data"
    },
    {
     "name": "stdout",
     "output_type": "stream",
     "text": [
      "🔁 Epoch 19 terminé — Moyenne loss : 0.0782\n"
     ]
    },
    {
     "data": {
      "application/vnd.jupyter.widget-view+json": {
       "model_id": "74987a78634e4360aff1326fab8c3529",
       "version_major": 2,
       "version_minor": 0
      },
      "text/plain": [
       "Epoch 20/100 | Timesteps: 200 | Sample t ∈ [0,198):   0%|          | 0/46 [00:00<?, ?it/s]"
      ]
     },
     "metadata": {},
     "output_type": "display_data"
    },
    {
     "name": "stdout",
     "output_type": "stream",
     "text": [
      "🔁 Epoch 20 terminé — Moyenne loss : 0.0792\n",
      "🔧 Diffusion mise à jour : 300 étapes\n",
      "🧼 Optimiseur réinitialisé après update des timesteps à 300\n",
      "📸 Échantillons + modèle sauvegardés (epoch 20) dans results\n"
     ]
    },
    {
     "data": {
      "application/vnd.jupyter.widget-view+json": {
       "model_id": "5dd9be579d6d44869b6b9fd7d0f09e6f",
       "version_major": 2,
       "version_minor": 0
      },
      "text/plain": [
       "Epoch 21/100 | Timesteps: 300 | Sample t ∈ [0,200):   0%|          | 0/46 [00:00<?, ?it/s]"
      ]
     },
     "metadata": {},
     "output_type": "display_data"
    },
    {
     "name": "stdout",
     "output_type": "stream",
     "text": [
      "🔁 Epoch 21 terminé — Moyenne loss : 0.1046\n"
     ]
    },
    {
     "data": {
      "application/vnd.jupyter.widget-view+json": {
       "model_id": "94227d3945de434385aab785ca2a8208",
       "version_major": 2,
       "version_minor": 0
      },
      "text/plain": [
       "Epoch 22/100 | Timesteps: 300 | Sample t ∈ [0,225):   0%|          | 0/46 [00:00<?, ?it/s]"
      ]
     },
     "metadata": {},
     "output_type": "display_data"
    },
    {
     "name": "stdout",
     "output_type": "stream",
     "text": [
      "🔁 Epoch 22 terminé — Moyenne loss : 0.0834\n"
     ]
    },
    {
     "data": {
      "application/vnd.jupyter.widget-view+json": {
       "model_id": "965446768309410baed2245fbb680a81",
       "version_major": 2,
       "version_minor": 0
      },
      "text/plain": [
       "Epoch 23/100 | Timesteps: 300 | Sample t ∈ [0,250):   0%|          | 0/46 [00:00<?, ?it/s]"
      ]
     },
     "metadata": {},
     "output_type": "display_data"
    },
    {
     "name": "stdout",
     "output_type": "stream",
     "text": [
      "🔁 Epoch 23 terminé — Moyenne loss : 0.0746\n"
     ]
    },
    {
     "data": {
      "application/vnd.jupyter.widget-view+json": {
       "model_id": "be00f3d8e6f84893b5f9a6bfb63071c5",
       "version_major": 2,
       "version_minor": 0
      },
      "text/plain": [
       "Epoch 24/100 | Timesteps: 300 | Sample t ∈ [0,275):   0%|          | 0/46 [00:00<?, ?it/s]"
      ]
     },
     "metadata": {},
     "output_type": "display_data"
    },
    {
     "name": "stdout",
     "output_type": "stream",
     "text": [
      "🔁 Epoch 24 terminé — Moyenne loss : 0.0684\n"
     ]
    },
    {
     "data": {
      "application/vnd.jupyter.widget-view+json": {
       "model_id": "4af9aef5412842b0aa498ed2710ad67d",
       "version_major": 2,
       "version_minor": 0
      },
      "text/plain": [
       "Epoch 25/100 | Timesteps: 300 | Sample t ∈ [0,285):   0%|          | 0/46 [00:00<?, ?it/s]"
      ]
     },
     "metadata": {},
     "output_type": "display_data"
    },
    {
     "name": "stdout",
     "output_type": "stream",
     "text": [
      "🔁 Epoch 25 terminé — Moyenne loss : 0.0677\n",
      "📸 Échantillons + modèle sauvegardés (epoch 25) dans results\n"
     ]
    },
    {
     "data": {
      "application/vnd.jupyter.widget-view+json": {
       "model_id": "a4beab562f9342a593aa0ebbb1ab396e",
       "version_major": 2,
       "version_minor": 0
      },
      "text/plain": [
       "Epoch 26/100 | Timesteps: 300 | Sample t ∈ [0,295):   0%|          | 0/46 [00:00<?, ?it/s]"
      ]
     },
     "metadata": {},
     "output_type": "display_data"
    },
    {
     "name": "stdout",
     "output_type": "stream",
     "text": [
      "🔁 Epoch 26 terminé — Moyenne loss : 0.0641\n"
     ]
    },
    {
     "data": {
      "application/vnd.jupyter.widget-view+json": {
       "model_id": "ec4c5975c8db42af9fdc41e1821c05e2",
       "version_major": 2,
       "version_minor": 0
      },
      "text/plain": [
       "Epoch 27/100 | Timesteps: 300 | Sample t ∈ [0,298):   0%|          | 0/46 [00:00<?, ?it/s]"
      ]
     },
     "metadata": {},
     "output_type": "display_data"
    },
    {
     "name": "stdout",
     "output_type": "stream",
     "text": [
      "🔁 Epoch 27 terminé — Moyenne loss : 0.0643\n"
     ]
    },
    {
     "data": {
      "application/vnd.jupyter.widget-view+json": {
       "model_id": "d8698d9a593b4c67a52a162c0b939fe7",
       "version_major": 2,
       "version_minor": 0
      },
      "text/plain": [
       "Epoch 28/100 | Timesteps: 300 | Sample t ∈ [0,298):   0%|          | 0/46 [00:00<?, ?it/s]"
      ]
     },
     "metadata": {},
     "output_type": "display_data"
    },
    {
     "name": "stdout",
     "output_type": "stream",
     "text": [
      "🔁 Epoch 28 terminé — Moyenne loss : 0.0648\n"
     ]
    },
    {
     "data": {
      "application/vnd.jupyter.widget-view+json": {
       "model_id": "ad50055dbe954dfc919db83f882f9adc",
       "version_major": 2,
       "version_minor": 0
      },
      "text/plain": [
       "Epoch 29/100 | Timesteps: 300 | Sample t ∈ [0,298):   0%|          | 0/46 [00:00<?, ?it/s]"
      ]
     },
     "metadata": {},
     "output_type": "display_data"
    },
    {
     "name": "stdout",
     "output_type": "stream",
     "text": [
      "🔁 Epoch 29 terminé — Moyenne loss : 0.0635\n"
     ]
    },
    {
     "data": {
      "application/vnd.jupyter.widget-view+json": {
       "model_id": "f21c8885e12342288178176887f643b2",
       "version_major": 2,
       "version_minor": 0
      },
      "text/plain": [
       "Epoch 30/100 | Timesteps: 300 | Sample t ∈ [0,298):   0%|          | 0/46 [00:00<?, ?it/s]"
      ]
     },
     "metadata": {},
     "output_type": "display_data"
    },
    {
     "name": "stdout",
     "output_type": "stream",
     "text": [
      "🔁 Epoch 30 terminé — Moyenne loss : 0.0618\n",
      "🔧 Diffusion mise à jour : 400 étapes\n",
      "🧼 Optimiseur réinitialisé après update des timesteps à 400\n",
      "📸 Échantillons + modèle sauvegardés (epoch 30) dans results\n"
     ]
    },
    {
     "data": {
      "application/vnd.jupyter.widget-view+json": {
       "model_id": "9fca32f8bc9444a8bb651593a0a5f2ad",
       "version_major": 2,
       "version_minor": 0
      },
      "text/plain": [
       "Epoch 31/100 | Timesteps: 400 | Sample t ∈ [0,300):   0%|          | 0/46 [00:00<?, ?it/s]"
      ]
     },
     "metadata": {},
     "output_type": "display_data"
    },
    {
     "name": "stdout",
     "output_type": "stream",
     "text": [
      "🔁 Epoch 31 terminé — Moyenne loss : 0.0923\n"
     ]
    },
    {
     "data": {
      "application/vnd.jupyter.widget-view+json": {
       "model_id": "9b0e8affb6c64900809566866e5e77b4",
       "version_major": 2,
       "version_minor": 0
      },
      "text/plain": [
       "Epoch 32/100 | Timesteps: 400 | Sample t ∈ [0,325):   0%|          | 0/46 [00:00<?, ?it/s]"
      ]
     },
     "metadata": {},
     "output_type": "display_data"
    },
    {
     "name": "stdout",
     "output_type": "stream",
     "text": [
      "🔁 Epoch 32 terminé — Moyenne loss : 0.0655\n"
     ]
    },
    {
     "data": {
      "application/vnd.jupyter.widget-view+json": {
       "model_id": "836bf6f3391542488c795a9f56a28fad",
       "version_major": 2,
       "version_minor": 0
      },
      "text/plain": [
       "Epoch 33/100 | Timesteps: 400 | Sample t ∈ [0,350):   0%|          | 0/46 [00:00<?, ?it/s]"
      ]
     },
     "metadata": {},
     "output_type": "display_data"
    },
    {
     "name": "stdout",
     "output_type": "stream",
     "text": [
      "🔁 Epoch 33 terminé — Moyenne loss : 0.0617\n"
     ]
    },
    {
     "data": {
      "application/vnd.jupyter.widget-view+json": {
       "model_id": "998243afa910416eb5b3b9523a29a561",
       "version_major": 2,
       "version_minor": 0
      },
      "text/plain": [
       "Epoch 34/100 | Timesteps: 400 | Sample t ∈ [0,375):   0%|          | 0/46 [00:00<?, ?it/s]"
      ]
     },
     "metadata": {},
     "output_type": "display_data"
    },
    {
     "name": "stdout",
     "output_type": "stream",
     "text": [
      "🔁 Epoch 34 terminé — Moyenne loss : 0.0535\n"
     ]
    },
    {
     "data": {
      "application/vnd.jupyter.widget-view+json": {
       "model_id": "4718aa511d8e4a4e894bd6e0b4be3792",
       "version_major": 2,
       "version_minor": 0
      },
      "text/plain": [
       "Epoch 35/100 | Timesteps: 400 | Sample t ∈ [0,385):   0%|          | 0/46 [00:00<?, ?it/s]"
      ]
     },
     "metadata": {},
     "output_type": "display_data"
    },
    {
     "name": "stdout",
     "output_type": "stream",
     "text": [
      "🔁 Epoch 35 terminé — Moyenne loss : 0.0563\n",
      "📸 Échantillons + modèle sauvegardés (epoch 35) dans results\n"
     ]
    },
    {
     "data": {
      "application/vnd.jupyter.widget-view+json": {
       "model_id": "53af112fde2f470d95893a5d28f79e8b",
       "version_major": 2,
       "version_minor": 0
      },
      "text/plain": [
       "Epoch 36/100 | Timesteps: 400 | Sample t ∈ [0,395):   0%|          | 0/46 [00:00<?, ?it/s]"
      ]
     },
     "metadata": {},
     "output_type": "display_data"
    },
    {
     "name": "stdout",
     "output_type": "stream",
     "text": [
      "🔁 Epoch 36 terminé — Moyenne loss : 0.0520\n"
     ]
    },
    {
     "data": {
      "application/vnd.jupyter.widget-view+json": {
       "model_id": "2bcacda007da4f76849f41ad2784a014",
       "version_major": 2,
       "version_minor": 0
      },
      "text/plain": [
       "Epoch 37/100 | Timesteps: 400 | Sample t ∈ [0,398):   0%|          | 0/46 [00:00<?, ?it/s]"
      ]
     },
     "metadata": {},
     "output_type": "display_data"
    },
    {
     "name": "stdout",
     "output_type": "stream",
     "text": [
      "🔁 Epoch 37 terminé — Moyenne loss : 0.0501\n"
     ]
    },
    {
     "data": {
      "application/vnd.jupyter.widget-view+json": {
       "model_id": "eb99d75abc83453a97cd9e940c4823ca",
       "version_major": 2,
       "version_minor": 0
      },
      "text/plain": [
       "Epoch 38/100 | Timesteps: 400 | Sample t ∈ [0,398):   0%|          | 0/46 [00:00<?, ?it/s]"
      ]
     },
     "metadata": {},
     "output_type": "display_data"
    },
    {
     "name": "stdout",
     "output_type": "stream",
     "text": [
      "🔁 Epoch 38 terminé — Moyenne loss : 0.0508\n"
     ]
    },
    {
     "data": {
      "application/vnd.jupyter.widget-view+json": {
       "model_id": "820333d60e4947f89b9896577ff01cb7",
       "version_major": 2,
       "version_minor": 0
      },
      "text/plain": [
       "Epoch 39/100 | Timesteps: 400 | Sample t ∈ [0,398):   0%|          | 0/46 [00:00<?, ?it/s]"
      ]
     },
     "metadata": {},
     "output_type": "display_data"
    },
    {
     "name": "stdout",
     "output_type": "stream",
     "text": [
      "🔁 Epoch 39 terminé — Moyenne loss : 0.0531\n"
     ]
    },
    {
     "data": {
      "application/vnd.jupyter.widget-view+json": {
       "model_id": "d682cc7bca22416d9b839e05145fc7c1",
       "version_major": 2,
       "version_minor": 0
      },
      "text/plain": [
       "Epoch 40/100 | Timesteps: 400 | Sample t ∈ [0,398):   0%|          | 0/46 [00:00<?, ?it/s]"
      ]
     },
     "metadata": {},
     "output_type": "display_data"
    },
    {
     "name": "stdout",
     "output_type": "stream",
     "text": [
      "🔁 Epoch 40 terminé — Moyenne loss : 0.0517\n",
      "🔧 Diffusion mise à jour : 500 étapes\n",
      "🧼 Optimiseur réinitialisé après update des timesteps à 500\n",
      "📸 Échantillons + modèle sauvegardés (epoch 40) dans results\n"
     ]
    },
    {
     "data": {
      "application/vnd.jupyter.widget-view+json": {
       "model_id": "0f5fa98c65fa484fa1058c7c7f84a510",
       "version_major": 2,
       "version_minor": 0
      },
      "text/plain": [
       "Epoch 41/100 | Timesteps: 500 | Sample t ∈ [0,400):   0%|          | 0/46 [00:00<?, ?it/s]"
      ]
     },
     "metadata": {},
     "output_type": "display_data"
    },
    {
     "name": "stdout",
     "output_type": "stream",
     "text": [
      "🔁 Epoch 41 terminé — Moyenne loss : 0.0868\n"
     ]
    },
    {
     "data": {
      "application/vnd.jupyter.widget-view+json": {
       "model_id": "b518c56f12d6442689ecab8364b5eac3",
       "version_major": 2,
       "version_minor": 0
      },
      "text/plain": [
       "Epoch 42/100 | Timesteps: 500 | Sample t ∈ [0,425):   0%|          | 0/46 [00:00<?, ?it/s]"
      ]
     },
     "metadata": {},
     "output_type": "display_data"
    },
    {
     "name": "stdout",
     "output_type": "stream",
     "text": [
      "🔁 Epoch 42 terminé — Moyenne loss : 0.0568\n"
     ]
    },
    {
     "data": {
      "application/vnd.jupyter.widget-view+json": {
       "model_id": "bf51c8c7d1df469c866da61405bc6939",
       "version_major": 2,
       "version_minor": 0
      },
      "text/plain": [
       "Epoch 43/100 | Timesteps: 500 | Sample t ∈ [0,450):   0%|          | 0/46 [00:00<?, ?it/s]"
      ]
     },
     "metadata": {},
     "output_type": "display_data"
    },
    {
     "name": "stdout",
     "output_type": "stream",
     "text": [
      "🔁 Epoch 43 terminé — Moyenne loss : 0.0522\n"
     ]
    },
    {
     "data": {
      "application/vnd.jupyter.widget-view+json": {
       "model_id": "4d1c6d0cada64baa96203ff479204125",
       "version_major": 2,
       "version_minor": 0
      },
      "text/plain": [
       "Epoch 44/100 | Timesteps: 500 | Sample t ∈ [0,475):   0%|          | 0/46 [00:00<?, ?it/s]"
      ]
     },
     "metadata": {},
     "output_type": "display_data"
    },
    {
     "name": "stdout",
     "output_type": "stream",
     "text": [
      "🔁 Epoch 44 terminé — Moyenne loss : 0.0498\n"
     ]
    },
    {
     "data": {
      "application/vnd.jupyter.widget-view+json": {
       "model_id": "a4364c836cef44f19e542a99af77f525",
       "version_major": 2,
       "version_minor": 0
      },
      "text/plain": [
       "Epoch 45/100 | Timesteps: 500 | Sample t ∈ [0,485):   0%|          | 0/46 [00:00<?, ?it/s]"
      ]
     },
     "metadata": {},
     "output_type": "display_data"
    },
    {
     "name": "stdout",
     "output_type": "stream",
     "text": [
      "🔁 Epoch 45 terminé — Moyenne loss : 0.0488\n",
      "📸 Échantillons + modèle sauvegardés (epoch 45) dans results\n"
     ]
    },
    {
     "data": {
      "application/vnd.jupyter.widget-view+json": {
       "model_id": "316fc1682f8243b4a7ac75ac6d2b0694",
       "version_major": 2,
       "version_minor": 0
      },
      "text/plain": [
       "Epoch 46/100 | Timesteps: 500 | Sample t ∈ [0,495):   0%|          | 0/46 [00:00<?, ?it/s]"
      ]
     },
     "metadata": {},
     "output_type": "display_data"
    },
    {
     "name": "stdout",
     "output_type": "stream",
     "text": [
      "🔁 Epoch 46 terminé — Moyenne loss : 0.0455\n"
     ]
    },
    {
     "data": {
      "application/vnd.jupyter.widget-view+json": {
       "model_id": "ad5212beff564dee92c54b42c1e6385a",
       "version_major": 2,
       "version_minor": 0
      },
      "text/plain": [
       "Epoch 47/100 | Timesteps: 500 | Sample t ∈ [0,498):   0%|          | 0/46 [00:00<?, ?it/s]"
      ]
     },
     "metadata": {},
     "output_type": "display_data"
    },
    {
     "name": "stdout",
     "output_type": "stream",
     "text": [
      "🔁 Epoch 47 terminé — Moyenne loss : 0.0451\n"
     ]
    },
    {
     "data": {
      "application/vnd.jupyter.widget-view+json": {
       "model_id": "d36d61a03e9c4e7188d8d1434646c851",
       "version_major": 2,
       "version_minor": 0
      },
      "text/plain": [
       "Epoch 48/100 | Timesteps: 500 | Sample t ∈ [0,498):   0%|          | 0/46 [00:00<?, ?it/s]"
      ]
     },
     "metadata": {},
     "output_type": "display_data"
    },
    {
     "name": "stdout",
     "output_type": "stream",
     "text": [
      "🔁 Epoch 48 terminé — Moyenne loss : 0.0483\n"
     ]
    },
    {
     "data": {
      "application/vnd.jupyter.widget-view+json": {
       "model_id": "d1e405224e7e49f183c612fd0d404214",
       "version_major": 2,
       "version_minor": 0
      },
      "text/plain": [
       "Epoch 49/100 | Timesteps: 500 | Sample t ∈ [0,498):   0%|          | 0/46 [00:00<?, ?it/s]"
      ]
     },
     "metadata": {},
     "output_type": "display_data"
    },
    {
     "name": "stdout",
     "output_type": "stream",
     "text": [
      "🔁 Epoch 49 terminé — Moyenne loss : 0.0445\n"
     ]
    },
    {
     "data": {
      "application/vnd.jupyter.widget-view+json": {
       "model_id": "ec757d7dea1f4feda069299f0d1f3898",
       "version_major": 2,
       "version_minor": 0
      },
      "text/plain": [
       "Epoch 50/100 | Timesteps: 500 | Sample t ∈ [0,498):   0%|          | 0/46 [00:00<?, ?it/s]"
      ]
     },
     "metadata": {},
     "output_type": "display_data"
    },
    {
     "name": "stdout",
     "output_type": "stream",
     "text": [
      "🔁 Epoch 50 terminé — Moyenne loss : 0.0466\n",
      "🔧 Diffusion mise à jour : 600 étapes\n",
      "🧼 Optimiseur réinitialisé après update des timesteps à 600\n",
      "📸 Échantillons + modèle sauvegardés (epoch 50) dans results\n"
     ]
    },
    {
     "data": {
      "application/vnd.jupyter.widget-view+json": {
       "model_id": "cb04c5cfeafa4417a72266f0ebd59e6d",
       "version_major": 2,
       "version_minor": 0
      },
      "text/plain": [
       "Epoch 51/100 | Timesteps: 600 | Sample t ∈ [0,500):   0%|          | 0/46 [00:00<?, ?it/s]"
      ]
     },
     "metadata": {},
     "output_type": "display_data"
    },
    {
     "name": "stdout",
     "output_type": "stream",
     "text": [
      "🔁 Epoch 51 terminé — Moyenne loss : 0.0944\n"
     ]
    },
    {
     "data": {
      "application/vnd.jupyter.widget-view+json": {
       "model_id": "9c89f3fc9317444faa434a566e0b2717",
       "version_major": 2,
       "version_minor": 0
      },
      "text/plain": [
       "Epoch 52/100 | Timesteps: 600 | Sample t ∈ [0,525):   0%|          | 0/46 [00:00<?, ?it/s]"
      ]
     },
     "metadata": {},
     "output_type": "display_data"
    },
    {
     "name": "stdout",
     "output_type": "stream",
     "text": [
      "🔁 Epoch 52 terminé — Moyenne loss : 0.0490\n"
     ]
    },
    {
     "data": {
      "application/vnd.jupyter.widget-view+json": {
       "model_id": "a354a61d56e04a0b9009b5a50ccd43ba",
       "version_major": 2,
       "version_minor": 0
      },
      "text/plain": [
       "Epoch 53/100 | Timesteps: 600 | Sample t ∈ [0,550):   0%|          | 0/46 [00:00<?, ?it/s]"
      ]
     },
     "metadata": {},
     "output_type": "display_data"
    },
    {
     "name": "stdout",
     "output_type": "stream",
     "text": [
      "🔁 Epoch 53 terminé — Moyenne loss : 0.0442\n"
     ]
    },
    {
     "data": {
      "application/vnd.jupyter.widget-view+json": {
       "model_id": "5a489ca5aba04274a52ff7b821722c0c",
       "version_major": 2,
       "version_minor": 0
      },
      "text/plain": [
       "Epoch 54/100 | Timesteps: 600 | Sample t ∈ [0,575):   0%|          | 0/46 [00:00<?, ?it/s]"
      ]
     },
     "metadata": {},
     "output_type": "display_data"
    },
    {
     "name": "stdout",
     "output_type": "stream",
     "text": [
      "🔁 Epoch 54 terminé — Moyenne loss : 0.0439\n"
     ]
    },
    {
     "data": {
      "application/vnd.jupyter.widget-view+json": {
       "model_id": "a9703c6458fd47319eaf40caf0f2b8be",
       "version_major": 2,
       "version_minor": 0
      },
      "text/plain": [
       "Epoch 55/100 | Timesteps: 600 | Sample t ∈ [0,585):   0%|          | 0/46 [00:00<?, ?it/s]"
      ]
     },
     "metadata": {},
     "output_type": "display_data"
    },
    {
     "name": "stdout",
     "output_type": "stream",
     "text": [
      "🔁 Epoch 55 terminé — Moyenne loss : 0.0400\n",
      "📸 Échantillons + modèle sauvegardés (epoch 55) dans results\n"
     ]
    },
    {
     "data": {
      "application/vnd.jupyter.widget-view+json": {
       "model_id": "8fd9682a3a9f43c2b12422f9c1a40f72",
       "version_major": 2,
       "version_minor": 0
      },
      "text/plain": [
       "Epoch 56/100 | Timesteps: 600 | Sample t ∈ [0,595):   0%|          | 0/46 [00:00<?, ?it/s]"
      ]
     },
     "metadata": {},
     "output_type": "display_data"
    },
    {
     "name": "stdout",
     "output_type": "stream",
     "text": [
      "🔁 Epoch 56 terminé — Moyenne loss : 0.0429\n"
     ]
    },
    {
     "data": {
      "application/vnd.jupyter.widget-view+json": {
       "model_id": "8449587eb4224405a8e59acb317fa833",
       "version_major": 2,
       "version_minor": 0
      },
      "text/plain": [
       "Epoch 57/100 | Timesteps: 600 | Sample t ∈ [0,598):   0%|          | 0/46 [00:00<?, ?it/s]"
      ]
     },
     "metadata": {},
     "output_type": "display_data"
    },
    {
     "name": "stdout",
     "output_type": "stream",
     "text": [
      "🔁 Epoch 57 terminé — Moyenne loss : 0.0438\n"
     ]
    },
    {
     "data": {
      "application/vnd.jupyter.widget-view+json": {
       "model_id": "60475558fd4646348fb79a64093465a1",
       "version_major": 2,
       "version_minor": 0
      },
      "text/plain": [
       "Epoch 58/100 | Timesteps: 600 | Sample t ∈ [0,598):   0%|          | 0/46 [00:00<?, ?it/s]"
      ]
     },
     "metadata": {},
     "output_type": "display_data"
    },
    {
     "name": "stdout",
     "output_type": "stream",
     "text": [
      "🔁 Epoch 58 terminé — Moyenne loss : 0.0399\n"
     ]
    },
    {
     "data": {
      "application/vnd.jupyter.widget-view+json": {
       "model_id": "8537be08c9f648218ea6ee5c55c44063",
       "version_major": 2,
       "version_minor": 0
      },
      "text/plain": [
       "Epoch 59/100 | Timesteps: 600 | Sample t ∈ [0,598):   0%|          | 0/46 [00:00<?, ?it/s]"
      ]
     },
     "metadata": {},
     "output_type": "display_data"
    },
    {
     "name": "stdout",
     "output_type": "stream",
     "text": [
      "🔁 Epoch 59 terminé — Moyenne loss : 0.0384\n"
     ]
    },
    {
     "data": {
      "application/vnd.jupyter.widget-view+json": {
       "model_id": "b0d041a37bad4f6491ed1c1e565bc262",
       "version_major": 2,
       "version_minor": 0
      },
      "text/plain": [
       "Epoch 60/100 | Timesteps: 600 | Sample t ∈ [0,598):   0%|          | 0/46 [00:00<?, ?it/s]"
      ]
     },
     "metadata": {},
     "output_type": "display_data"
    },
    {
     "name": "stdout",
     "output_type": "stream",
     "text": [
      "🔁 Epoch 60 terminé — Moyenne loss : 0.0404\n",
      "🔧 Diffusion mise à jour : 700 étapes\n",
      "🧼 Optimiseur réinitialisé après update des timesteps à 700\n",
      "📸 Échantillons + modèle sauvegardés (epoch 60) dans results\n"
     ]
    },
    {
     "data": {
      "application/vnd.jupyter.widget-view+json": {
       "model_id": "59e3ea2dc50d4d9689c4e865a65b65a5",
       "version_major": 2,
       "version_minor": 0
      },
      "text/plain": [
       "Epoch 61/100 | Timesteps: 700 | Sample t ∈ [0,600):   0%|          | 0/46 [00:00<?, ?it/s]"
      ]
     },
     "metadata": {},
     "output_type": "display_data"
    },
    {
     "name": "stdout",
     "output_type": "stream",
     "text": [
      "🔁 Epoch 61 terminé — Moyenne loss : 0.0798\n"
     ]
    },
    {
     "data": {
      "application/vnd.jupyter.widget-view+json": {
       "model_id": "ad80bfcd3519480f8ce3d38359bdead2",
       "version_major": 2,
       "version_minor": 0
      },
      "text/plain": [
       "Epoch 62/100 | Timesteps: 700 | Sample t ∈ [0,625):   0%|          | 0/46 [00:00<?, ?it/s]"
      ]
     },
     "metadata": {},
     "output_type": "display_data"
    },
    {
     "name": "stdout",
     "output_type": "stream",
     "text": [
      "🔁 Epoch 62 terminé — Moyenne loss : 0.0434\n"
     ]
    },
    {
     "data": {
      "application/vnd.jupyter.widget-view+json": {
       "model_id": "0f256d4badd5440794c73f2492cfaa4f",
       "version_major": 2,
       "version_minor": 0
      },
      "text/plain": [
       "Epoch 63/100 | Timesteps: 700 | Sample t ∈ [0,650):   0%|          | 0/46 [00:00<?, ?it/s]"
      ]
     },
     "metadata": {},
     "output_type": "display_data"
    },
    {
     "name": "stdout",
     "output_type": "stream",
     "text": [
      "🔁 Epoch 63 terminé — Moyenne loss : 0.0408\n"
     ]
    },
    {
     "data": {
      "application/vnd.jupyter.widget-view+json": {
       "model_id": "a51da65c3df948ea828ea38d71cfafb4",
       "version_major": 2,
       "version_minor": 0
      },
      "text/plain": [
       "Epoch 64/100 | Timesteps: 700 | Sample t ∈ [0,675):   0%|          | 0/46 [00:00<?, ?it/s]"
      ]
     },
     "metadata": {},
     "output_type": "display_data"
    },
    {
     "name": "stdout",
     "output_type": "stream",
     "text": [
      "🔁 Epoch 64 terminé — Moyenne loss : 0.0409\n"
     ]
    },
    {
     "data": {
      "application/vnd.jupyter.widget-view+json": {
       "model_id": "cebca19f6d2144019d56bed95c77e343",
       "version_major": 2,
       "version_minor": 0
      },
      "text/plain": [
       "Epoch 65/100 | Timesteps: 700 | Sample t ∈ [0,685):   0%|          | 0/46 [00:00<?, ?it/s]"
      ]
     },
     "metadata": {},
     "output_type": "display_data"
    },
    {
     "name": "stdout",
     "output_type": "stream",
     "text": [
      "🔁 Epoch 65 terminé — Moyenne loss : 0.0370\n",
      "📸 Échantillons + modèle sauvegardés (epoch 65) dans results\n"
     ]
    },
    {
     "data": {
      "application/vnd.jupyter.widget-view+json": {
       "model_id": "180de1c7bd1240b9b235de3450ed3a67",
       "version_major": 2,
       "version_minor": 0
      },
      "text/plain": [
       "Epoch 66/100 | Timesteps: 700 | Sample t ∈ [0,695):   0%|          | 0/46 [00:00<?, ?it/s]"
      ]
     },
     "metadata": {},
     "output_type": "display_data"
    },
    {
     "name": "stdout",
     "output_type": "stream",
     "text": [
      "🔁 Epoch 66 terminé — Moyenne loss : 0.0388\n"
     ]
    },
    {
     "data": {
      "application/vnd.jupyter.widget-view+json": {
       "model_id": "c7a0e0a2835b40c8a2f8b5f5d446253f",
       "version_major": 2,
       "version_minor": 0
      },
      "text/plain": [
       "Epoch 67/100 | Timesteps: 700 | Sample t ∈ [0,698):   0%|          | 0/46 [00:00<?, ?it/s]"
      ]
     },
     "metadata": {},
     "output_type": "display_data"
    },
    {
     "name": "stdout",
     "output_type": "stream",
     "text": [
      "🔁 Epoch 67 terminé — Moyenne loss : 0.0378\n"
     ]
    },
    {
     "data": {
      "application/vnd.jupyter.widget-view+json": {
       "model_id": "0d84d592fc784472afc4b89a4465774f",
       "version_major": 2,
       "version_minor": 0
      },
      "text/plain": [
       "Epoch 68/100 | Timesteps: 700 | Sample t ∈ [0,698):   0%|          | 0/46 [00:00<?, ?it/s]"
      ]
     },
     "metadata": {},
     "output_type": "display_data"
    },
    {
     "name": "stdout",
     "output_type": "stream",
     "text": [
      "🔁 Epoch 68 terminé — Moyenne loss : 0.0381\n"
     ]
    },
    {
     "data": {
      "application/vnd.jupyter.widget-view+json": {
       "model_id": "ec9db8f8459f46c2925b8047b569c67f",
       "version_major": 2,
       "version_minor": 0
      },
      "text/plain": [
       "Epoch 69/100 | Timesteps: 700 | Sample t ∈ [0,698):   0%|          | 0/46 [00:00<?, ?it/s]"
      ]
     },
     "metadata": {},
     "output_type": "display_data"
    },
    {
     "name": "stdout",
     "output_type": "stream",
     "text": [
      "🔁 Epoch 69 terminé — Moyenne loss : 0.0408\n"
     ]
    },
    {
     "data": {
      "application/vnd.jupyter.widget-view+json": {
       "model_id": "d0c2b02976ad44da9ea438fc45edfa84",
       "version_major": 2,
       "version_minor": 0
      },
      "text/plain": [
       "Epoch 70/100 | Timesteps: 700 | Sample t ∈ [0,698):   0%|          | 0/46 [00:00<?, ?it/s]"
      ]
     },
     "metadata": {},
     "output_type": "display_data"
    },
    {
     "name": "stdout",
     "output_type": "stream",
     "text": [
      "🔁 Epoch 70 terminé — Moyenne loss : 0.0396\n",
      "🔧 Diffusion mise à jour : 800 étapes\n",
      "🧼 Optimiseur réinitialisé après update des timesteps à 800\n",
      "📸 Échantillons + modèle sauvegardés (epoch 70) dans results\n"
     ]
    },
    {
     "data": {
      "application/vnd.jupyter.widget-view+json": {
       "model_id": "8921f880f92949e99e9ac6c6eeed7090",
       "version_major": 2,
       "version_minor": 0
      },
      "text/plain": [
       "Epoch 71/100 | Timesteps: 800 | Sample t ∈ [0,700):   0%|          | 0/46 [00:00<?, ?it/s]"
      ]
     },
     "metadata": {},
     "output_type": "display_data"
    },
    {
     "name": "stdout",
     "output_type": "stream",
     "text": [
      "🔁 Epoch 71 terminé — Moyenne loss : 0.1329\n"
     ]
    },
    {
     "data": {
      "application/vnd.jupyter.widget-view+json": {
       "model_id": "5fd09f00445545459ac47a56c4c67605",
       "version_major": 2,
       "version_minor": 0
      },
      "text/plain": [
       "Epoch 72/100 | Timesteps: 800 | Sample t ∈ [0,725):   0%|          | 0/46 [00:00<?, ?it/s]"
      ]
     },
     "metadata": {},
     "output_type": "display_data"
    },
    {
     "name": "stdout",
     "output_type": "stream",
     "text": [
      "🔁 Epoch 72 terminé — Moyenne loss : 0.0378\n"
     ]
    },
    {
     "data": {
      "application/vnd.jupyter.widget-view+json": {
       "model_id": "5d605889ce9647748f6d7abb07815031",
       "version_major": 2,
       "version_minor": 0
      },
      "text/plain": [
       "Epoch 73/100 | Timesteps: 800 | Sample t ∈ [0,750):   0%|          | 0/46 [00:00<?, ?it/s]"
      ]
     },
     "metadata": {},
     "output_type": "display_data"
    },
    {
     "name": "stdout",
     "output_type": "stream",
     "text": [
      "🔁 Epoch 73 terminé — Moyenne loss : 0.0394\n"
     ]
    },
    {
     "data": {
      "application/vnd.jupyter.widget-view+json": {
       "model_id": "c605dcbe37554a9aa90ac227b4fe01d7",
       "version_major": 2,
       "version_minor": 0
      },
      "text/plain": [
       "Epoch 74/100 | Timesteps: 800 | Sample t ∈ [0,775):   0%|          | 0/46 [00:00<?, ?it/s]"
      ]
     },
     "metadata": {},
     "output_type": "display_data"
    },
    {
     "name": "stdout",
     "output_type": "stream",
     "text": [
      "🔁 Epoch 74 terminé — Moyenne loss : 0.0352\n"
     ]
    },
    {
     "data": {
      "application/vnd.jupyter.widget-view+json": {
       "model_id": "afa1dfd6e67f41009104187590920897",
       "version_major": 2,
       "version_minor": 0
      },
      "text/plain": [
       "Epoch 75/100 | Timesteps: 800 | Sample t ∈ [0,785):   0%|          | 0/46 [00:00<?, ?it/s]"
      ]
     },
     "metadata": {},
     "output_type": "display_data"
    },
    {
     "name": "stdout",
     "output_type": "stream",
     "text": [
      "🔁 Epoch 75 terminé — Moyenne loss : 0.0350\n",
      "📸 Échantillons + modèle sauvegardés (epoch 75) dans results\n"
     ]
    },
    {
     "data": {
      "application/vnd.jupyter.widget-view+json": {
       "model_id": "74d00dff03f34244bd4360d21bfd7dc0",
       "version_major": 2,
       "version_minor": 0
      },
      "text/plain": [
       "Epoch 76/100 | Timesteps: 800 | Sample t ∈ [0,795):   0%|          | 0/46 [00:00<?, ?it/s]"
      ]
     },
     "metadata": {},
     "output_type": "display_data"
    },
    {
     "name": "stdout",
     "output_type": "stream",
     "text": [
      "🔁 Epoch 76 terminé — Moyenne loss : 0.0365\n"
     ]
    },
    {
     "data": {
      "application/vnd.jupyter.widget-view+json": {
       "model_id": "1aff3fcc325f4c13bfc60c4f4f743b36",
       "version_major": 2,
       "version_minor": 0
      },
      "text/plain": [
       "Epoch 77/100 | Timesteps: 800 | Sample t ∈ [0,798):   0%|          | 0/46 [00:00<?, ?it/s]"
      ]
     },
     "metadata": {},
     "output_type": "display_data"
    },
    {
     "name": "stdout",
     "output_type": "stream",
     "text": [
      "🔁 Epoch 77 terminé — Moyenne loss : 0.0321\n"
     ]
    },
    {
     "data": {
      "application/vnd.jupyter.widget-view+json": {
       "model_id": "dbf2637d30a14a2fa76382223d5916d6",
       "version_major": 2,
       "version_minor": 0
      },
      "text/plain": [
       "Epoch 78/100 | Timesteps: 800 | Sample t ∈ [0,798):   0%|          | 0/46 [00:00<?, ?it/s]"
      ]
     },
     "metadata": {},
     "output_type": "display_data"
    },
    {
     "name": "stdout",
     "output_type": "stream",
     "text": [
      "🔁 Epoch 78 terminé — Moyenne loss : 0.0336\n"
     ]
    },
    {
     "data": {
      "application/vnd.jupyter.widget-view+json": {
       "model_id": "7644298e82754671a334f8027905a806",
       "version_major": 2,
       "version_minor": 0
      },
      "text/plain": [
       "Epoch 79/100 | Timesteps: 800 | Sample t ∈ [0,798):   0%|          | 0/46 [00:00<?, ?it/s]"
      ]
     },
     "metadata": {},
     "output_type": "display_data"
    },
    {
     "name": "stdout",
     "output_type": "stream",
     "text": [
      "🔁 Epoch 79 terminé — Moyenne loss : 0.0359\n"
     ]
    },
    {
     "data": {
      "application/vnd.jupyter.widget-view+json": {
       "model_id": "a2aeb51f934548aa960d5c63cfa062ff",
       "version_major": 2,
       "version_minor": 0
      },
      "text/plain": [
       "Epoch 80/100 | Timesteps: 800 | Sample t ∈ [0,798):   0%|          | 0/46 [00:00<?, ?it/s]"
      ]
     },
     "metadata": {},
     "output_type": "display_data"
    },
    {
     "name": "stdout",
     "output_type": "stream",
     "text": [
      "🔁 Epoch 80 terminé — Moyenne loss : 0.0343\n",
      "🔧 Diffusion mise à jour : 900 étapes\n",
      "🧼 Optimiseur réinitialisé après update des timesteps à 900\n",
      "📸 Échantillons + modèle sauvegardés (epoch 80) dans results\n"
     ]
    },
    {
     "data": {
      "application/vnd.jupyter.widget-view+json": {
       "model_id": "d381f10e00434afb9137ef384edc5c2e",
       "version_major": 2,
       "version_minor": 0
      },
      "text/plain": [
       "Epoch 81/100 | Timesteps: 900 | Sample t ∈ [0,800):   0%|          | 0/46 [00:00<?, ?it/s]"
      ]
     },
     "metadata": {},
     "output_type": "display_data"
    },
    {
     "name": "stdout",
     "output_type": "stream",
     "text": [
      "🔁 Epoch 81 terminé — Moyenne loss : 0.1507\n"
     ]
    },
    {
     "data": {
      "application/vnd.jupyter.widget-view+json": {
       "model_id": "4d4214a9cec44432a53aadb9a76f1be7",
       "version_major": 2,
       "version_minor": 0
      },
      "text/plain": [
       "Epoch 82/100 | Timesteps: 900 | Sample t ∈ [0,825):   0%|          | 0/46 [00:00<?, ?it/s]"
      ]
     },
     "metadata": {},
     "output_type": "display_data"
    },
    {
     "name": "stdout",
     "output_type": "stream",
     "text": [
      "🔁 Epoch 82 terminé — Moyenne loss : 0.0347\n"
     ]
    },
    {
     "data": {
      "application/vnd.jupyter.widget-view+json": {
       "model_id": "d40f647452614c0285e0d147abd2bc02",
       "version_major": 2,
       "version_minor": 0
      },
      "text/plain": [
       "Epoch 83/100 | Timesteps: 900 | Sample t ∈ [0,850):   0%|          | 0/46 [00:00<?, ?it/s]"
      ]
     },
     "metadata": {},
     "output_type": "display_data"
    },
    {
     "name": "stdout",
     "output_type": "stream",
     "text": [
      "🔁 Epoch 83 terminé — Moyenne loss : 0.0359\n"
     ]
    },
    {
     "data": {
      "application/vnd.jupyter.widget-view+json": {
       "model_id": "518d3ee22c4441889bf684c3e0c2f2b3",
       "version_major": 2,
       "version_minor": 0
      },
      "text/plain": [
       "Epoch 84/100 | Timesteps: 900 | Sample t ∈ [0,875):   0%|          | 0/46 [00:00<?, ?it/s]"
      ]
     },
     "metadata": {},
     "output_type": "display_data"
    },
    {
     "name": "stdout",
     "output_type": "stream",
     "text": [
      "🔁 Epoch 84 terminé — Moyenne loss : 0.0348\n"
     ]
    },
    {
     "data": {
      "application/vnd.jupyter.widget-view+json": {
       "model_id": "4cd89cfa456d4f13a523c2b76b0d6436",
       "version_major": 2,
       "version_minor": 0
      },
      "text/plain": [
       "Epoch 85/100 | Timesteps: 900 | Sample t ∈ [0,885):   0%|          | 0/46 [00:00<?, ?it/s]"
      ]
     },
     "metadata": {},
     "output_type": "display_data"
    },
    {
     "name": "stdout",
     "output_type": "stream",
     "text": [
      "🔁 Epoch 85 terminé — Moyenne loss : 0.0339\n",
      "📸 Échantillons + modèle sauvegardés (epoch 85) dans results\n"
     ]
    },
    {
     "data": {
      "application/vnd.jupyter.widget-view+json": {
       "model_id": "2a2df835ad3b4bffbf2dea890cc8bf33",
       "version_major": 2,
       "version_minor": 0
      },
      "text/plain": [
       "Epoch 86/100 | Timesteps: 900 | Sample t ∈ [0,895):   0%|          | 0/46 [00:00<?, ?it/s]"
      ]
     },
     "metadata": {},
     "output_type": "display_data"
    },
    {
     "name": "stdout",
     "output_type": "stream",
     "text": [
      "🔁 Epoch 86 terminé — Moyenne loss : 0.0338\n"
     ]
    },
    {
     "data": {
      "application/vnd.jupyter.widget-view+json": {
       "model_id": "d5a51af0ebd1477ebf4e56ffef3f9ff8",
       "version_major": 2,
       "version_minor": 0
      },
      "text/plain": [
       "Epoch 87/100 | Timesteps: 900 | Sample t ∈ [0,898):   0%|          | 0/46 [00:00<?, ?it/s]"
      ]
     },
     "metadata": {},
     "output_type": "display_data"
    },
    {
     "name": "stdout",
     "output_type": "stream",
     "text": [
      "🔁 Epoch 87 terminé — Moyenne loss : 0.0324\n"
     ]
    },
    {
     "data": {
      "application/vnd.jupyter.widget-view+json": {
       "model_id": "bfb7a63b08a741bca7fa0509aba1949d",
       "version_major": 2,
       "version_minor": 0
      },
      "text/plain": [
       "Epoch 88/100 | Timesteps: 900 | Sample t ∈ [0,898):   0%|          | 0/46 [00:00<?, ?it/s]"
      ]
     },
     "metadata": {},
     "output_type": "display_data"
    },
    {
     "name": "stdout",
     "output_type": "stream",
     "text": [
      "🔁 Epoch 88 terminé — Moyenne loss : 0.0336\n"
     ]
    },
    {
     "data": {
      "application/vnd.jupyter.widget-view+json": {
       "model_id": "81f2807f6443454ca7e1c154b53ff2d2",
       "version_major": 2,
       "version_minor": 0
      },
      "text/plain": [
       "Epoch 89/100 | Timesteps: 900 | Sample t ∈ [0,898):   0%|          | 0/46 [00:00<?, ?it/s]"
      ]
     },
     "metadata": {},
     "output_type": "display_data"
    },
    {
     "name": "stdout",
     "output_type": "stream",
     "text": [
      "🔁 Epoch 89 terminé — Moyenne loss : 0.0343\n"
     ]
    },
    {
     "data": {
      "application/vnd.jupyter.widget-view+json": {
       "model_id": "ee60b564cb20474eaa621cdad0d6ebd1",
       "version_major": 2,
       "version_minor": 0
      },
      "text/plain": [
       "Epoch 90/100 | Timesteps: 900 | Sample t ∈ [0,898):   0%|          | 0/46 [00:00<?, ?it/s]"
      ]
     },
     "metadata": {},
     "output_type": "display_data"
    },
    {
     "name": "stdout",
     "output_type": "stream",
     "text": [
      "🔁 Epoch 90 terminé — Moyenne loss : 0.0326\n",
      "🔧 Diffusion mise à jour : 1000 étapes\n",
      "🧼 Optimiseur réinitialisé après update des timesteps à 1000\n",
      "📸 Échantillons + modèle sauvegardés (epoch 90) dans results\n"
     ]
    },
    {
     "data": {
      "application/vnd.jupyter.widget-view+json": {
       "model_id": "997a86bd6dfc4bf2aba84ad36ac66135",
       "version_major": 2,
       "version_minor": 0
      },
      "text/plain": [
       "Epoch 91/100 | Timesteps: 1000 | Sample t ∈ [0,900):   0%|          | 0/46 [00:00<?, ?it/s]"
      ]
     },
     "metadata": {},
     "output_type": "display_data"
    },
    {
     "name": "stdout",
     "output_type": "stream",
     "text": [
      "🔁 Epoch 91 terminé — Moyenne loss : 0.1880\n"
     ]
    },
    {
     "data": {
      "application/vnd.jupyter.widget-view+json": {
       "model_id": "2dc094b1330643b9bcd76283222f8b2a",
       "version_major": 2,
       "version_minor": 0
      },
      "text/plain": [
       "Epoch 92/100 | Timesteps: 1000 | Sample t ∈ [0,925):   0%|          | 0/46 [00:00<?, ?it/s]"
      ]
     },
     "metadata": {},
     "output_type": "display_data"
    },
    {
     "name": "stdout",
     "output_type": "stream",
     "text": [
      "🔁 Epoch 92 terminé — Moyenne loss : 0.0335\n"
     ]
    },
    {
     "data": {
      "application/vnd.jupyter.widget-view+json": {
       "model_id": "64efcd5e4ec44303985b8994cd7aad4a",
       "version_major": 2,
       "version_minor": 0
      },
      "text/plain": [
       "Epoch 93/100 | Timesteps: 1000 | Sample t ∈ [0,950):   0%|          | 0/46 [00:00<?, ?it/s]"
      ]
     },
     "metadata": {},
     "output_type": "display_data"
    },
    {
     "name": "stdout",
     "output_type": "stream",
     "text": [
      "🔁 Epoch 93 terminé — Moyenne loss : 0.0313\n"
     ]
    },
    {
     "data": {
      "application/vnd.jupyter.widget-view+json": {
       "model_id": "1767dd85637c4397b037962a988727f7",
       "version_major": 2,
       "version_minor": 0
      },
      "text/plain": [
       "Epoch 94/100 | Timesteps: 1000 | Sample t ∈ [0,975):   0%|          | 0/46 [00:00<?, ?it/s]"
      ]
     },
     "metadata": {},
     "output_type": "display_data"
    },
    {
     "name": "stdout",
     "output_type": "stream",
     "text": [
      "🔁 Epoch 94 terminé — Moyenne loss : 0.0339\n"
     ]
    },
    {
     "data": {
      "application/vnd.jupyter.widget-view+json": {
       "model_id": "2cb55ff8ac984fb98364ded15b00c52a",
       "version_major": 2,
       "version_minor": 0
      },
      "text/plain": [
       "Epoch 95/100 | Timesteps: 1000 | Sample t ∈ [0,985):   0%|          | 0/46 [00:00<?, ?it/s]"
      ]
     },
     "metadata": {},
     "output_type": "display_data"
    },
    {
     "name": "stdout",
     "output_type": "stream",
     "text": [
      "🔁 Epoch 95 terminé — Moyenne loss : 0.0309\n",
      "📸 Échantillons + modèle sauvegardés (epoch 95) dans results\n"
     ]
    },
    {
     "data": {
      "application/vnd.jupyter.widget-view+json": {
       "model_id": "e010083277ac42f39e8841b4878c8b37",
       "version_major": 2,
       "version_minor": 0
      },
      "text/plain": [
       "Epoch 96/100 | Timesteps: 1000 | Sample t ∈ [0,995):   0%|          | 0/46 [00:00<?, ?it/s]"
      ]
     },
     "metadata": {},
     "output_type": "display_data"
    },
    {
     "name": "stdout",
     "output_type": "stream",
     "text": [
      "🔁 Epoch 96 terminé — Moyenne loss : 0.0310\n"
     ]
    },
    {
     "data": {
      "application/vnd.jupyter.widget-view+json": {
       "model_id": "d5b897f1b41d4a44a608a840d3e54db4",
       "version_major": 2,
       "version_minor": 0
      },
      "text/plain": [
       "Epoch 97/100 | Timesteps: 1000 | Sample t ∈ [0,998):   0%|          | 0/46 [00:00<?, ?it/s]"
      ]
     },
     "metadata": {},
     "output_type": "display_data"
    },
    {
     "name": "stdout",
     "output_type": "stream",
     "text": [
      "🔁 Epoch 97 terminé — Moyenne loss : 0.0311\n"
     ]
    },
    {
     "data": {
      "application/vnd.jupyter.widget-view+json": {
       "model_id": "db3f9650e43747cca79f48999fdb04ea",
       "version_major": 2,
       "version_minor": 0
      },
      "text/plain": [
       "Epoch 98/100 | Timesteps: 1000 | Sample t ∈ [0,998):   0%|          | 0/46 [00:00<?, ?it/s]"
      ]
     },
     "metadata": {},
     "output_type": "display_data"
    },
    {
     "name": "stdout",
     "output_type": "stream",
     "text": [
      "🔁 Epoch 98 terminé — Moyenne loss : 0.0317\n"
     ]
    },
    {
     "data": {
      "application/vnd.jupyter.widget-view+json": {
       "model_id": "2aafe8c494b846259fd1788e92d900ae",
       "version_major": 2,
       "version_minor": 0
      },
      "text/plain": [
       "Epoch 99/100 | Timesteps: 1000 | Sample t ∈ [0,998):   0%|          | 0/46 [00:00<?, ?it/s]"
      ]
     },
     "metadata": {},
     "output_type": "display_data"
    },
    {
     "name": "stdout",
     "output_type": "stream",
     "text": [
      "🔁 Epoch 99 terminé — Moyenne loss : 0.0310\n"
     ]
    },
    {
     "data": {
      "application/vnd.jupyter.widget-view+json": {
       "model_id": "b931723fbdf748eba78b89a01e1be5c4",
       "version_major": 2,
       "version_minor": 0
      },
      "text/plain": [
       "Epoch 100/100 | Timesteps: 1000 | Sample t ∈ [0,998):   0%|          | 0/46 [00:00<?, ?it/s]"
      ]
     },
     "metadata": {},
     "output_type": "display_data"
    },
    {
     "name": "stdout",
     "output_type": "stream",
     "text": [
      "🔁 Epoch 100 terminé — Moyenne loss : 0.0323\n",
      "📸 Échantillons + modèle sauvegardés (epoch 100) dans results\n"
     ]
    }
   ],
   "source": [
    "from tqdm.notebook import tqdm\n",
    "import torch.nn.utils\n",
    "\n",
    "# Modèle et diffusion\n",
    "model = UNetConditional(in_channels=3, base_channels=64, time_emb_dim=256, class_emb_dim=128, num_classes=num_classes).to(device)\n",
    "diffusion = GaussianDiffusion(model, timesteps=100, beta_end=0.02, device=device)\n",
    "optimizer = optim.Adam(model.parameters(), lr=lr)\n",
    "\n",
    "losses = []\n",
    "timestep_increment = 100\n",
    "timestep_schedule_every = 10\n",
    "max_timesteps = 1000\n",
    "current_max_sample_t = diffusion.timesteps\n",
    "\n",
    "for epoch in range(1, epochs + 1):\n",
    "    model.train()\n",
    "    epoch_losses = []\n",
    "\n",
    "    loop = tqdm(dataloader, desc=f\"Epoch {epoch}/{epochs} | Timesteps: {diffusion.timesteps} | Sample t ∈ [0,{current_max_sample_t})\")\n",
    "    \n",
    "    for x, y in loop:\n",
    "        x, y = x.to(device), y.to(device)\n",
    "        t = torch.randint(0, min(current_max_sample_t, diffusion.timesteps - 2), (x.size(0),), device=device).long()\n",
    "        noise = torch.randn_like(x)\n",
    "        x_t = diffusion.q_sample(x, t, noise)\n",
    "\n",
    "        noise_pred = model(x_t, t, y)\n",
    "        loss = F.mse_loss(noise_pred, noise)\n",
    "\n",
    "        optimizer.zero_grad()\n",
    "        loss.backward()\n",
    "        torch.nn.utils.clip_grad_norm_(model.parameters(), max_norm=1.0)  # 🛡️ stabilise l'explosion\n",
    "        optimizer.step()\n",
    "\n",
    "        loop.set_postfix(loss=loss.item())\n",
    "        losses.append(loss.item())\n",
    "        epoch_losses.append(loss.item())\n",
    "\n",
    "    avg_loss = sum(epoch_losses) / len(epoch_losses)\n",
    "    print(f\"🔁 Epoch {epoch} terminé — Moyenne loss : {avg_loss:.4f}\")\n",
    "\n",
    "    # 🔁 Mise à jour des timesteps toutes les 10 epochs\n",
    "    if epoch % timestep_schedule_every == 0 and diffusion.timesteps < max_timesteps:\n",
    "        new_steps = min(diffusion.timesteps + timestep_increment, max_timesteps)\n",
    "        diffusion.set_timesteps(new_steps)\n",
    "        optimizer = optim.Adam(model.parameters(), lr=lr)\n",
    "        print(f\"🧼 Optimiseur réinitialisé après update des timesteps à {new_steps}\")\n",
    "\n",
    "    # 📈 Planning t max progressif (évite de taper T-1 trop tôt)\n",
    "    dizaine = epoch // 10\n",
    "    position = epoch % 10\n",
    "\n",
    "    if epoch <= 10:\n",
    "        current_max_sample_t = 100\n",
    "    else:\n",
    "        if position == 0:\n",
    "            current_max_sample_t = dizaine * 100\n",
    "        elif position == 1:\n",
    "            current_max_sample_t = dizaine * 100 + 25\n",
    "        elif position == 2:\n",
    "            current_max_sample_t = dizaine * 100 + 50\n",
    "        elif position == 3:\n",
    "            current_max_sample_t = dizaine * 100 + 75\n",
    "        elif position == 4:\n",
    "            current_max_sample_t = dizaine * 100 + 85\n",
    "        elif position == 5:\n",
    "            current_max_sample_t = dizaine * 100 + 95\n",
    "        elif position == 6:\n",
    "            current_max_sample_t = dizaine * 100 + 98\n",
    "        elif position in [7, 8, 9]:\n",
    "            current_max_sample_t = dizaine * 100 + 99\n",
    "\n",
    "        current_max_sample_t = min(current_max_sample_t, diffusion.timesteps - 2)\n",
    "\n",
    "    # 🖼️ Échantillonnage\n",
    "    if epoch % 5 == 0:\n",
    "        model.eval()\n",
    "        with torch.no_grad():\n",
    "            y_sample = torch.tensor([0] * 16, device=device)\n",
    "            samples = diffusion.sample(batch_size=16, image_size=image_size, y=y_sample)\n",
    "            save_sample_grid(samples, os.path.join(save_dir, f\"sample_epoch_{epoch}.png\"), nrow=4)\n",
    "            torch.save(model.state_dict(), os.path.join(save_dir, f\"model_epoch_{epoch}.pt\"))\n",
    "            print(f\"📸 Échantillons + modèle sauvegardés (epoch {epoch}) dans {save_dir}\")\n"
   ]
  },
  {
   "cell_type": "code",
   "execution_count": 9,
   "metadata": {},
   "outputs": [
    {
     "name": "stderr",
     "output_type": "stream",
     "text": [
      "C:\\Users\\mbell\\AppData\\Local\\Temp\\ipykernel_34824\\3133666572.py:32: UserWarning: Glyph 128201 (\\N{CHART WITH DOWNWARDS TREND}) missing from font(s) DejaVu Sans.\n",
      "  plt.tight_layout()\n",
      "C:\\Users\\mbell\\AppData\\Local\\Packages\\PythonSoftwareFoundation.Python.3.11_qbz5n2kfra8p0\\LocalCache\\local-packages\\Python311\\site-packages\\IPython\\core\\pylabtools.py:170: UserWarning: Glyph 128201 (\\N{CHART WITH DOWNWARDS TREND}) missing from font(s) DejaVu Sans.\n",
      "  fig.canvas.print_figure(bytes_io, **kw)\n"
     ]
    },
    {
     "data": {
      "image/png": "[encoded data removed]",
      "text/plain": [
       "<Figure size 1400x600 with 1 Axes>"
      ]
     },
     "metadata": {},
     "output_type": "display_data"
    }
   ],
   "source": [
    "import matplotlib.pyplot as plt\n",
    "import numpy as np\n",
    "\n",
    "plt.figure(figsize=(14, 6))\n",
    "\n",
    "# Paramètres\n",
    "window = 50  # Moyenne glissante\n",
    "iterations_per_epoch = len(dataloader)  # nombre d'itérations pour 1 epoch\n",
    "\n",
    "# Moyenne glissante\n",
    "smoothed = np.convolve(losses, np.ones(window)/window, mode='valid')\n",
    "\n",
    "# Courbes\n",
    "plt.plot(losses, alpha=0.3, label=\"Loss brute\")\n",
    "plt.plot(range(window - 1, len(losses)), smoothed, color='blue', label=f\"Loss moy. glissante (n={window})\")\n",
    "\n",
    "# Échelle log pour la lisibilité\n",
    "plt.yscale(\"log\")\n",
    "\n",
    "# Lignes verticales aux changements de T (epochs multiples de 10)\n",
    "max_epoch = len(losses) // iterations_per_epoch\n",
    "for e in range(0, max_epoch + 1, 10):\n",
    "    x = e * iterations_per_epoch\n",
    "    plt.axvline(x=x, color='red', linestyle='--', linewidth=1, alpha=0.6, label='Changement T' if e == 0 else None)\n",
    "\n",
    "# Légendes & axes\n",
    "plt.xlabel(\"Itérations\")\n",
    "plt.ylabel(\"Loss MSE (log scale)\")\n",
    "plt.title(\"📉 Courbe de la Loss MSE pendant l'entraînement\")\n",
    "plt.legend()\n",
    "plt.grid(True, which=\"both\", ls=\"--\", lw=0.5)\n",
    "plt.tight_layout()\n",
    "plt.show()\n"
   ]
  },
  {
   "cell_type": "code",
   "execution_count": 24,
   "metadata": {},
   "outputs": [
    {
     "name": "stdout",
     "output_type": "stream",
     "text": [
      "✅ Liste des losses enregistrée dans results/losses.pkl\n"
     ]
    }
   ],
   "source": [
    "import pickle\n",
    "\n",
    "with open(\"results/losses.pkl\", \"wb\") as f:\n",
    "    pickle.dump(losses, f)\n",
    "print(\"✅ Liste des losses enregistrée dans results/losses.pkl\")\n"
   ]
  },
  {
   "cell_type": "code",
   "execution_count": 22,
   "metadata": {},
   "outputs": [
    {
     "name": "stderr",
     "output_type": "stream",
     "text": [
      "C:\\Users\\mbell\\AppData\\Local\\Temp\\ipykernel_34824\\3332038422.py:32: UserWarning: Glyph 127919 (\\N{DIRECT HIT}) missing from font(s) DejaVu Sans.\n",
      "  plt.tight_layout()\n",
      "C:\\Users\\mbell\\AppData\\Local\\Packages\\PythonSoftwareFoundation.Python.3.11_qbz5n2kfra8p0\\LocalCache\\local-packages\\Python311\\site-packages\\IPython\\core\\pylabtools.py:170: UserWarning: Glyph 127919 (\\N{DIRECT HIT}) missing from font(s) DejaVu Sans.\n",
      "  fig.canvas.print_figure(bytes_io, **kw)\n"
     ]
    },
    {
     "data": {
      "image/png": "[encoded data removed]",
      "text/plain": [
       "<Figure size 2000x400 with 9 Axes>"
      ]
     },
     "metadata": {},
     "output_type": "display_data"
    }
   ],
   "source": [
    "import matplotlib.pyplot as plt\n",
    "\n",
    "# Étapes de bruit à visualiser (focus sur t bas)\n",
    "t_steps = [500, 300, 200, 150, 100, 50, 20, 10, 0]\n",
    "y_class = torch.tensor([0], device=device)\n",
    "x = torch.randn(1, 3, 40, 40).to(device)\n",
    "\n",
    "fig, axs = plt.subplots(1, len(t_steps), figsize=(20, 4))\n",
    "model.eval()\n",
    "\n",
    "# Fonction pour génération partielle jusqu’à target_t\n",
    "def partial_sample_loop(diffusion, x_start, y, t_start):\n",
    "    x = x_start.clone()\n",
    "    with torch.no_grad():\n",
    "        for t in reversed(range(t_start, diffusion.timesteps)):\n",
    "            t_tensor = torch.full((x.size(0),), t, device=diffusion.device, dtype=torch.long)\n",
    "            x = diffusion.p_sample(x, t_tensor, y)\n",
    "    return x\n",
    "\n",
    "with torch.no_grad():\n",
    "    for i, target_t in enumerate(t_steps):\n",
    "        x_t = partial_sample_loop(diffusion, x, y_class, target_t)\n",
    "\n",
    "        img = (x_t.squeeze().clamp(-1, 1) + 1) / 2\n",
    "        img = img.permute(1, 2, 0).cpu().numpy()\n",
    "\n",
    "        axs[i].imshow(img)\n",
    "        axs[i].axis(\"off\")\n",
    "        axs[i].set_title(f\"t = {target_t}\")\n",
    "\n",
    "plt.suptitle(\"🎯 Génération progressive d'un chien (zoom sur t bas)\", fontsize=14)\n",
    "plt.tight_layout()\n",
    "plt.show()\n"
   ]
  },
  {
   "cell_type": "code",
   "execution_count": 29,
   "metadata": {},
   "outputs": [
    {
     "name": "stderr",
     "output_type": "stream",
     "text": [
      "C:\\Users\\mbell\\AppData\\Local\\Temp\\ipykernel_34824\\2485836503.py:32: UserWarning: Glyph 128248 (\\N{CAMERA WITH FLASH}) missing from font(s) DejaVu Sans.\n",
      "  plt.tight_layout()\n",
      "C:\\Users\\mbell\\AppData\\Local\\Temp\\ipykernel_34824\\2485836503.py:32: UserWarning: Glyph 127912 (\\N{ARTIST PALETTE}) missing from font(s) DejaVu Sans.\n",
      "  plt.tight_layout()\n"
     ]
    },
    {
     "data": {
      "image/png": "[encoded data removed]",
      "text/plain": [
       "<Figure size 1200x600 with 2 Axes>"
      ]
     },
     "metadata": {},
     "output_type": "display_data"
    }
   ],
   "source": [
    "import matplotlib.pyplot as plt\n",
    "import torchvision\n",
    "\n",
    "# 🔹 1. Affichage d'un batch d'images réelles (chiens)\n",
    "real_images, real_labels = next(iter(dataloader))\n",
    "real_images = (real_images * 0.5) + 0.5  # Dé-normaliser [-1,1] → [0,1]\n",
    "real_grid = torchvision.utils.make_grid(real_images[:16], nrow=4)\n",
    "\n",
    "# 🔹 2. Génération d'un batch de chiens synthétiques\n",
    "model.eval()\n",
    "with torch.no_grad():\n",
    "    y_sample = torch.zeros(16, dtype=torch.long, device=device)  # Tous chiens (label 0)\n",
    "    fake_images = diffusion.sample(batch_size=16, image_size=image_size, y=y_sample)\n",
    "    fake_images = (fake_images.clamp(-1, 1) + 1) / 2\n",
    "    fake_grid = torchvision.utils.make_grid(fake_images, nrow=4)\n",
    "\n",
    "# 🔹 3. Affichage\n",
    "plt.figure(figsize=(12, 6))\n",
    "\n",
    "# Images réelles\n",
    "plt.subplot(1, 2, 1)\n",
    "plt.imshow(real_grid.permute(1, 2, 0))\n",
    "plt.title(\"📸 Vrais chiens (dataset)\")\n",
    "plt.axis(\"off\")\n",
    "\n",
    "# Images générées\n",
    "plt.subplot(1, 2, 2)\n",
    "plt.imshow(fake_grid.permute(1, 2, 0).cpu().numpy())\n",
    "plt.title(\"🎨 Chiens générés (DDPM)\")\n",
    "plt.axis(\"off\")\n",
    "\n",
    "plt.tight_layout()\n",
    "plt.show()\n"
   ]
  },
  {
   "cell_type": "code",
   "execution_count": 35,
   "metadata": {},
   "outputs": [
    {
     "name": "stdout",
     "output_type": "stream",
     "text": [
      "✅ Modèle chargé depuis model_epoch_100.pt\n",
      "🔧 Diffusion mise à jour : 1002 étapes\n"
     ]
    },
    {
     "data": {
      "application/vnd.jupyter.widget-view+json": {
       "model_id": "b7de3ac81f8f47f2ac7a34a92c62f1f9",
       "version_major": 2,
       "version_minor": 0
      },
      "text/plain": [
       "Epoch 101/150 | Timesteps: 1002 | Sample t ∈ [0,999):   0%|          | 0/46 [00:00<?, ?it/s]"
      ]
     },
     "metadata": {},
     "output_type": "display_data"
    },
    {
     "name": "stdout",
     "output_type": "stream",
     "text": [
      "🔁 Epoch 101 terminé — Moyenne loss : 0.0958\n"
     ]
    },
    {
     "data": {
      "application/vnd.jupyter.widget-view+json": {
       "model_id": "9d25376c0eac4b6f8e6554d6aca60b1d",
       "version_major": 2,
       "version_minor": 0
      },
      "text/plain": [
       "Epoch 102/150 | Timesteps: 1002 | Sample t ∈ [0,1000):   0%|          | 0/46 [00:00<?, ?it/s]"
      ]
     },
     "metadata": {},
     "output_type": "display_data"
    },
    {
     "name": "stdout",
     "output_type": "stream",
     "text": [
      "🔁 Epoch 102 terminé — Moyenne loss : 0.0441\n"
     ]
    },
    {
     "data": {
      "application/vnd.jupyter.widget-view+json": {
       "model_id": "e9bb5e2545824c0ba3bea7432e9f54d2",
       "version_major": 2,
       "version_minor": 0
      },
      "text/plain": [
       "Epoch 103/150 | Timesteps: 1002 | Sample t ∈ [0,1000):   0%|          | 0/46 [00:00<?, ?it/s]"
      ]
     },
     "metadata": {},
     "output_type": "display_data"
    },
    {
     "name": "stdout",
     "output_type": "stream",
     "text": [
      "🔁 Epoch 103 terminé — Moyenne loss : 0.0330\n"
     ]
    },
    {
     "data": {
      "application/vnd.jupyter.widget-view+json": {
       "model_id": "daf139ef8742443993e640c36c044ad5",
       "version_major": 2,
       "version_minor": 0
      },
      "text/plain": [
       "Epoch 104/150 | Timesteps: 1002 | Sample t ∈ [0,1000):   0%|          | 0/46 [00:00<?, ?it/s]"
      ]
     },
     "metadata": {},
     "output_type": "display_data"
    },
    {
     "name": "stdout",
     "output_type": "stream",
     "text": [
      "🔁 Epoch 104 terminé — Moyenne loss : 0.0314\n"
     ]
    },
    {
     "data": {
      "application/vnd.jupyter.widget-view+json": {
       "model_id": "9a9804bd7ac74863965f22553e66c463",
       "version_major": 2,
       "version_minor": 0
      },
      "text/plain": [
       "Epoch 105/150 | Timesteps: 1002 | Sample t ∈ [0,1000):   0%|          | 0/46 [00:00<?, ?it/s]"
      ]
     },
     "metadata": {},
     "output_type": "display_data"
    },
    {
     "name": "stdout",
     "output_type": "stream",
     "text": [
      "🔁 Epoch 105 terminé — Moyenne loss : 0.0297\n",
      "📸 Échantillons + modèle sauvegardés (epoch 105) dans results\n"
     ]
    },
    {
     "data": {
      "application/vnd.jupyter.widget-view+json": {
       "model_id": "84f4f8b399ed44ce9480e1cdb1de8e21",
       "version_major": 2,
       "version_minor": 0
      },
      "text/plain": [
       "Epoch 106/150 | Timesteps: 1002 | Sample t ∈ [0,1000):   0%|          | 0/46 [00:00<?, ?it/s]"
      ]
     },
     "metadata": {},
     "output_type": "display_data"
    },
    {
     "name": "stdout",
     "output_type": "stream",
     "text": [
      "🔁 Epoch 106 terminé — Moyenne loss : 0.0305\n"
     ]
    },
    {
     "data": {
      "application/vnd.jupyter.widget-view+json": {
       "model_id": "e410d79dceb04439b1993e58aceba98f",
       "version_major": 2,
       "version_minor": 0
      },
      "text/plain": [
       "Epoch 107/150 | Timesteps: 1002 | Sample t ∈ [0,1000):   0%|          | 0/46 [00:00<?, ?it/s]"
      ]
     },
     "metadata": {},
     "output_type": "display_data"
    },
    {
     "name": "stdout",
     "output_type": "stream",
     "text": [
      "🔁 Epoch 107 terminé — Moyenne loss : 0.0316\n"
     ]
    },
    {
     "data": {
      "application/vnd.jupyter.widget-view+json": {
       "model_id": "fbe30623828640a5baecb26a865b9fa8",
       "version_major": 2,
       "version_minor": 0
      },
      "text/plain": [
       "Epoch 108/150 | Timesteps: 1002 | Sample t ∈ [0,1000):   0%|          | 0/46 [00:00<?, ?it/s]"
      ]
     },
     "metadata": {},
     "output_type": "display_data"
    },
    {
     "name": "stdout",
     "output_type": "stream",
     "text": [
      "🔁 Epoch 108 terminé — Moyenne loss : 0.0306\n"
     ]
    },
    {
     "data": {
      "application/vnd.jupyter.widget-view+json": {
       "model_id": "798d00c52c1440e69232e5ac0379393d",
       "version_major": 2,
       "version_minor": 0
      },
      "text/plain": [
       "Epoch 109/150 | Timesteps: 1002 | Sample t ∈ [0,1000):   0%|          | 0/46 [00:00<?, ?it/s]"
      ]
     },
     "metadata": {},
     "output_type": "display_data"
    },
    {
     "name": "stdout",
     "output_type": "stream",
     "text": [
      "🔁 Epoch 109 terminé — Moyenne loss : 0.0299\n"
     ]
    },
    {
     "data": {
      "application/vnd.jupyter.widget-view+json": {
       "model_id": "a538880328cf470e93736309bbb260ee",
       "version_major": 2,
       "version_minor": 0
      },
      "text/plain": [
       "Epoch 110/150 | Timesteps: 1002 | Sample t ∈ [0,1000):   0%|          | 0/46 [00:00<?, ?it/s]"
      ]
     },
     "metadata": {},
     "output_type": "display_data"
    },
    {
     "name": "stdout",
     "output_type": "stream",
     "text": [
      "🔁 Epoch 110 terminé — Moyenne loss : 0.0284\n",
      "📸 Échantillons + modèle sauvegardés (epoch 110) dans results\n"
     ]
    },
    {
     "data": {
      "application/vnd.jupyter.widget-view+json": {
       "model_id": "1cd6eddaf8bd4fc5a926d8804bd5e3e0",
       "version_major": 2,
       "version_minor": 0
      },
      "text/plain": [
       "Epoch 111/150 | Timesteps: 1002 | Sample t ∈ [0,1000):   0%|          | 0/46 [00:00<?, ?it/s]"
      ]
     },
     "metadata": {},
     "output_type": "display_data"
    },
    {
     "name": "stdout",
     "output_type": "stream",
     "text": [
      "🔁 Epoch 111 terminé — Moyenne loss : 0.0290\n"
     ]
    },
    {
     "data": {
      "application/vnd.jupyter.widget-view+json": {
       "model_id": "0489eb2cfce24e468fa93e97dd0847f8",
       "version_major": 2,
       "version_minor": 0
      },
      "text/plain": [
       "Epoch 112/150 | Timesteps: 1002 | Sample t ∈ [0,1000):   0%|          | 0/46 [00:00<?, ?it/s]"
      ]
     },
     "metadata": {},
     "output_type": "display_data"
    },
    {
     "name": "stdout",
     "output_type": "stream",
     "text": [
      "🔁 Epoch 112 terminé — Moyenne loss : 0.0291\n"
     ]
    },
    {
     "data": {
      "application/vnd.jupyter.widget-view+json": {
       "model_id": "3226267063604cefbdd1a91a28a5915f",
       "version_major": 2,
       "version_minor": 0
      },
      "text/plain": [
       "Epoch 113/150 | Timesteps: 1002 | Sample t ∈ [0,1000):   0%|          | 0/46 [00:00<?, ?it/s]"
      ]
     },
     "metadata": {},
     "output_type": "display_data"
    },
    {
     "name": "stdout",
     "output_type": "stream",
     "text": [
      "🔁 Epoch 113 terminé — Moyenne loss : 0.0279\n"
     ]
    },
    {
     "data": {
      "application/vnd.jupyter.widget-view+json": {
       "model_id": "46b5a48174e8461d95332e13e5e5878a",
       "version_major": 2,
       "version_minor": 0
      },
      "text/plain": [
       "Epoch 114/150 | Timesteps: 1002 | Sample t ∈ [0,1000):   0%|          | 0/46 [00:00<?, ?it/s]"
      ]
     },
     "metadata": {},
     "output_type": "display_data"
    },
    {
     "name": "stdout",
     "output_type": "stream",
     "text": [
      "🔁 Epoch 114 terminé — Moyenne loss : 0.0310\n"
     ]
    },
    {
     "data": {
      "application/vnd.jupyter.widget-view+json": {
       "model_id": "748f424e4ac04842b9ba7f92703f9551",
       "version_major": 2,
       "version_minor": 0
      },
      "text/plain": [
       "Epoch 115/150 | Timesteps: 1002 | Sample t ∈ [0,1000):   0%|          | 0/46 [00:00<?, ?it/s]"
      ]
     },
     "metadata": {},
     "output_type": "display_data"
    },
    {
     "name": "stdout",
     "output_type": "stream",
     "text": [
      "🔁 Epoch 115 terminé — Moyenne loss : 0.0279\n",
      "📸 Échantillons + modèle sauvegardés (epoch 115) dans results\n"
     ]
    },
    {
     "data": {
      "application/vnd.jupyter.widget-view+json": {
       "model_id": "2549888168db414fafcd570885bb8cb9",
       "version_major": 2,
       "version_minor": 0
      },
      "text/plain": [
       "Epoch 116/150 | Timesteps: 1002 | Sample t ∈ [0,1000):   0%|          | 0/46 [00:00<?, ?it/s]"
      ]
     },
     "metadata": {},
     "output_type": "display_data"
    },
    {
     "name": "stdout",
     "output_type": "stream",
     "text": [
      "🔁 Epoch 116 terminé — Moyenne loss : 0.0300\n"
     ]
    },
    {
     "data": {
      "application/vnd.jupyter.widget-view+json": {
       "model_id": "d786a69b44b64ce68904ce54ac5aac18",
       "version_major": 2,
       "version_minor": 0
      },
      "text/plain": [
       "Epoch 117/150 | Timesteps: 1002 | Sample t ∈ [0,1000):   0%|          | 0/46 [00:00<?, ?it/s]"
      ]
     },
     "metadata": {},
     "output_type": "display_data"
    },
    {
     "name": "stdout",
     "output_type": "stream",
     "text": [
      "🔁 Epoch 117 terminé — Moyenne loss : 0.0295\n"
     ]
    },
    {
     "data": {
      "application/vnd.jupyter.widget-view+json": {
       "model_id": "82f6825860ae43dba4f7bfd4c18b7d89",
       "version_major": 2,
       "version_minor": 0
      },
      "text/plain": [
       "Epoch 118/150 | Timesteps: 1002 | Sample t ∈ [0,1000):   0%|          | 0/46 [00:00<?, ?it/s]"
      ]
     },
     "metadata": {},
     "output_type": "display_data"
    },
    {
     "name": "stdout",
     "output_type": "stream",
     "text": [
      "🔁 Epoch 118 terminé — Moyenne loss : 0.0304\n"
     ]
    },
    {
     "data": {
      "application/vnd.jupyter.widget-view+json": {
       "model_id": "0e7f882627014014b8f81c4b42cb9b7b",
       "version_major": 2,
       "version_minor": 0
      },
      "text/plain": [
       "Epoch 119/150 | Timesteps: 1002 | Sample t ∈ [0,1000):   0%|          | 0/46 [00:00<?, ?it/s]"
      ]
     },
     "metadata": {},
     "output_type": "display_data"
    },
    {
     "name": "stdout",
     "output_type": "stream",
     "text": [
      "🔁 Epoch 119 terminé — Moyenne loss : 0.0302\n"
     ]
    },
    {
     "data": {
      "application/vnd.jupyter.widget-view+json": {
       "model_id": "007ff8bd002a472bb4fc2ba1da3de276",
       "version_major": 2,
       "version_minor": 0
      },
      "text/plain": [
       "Epoch 120/150 | Timesteps: 1002 | Sample t ∈ [0,1000):   0%|          | 0/46 [00:00<?, ?it/s]"
      ]
     },
     "metadata": {},
     "output_type": "display_data"
    },
    {
     "name": "stdout",
     "output_type": "stream",
     "text": [
      "🔁 Epoch 120 terminé — Moyenne loss : 0.0304\n",
      "📸 Échantillons + modèle sauvegardés (epoch 120) dans results\n"
     ]
    },
    {
     "data": {
      "application/vnd.jupyter.widget-view+json": {
       "model_id": "2ed9b2b1df4b4cccb0c4356f858c3e02",
       "version_major": 2,
       "version_minor": 0
      },
      "text/plain": [
       "Epoch 121/150 | Timesteps: 1002 | Sample t ∈ [0,1000):   0%|          | 0/46 [00:00<?, ?it/s]"
      ]
     },
     "metadata": {},
     "output_type": "display_data"
    },
    {
     "name": "stdout",
     "output_type": "stream",
     "text": [
      "🔁 Epoch 121 terminé — Moyenne loss : 0.0291\n"
     ]
    },
    {
     "data": {
      "application/vnd.jupyter.widget-view+json": {
       "model_id": "6137138a45004972bd8718fcaf08538a",
       "version_major": 2,
       "version_minor": 0
      },
      "text/plain": [
       "Epoch 122/150 | Timesteps: 1002 | Sample t ∈ [0,1000):   0%|          | 0/46 [00:00<?, ?it/s]"
      ]
     },
     "metadata": {},
     "output_type": "display_data"
    },
    {
     "name": "stdout",
     "output_type": "stream",
     "text": [
      "🔁 Epoch 122 terminé — Moyenne loss : 0.0314\n"
     ]
    },
    {
     "data": {
      "application/vnd.jupyter.widget-view+json": {
       "model_id": "c438eb177d2f4f4da697e3524f2e3f94",
       "version_major": 2,
       "version_minor": 0
      },
      "text/plain": [
       "Epoch 123/150 | Timesteps: 1002 | Sample t ∈ [0,1000):   0%|          | 0/46 [00:00<?, ?it/s]"
      ]
     },
     "metadata": {},
     "output_type": "display_data"
    },
    {
     "name": "stdout",
     "output_type": "stream",
     "text": [
      "🔁 Epoch 123 terminé — Moyenne loss : 0.0304\n"
     ]
    },
    {
     "data": {
      "application/vnd.jupyter.widget-view+json": {
       "model_id": "d567dd99405943c993aec71a19d3ce97",
       "version_major": 2,
       "version_minor": 0
      },
      "text/plain": [
       "Epoch 124/150 | Timesteps: 1002 | Sample t ∈ [0,1000):   0%|          | 0/46 [00:00<?, ?it/s]"
      ]
     },
     "metadata": {},
     "output_type": "display_data"
    },
    {
     "name": "stdout",
     "output_type": "stream",
     "text": [
      "🔁 Epoch 124 terminé — Moyenne loss : 0.0303\n"
     ]
    },
    {
     "data": {
      "application/vnd.jupyter.widget-view+json": {
       "model_id": "b660c9d30bb743b6be414572e2c7a046",
       "version_major": 2,
       "version_minor": 0
      },
      "text/plain": [
       "Epoch 125/150 | Timesteps: 1002 | Sample t ∈ [0,1000):   0%|          | 0/46 [00:00<?, ?it/s]"
      ]
     },
     "metadata": {},
     "output_type": "display_data"
    },
    {
     "name": "stdout",
     "output_type": "stream",
     "text": [
      "🔁 Epoch 125 terminé — Moyenne loss : 0.0308\n",
      "📸 Échantillons + modèle sauvegardés (epoch 125) dans results\n"
     ]
    },
    {
     "data": {
      "application/vnd.jupyter.widget-view+json": {
       "model_id": "c7160a93de904c1a8912f041627647bd",
       "version_major": 2,
       "version_minor": 0
      },
      "text/plain": [
       "Epoch 126/150 | Timesteps: 1002 | Sample t ∈ [0,1000):   0%|          | 0/46 [00:00<?, ?it/s]"
      ]
     },
     "metadata": {},
     "output_type": "display_data"
    },
    {
     "name": "stdout",
     "output_type": "stream",
     "text": [
      "🔁 Epoch 126 terminé — Moyenne loss : 0.0318\n"
     ]
    },
    {
     "data": {
      "application/vnd.jupyter.widget-view+json": {
       "model_id": "5208c2e82fc544e899e697e141f3d4db",
       "version_major": 2,
       "version_minor": 0
      },
      "text/plain": [
       "Epoch 127/150 | Timesteps: 1002 | Sample t ∈ [0,1000):   0%|          | 0/46 [00:00<?, ?it/s]"
      ]
     },
     "metadata": {},
     "output_type": "display_data"
    },
    {
     "name": "stdout",
     "output_type": "stream",
     "text": [
      "🔁 Epoch 127 terminé — Moyenne loss : 0.0303\n"
     ]
    },
    {
     "data": {
      "application/vnd.jupyter.widget-view+json": {
       "model_id": "4d80fd09a0224e0e9eac274650681a68",
       "version_major": 2,
       "version_minor": 0
      },
      "text/plain": [
       "Epoch 128/150 | Timesteps: 1002 | Sample t ∈ [0,1000):   0%|          | 0/46 [00:00<?, ?it/s]"
      ]
     },
     "metadata": {},
     "output_type": "display_data"
    },
    {
     "name": "stdout",
     "output_type": "stream",
     "text": [
      "🔁 Epoch 128 terminé — Moyenne loss : 0.0288\n"
     ]
    },
    {
     "data": {
      "application/vnd.jupyter.widget-view+json": {
       "model_id": "7084dfd23e6e40da94ff8575b86957b0",
       "version_major": 2,
       "version_minor": 0
      },
      "text/plain": [
       "Epoch 129/150 | Timesteps: 1002 | Sample t ∈ [0,1000):   0%|          | 0/46 [00:00<?, ?it/s]"
      ]
     },
     "metadata": {},
     "output_type": "display_data"
    },
    {
     "name": "stdout",
     "output_type": "stream",
     "text": [
      "🔁 Epoch 129 terminé — Moyenne loss : 0.0286\n"
     ]
    },
    {
     "data": {
      "application/vnd.jupyter.widget-view+json": {
       "model_id": "e7db9b9e2d1849a88f6f8d5c2ebef3f8",
       "version_major": 2,
       "version_minor": 0
      },
      "text/plain": [
       "Epoch 130/150 | Timesteps: 1002 | Sample t ∈ [0,1000):   0%|          | 0/46 [00:00<?, ?it/s]"
      ]
     },
     "metadata": {},
     "output_type": "display_data"
    },
    {
     "name": "stdout",
     "output_type": "stream",
     "text": [
      "🔁 Epoch 130 terminé — Moyenne loss : 0.0309\n",
      "📸 Échantillons + modèle sauvegardés (epoch 130) dans results\n"
     ]
    },
    {
     "data": {
      "application/vnd.jupyter.widget-view+json": {
       "model_id": "61106697e2b84b399e3d5ef225df98bf",
       "version_major": 2,
       "version_minor": 0
      },
      "text/plain": [
       "Epoch 131/150 | Timesteps: 1002 | Sample t ∈ [0,1000):   0%|          | 0/46 [00:00<?, ?it/s]"
      ]
     },
     "metadata": {},
     "output_type": "display_data"
    },
    {
     "name": "stdout",
     "output_type": "stream",
     "text": [
      "🔁 Epoch 131 terminé — Moyenne loss : 0.0303\n"
     ]
    },
    {
     "data": {
      "application/vnd.jupyter.widget-view+json": {
       "model_id": "401d28ef0e40473095035054e0807f9a",
       "version_major": 2,
       "version_minor": 0
      },
      "text/plain": [
       "Epoch 132/150 | Timesteps: 1002 | Sample t ∈ [0,1000):   0%|          | 0/46 [00:00<?, ?it/s]"
      ]
     },
     "metadata": {},
     "output_type": "display_data"
    },
    {
     "name": "stdout",
     "output_type": "stream",
     "text": [
      "🔁 Epoch 132 terminé — Moyenne loss : 0.0287\n"
     ]
    },
    {
     "data": {
      "application/vnd.jupyter.widget-view+json": {
       "model_id": "c4ac54effffc49ab833241db5704df08",
       "version_major": 2,
       "version_minor": 0
      },
      "text/plain": [
       "Epoch 133/150 | Timesteps: 1002 | Sample t ∈ [0,1000):   0%|          | 0/46 [00:00<?, ?it/s]"
      ]
     },
     "metadata": {},
     "output_type": "display_data"
    },
    {
     "name": "stdout",
     "output_type": "stream",
     "text": [
      "🔁 Epoch 133 terminé — Moyenne loss : 1.2089\n"
     ]
    },
    {
     "data": {
      "application/vnd.jupyter.widget-view+json": {
       "model_id": "4f2bb81447c74c37b34bd5aa1ba79c24",
       "version_major": 2,
       "version_minor": 0
      },
      "text/plain": [
       "Epoch 134/150 | Timesteps: 1002 | Sample t ∈ [0,1000):   0%|          | 0/46 [00:00<?, ?it/s]"
      ]
     },
     "metadata": {},
     "output_type": "display_data"
    },
    {
     "name": "stdout",
     "output_type": "stream",
     "text": [
      "🔁 Epoch 134 terminé — Moyenne loss : 2785746672396.0151\n"
     ]
    },
    {
     "data": {
      "application/vnd.jupyter.widget-view+json": {
       "model_id": "6bd713044e784050a7310c08dcce0ce3",
       "version_major": 2,
       "version_minor": 0
      },
      "text/plain": [
       "Epoch 135/150 | Timesteps: 1002 | Sample t ∈ [0,1000):   0%|          | 0/46 [00:00<?, ?it/s]"
      ]
     },
     "metadata": {},
     "output_type": "display_data"
    },
    {
     "name": "stdout",
     "output_type": "stream",
     "text": [
      "🔁 Epoch 135 terminé — Moyenne loss : 30243333.6920\n",
      "📸 Échantillons + modèle sauvegardés (epoch 135) dans results\n"
     ]
    },
    {
     "data": {
      "application/vnd.jupyter.widget-view+json": {
       "model_id": "c97cd2885a1942aaa74859e5dbc7af72",
       "version_major": 2,
       "version_minor": 0
      },
      "text/plain": [
       "Epoch 136/150 | Timesteps: 1002 | Sample t ∈ [0,1000):   0%|          | 0/46 [00:00<?, ?it/s]"
      ]
     },
     "metadata": {},
     "output_type": "display_data"
    },
    {
     "name": "stdout",
     "output_type": "stream",
     "text": [
      "🔁 Epoch 136 terminé — Moyenne loss : 1169.7471\n"
     ]
    },
    {
     "data": {
      "application/vnd.jupyter.widget-view+json": {
       "model_id": "283b905413eb4fd3a65631dc36269d5d",
       "version_major": 2,
       "version_minor": 0
      },
      "text/plain": [
       "Epoch 137/150 | Timesteps: 1002 | Sample t ∈ [0,1000):   0%|          | 0/46 [00:00<?, ?it/s]"
      ]
     },
     "metadata": {},
     "output_type": "display_data"
    },
    {
     "name": "stdout",
     "output_type": "stream",
     "text": [
      "🔁 Epoch 137 terminé — Moyenne loss : 3546.6330\n"
     ]
    },
    {
     "data": {
      "application/vnd.jupyter.widget-view+json": {
       "model_id": "edd806cc477e4058999095b1f445c9c0",
       "version_major": 2,
       "version_minor": 0
      },
      "text/plain": [
       "Epoch 138/150 | Timesteps: 1002 | Sample t ∈ [0,1000):   0%|          | 0/46 [00:00<?, ?it/s]"
      ]
     },
     "metadata": {},
     "output_type": "display_data"
    },
    {
     "name": "stdout",
     "output_type": "stream",
     "text": [
      "🔁 Epoch 138 terminé — Moyenne loss : 1.1905\n"
     ]
    },
    {
     "data": {
      "application/vnd.jupyter.widget-view+json": {
       "model_id": "48d565f0c11a4b6783e6058aa4af33bc",
       "version_major": 2,
       "version_minor": 0
      },
      "text/plain": [
       "Epoch 139/150 | Timesteps: 1002 | Sample t ∈ [0,1000):   0%|          | 0/46 [00:00<?, ?it/s]"
      ]
     },
     "metadata": {},
     "output_type": "display_data"
    },
    {
     "name": "stdout",
     "output_type": "stream",
     "text": [
      "🔁 Epoch 139 terminé — Moyenne loss : 1.3019\n"
     ]
    },
    {
     "data": {
      "application/vnd.jupyter.widget-view+json": {
       "model_id": "cc923ea4d7d14fdba786f4788afeeeb1",
       "version_major": 2,
       "version_minor": 0
      },
      "text/plain": [
       "Epoch 140/150 | Timesteps: 1002 | Sample t ∈ [0,1000):   0%|          | 0/46 [00:00<?, ?it/s]"
      ]
     },
     "metadata": {},
     "output_type": "display_data"
    },
    {
     "name": "stdout",
     "output_type": "stream",
     "text": [
      "🔁 Epoch 140 terminé — Moyenne loss : 0.1555\n",
      "📸 Échantillons + modèle sauvegardés (epoch 140) dans results\n"
     ]
    },
    {
     "data": {
      "application/vnd.jupyter.widget-view+json": {
       "model_id": "5aa8eaf14c6946c08f9ab3d552b198dd",
       "version_major": 2,
       "version_minor": 0
      },
      "text/plain": [
       "Epoch 141/150 | Timesteps: 1002 | Sample t ∈ [0,1000):   0%|          | 0/46 [00:00<?, ?it/s]"
      ]
     },
     "metadata": {},
     "output_type": "display_data"
    },
    {
     "name": "stdout",
     "output_type": "stream",
     "text": [
      "🔁 Epoch 141 terminé — Moyenne loss : 0.8994\n"
     ]
    },
    {
     "data": {
      "application/vnd.jupyter.widget-view+json": {
       "model_id": "b00ebbad6b8346209e3ea0fd94c7a5f1",
       "version_major": 2,
       "version_minor": 0
      },
      "text/plain": [
       "Epoch 142/150 | Timesteps: 1002 | Sample t ∈ [0,1000):   0%|          | 0/46 [00:00<?, ?it/s]"
      ]
     },
     "metadata": {},
     "output_type": "display_data"
    },
    {
     "ename": "KeyboardInterrupt",
     "evalue": "",
     "output_type": "error",
     "traceback": [
      "\u001b[1;31m---------------------------------------------------------------------------\u001b[0m",
      "\u001b[1;31mKeyboardInterrupt\u001b[0m                         Traceback (most recent call last)",
      "Cell \u001b[1;32mIn[35], line 30\u001b[0m\n\u001b[0;32m     26\u001b[0m epoch_losses \u001b[38;5;241m=\u001b[39m []\n\u001b[0;32m     28\u001b[0m loop \u001b[38;5;241m=\u001b[39m tqdm(dataloader, desc\u001b[38;5;241m=\u001b[39m\u001b[38;5;124mf\u001b[39m\u001b[38;5;124m\"\u001b[39m\u001b[38;5;124mEpoch \u001b[39m\u001b[38;5;132;01m{\u001b[39;00mepoch\u001b[38;5;132;01m}\u001b[39;00m\u001b[38;5;124m/\u001b[39m\u001b[38;5;132;01m{\u001b[39;00mepochs\u001b[38;5;132;01m}\u001b[39;00m\u001b[38;5;124m | Timesteps: \u001b[39m\u001b[38;5;132;01m{\u001b[39;00mdiffusion\u001b[38;5;241m.\u001b[39mtimesteps\u001b[38;5;132;01m}\u001b[39;00m\u001b[38;5;124m | Sample t ∈ [0,\u001b[39m\u001b[38;5;132;01m{\u001b[39;00mcurrent_max_sample_t\u001b[38;5;132;01m}\u001b[39;00m\u001b[38;5;124m)\u001b[39m\u001b[38;5;124m\"\u001b[39m)\n\u001b[1;32m---> 30\u001b[0m \u001b[43m\u001b[49m\u001b[38;5;28;43;01mfor\u001b[39;49;00m\u001b[43m \u001b[49m\u001b[43mx\u001b[49m\u001b[43m,\u001b[49m\u001b[43m \u001b[49m\u001b[43my\u001b[49m\u001b[43m \u001b[49m\u001b[38;5;129;43;01min\u001b[39;49;00m\u001b[43m \u001b[49m\u001b[43mloop\u001b[49m\u001b[43m:\u001b[49m\n\u001b[0;32m     31\u001b[0m \u001b[43m    \u001b[49m\u001b[43mx\u001b[49m\u001b[43m,\u001b[49m\u001b[43m \u001b[49m\u001b[43my\u001b[49m\u001b[43m \u001b[49m\u001b[38;5;241;43m=\u001b[39;49m\u001b[43m \u001b[49m\u001b[43mx\u001b[49m\u001b[38;5;241;43m.\u001b[39;49m\u001b[43mto\u001b[49m\u001b[43m(\u001b[49m\u001b[43mdevice\u001b[49m\u001b[43m)\u001b[49m\u001b[43m,\u001b[49m\u001b[43m \u001b[49m\u001b[43my\u001b[49m\u001b[38;5;241;43m.\u001b[39;49m\u001b[43mto\u001b[49m\u001b[43m(\u001b[49m\u001b[43mdevice\u001b[49m\u001b[43m)\u001b[49m\n\u001b[0;32m     32\u001b[0m \u001b[43m    \u001b[49m\u001b[43mt\u001b[49m\u001b[43m \u001b[49m\u001b[38;5;241;43m=\u001b[39;49m\u001b[43m \u001b[49m\u001b[43mtorch\u001b[49m\u001b[38;5;241;43m.\u001b[39;49m\u001b[43mrandint\u001b[49m\u001b[43m(\u001b[49m\u001b[38;5;241;43m0\u001b[39;49m\u001b[43m,\u001b[49m\u001b[43m \u001b[49m\u001b[38;5;28;43mmin\u001b[39;49m\u001b[43m(\u001b[49m\u001b[43mcurrent_max_sample_t\u001b[49m\u001b[43m,\u001b[49m\u001b[43m \u001b[49m\u001b[43mdiffusion\u001b[49m\u001b[38;5;241;43m.\u001b[39;49m\u001b[43mtimesteps\u001b[49m\u001b[43m \u001b[49m\u001b[38;5;241;43m-\u001b[39;49m\u001b[43m \u001b[49m\u001b[38;5;241;43m1\u001b[39;49m\u001b[43m)\u001b[49m\u001b[43m,\u001b[49m\u001b[43m \u001b[49m\u001b[43m(\u001b[49m\u001b[43mx\u001b[49m\u001b[38;5;241;43m.\u001b[39;49m\u001b[43msize\u001b[49m\u001b[43m(\u001b[49m\u001b[38;5;241;43m0\u001b[39;49m\u001b[43m)\u001b[49m\u001b[43m,\u001b[49m\u001b[43m)\u001b[49m\u001b[43m,\u001b[49m\u001b[43m \u001b[49m\u001b[43mdevice\u001b[49m\u001b[38;5;241;43m=\u001b[39;49m\u001b[43mdevice\u001b[49m\u001b[43m)\u001b[49m\u001b[38;5;241;43m.\u001b[39;49m\u001b[43mlong\u001b[49m\u001b[43m(\u001b[49m\u001b[43m)\u001b[49m\n",
      "File \u001b[1;32m~\\AppData\\Local\\Packages\\PythonSoftwareFoundation.Python.3.11_qbz5n2kfra8p0\\LocalCache\\local-packages\\Python311\\site-packages\\tqdm\\notebook.py:250\u001b[0m, in \u001b[0;36mtqdm_notebook.__iter__\u001b[1;34m(self)\u001b[0m\n\u001b[0;32m    248\u001b[0m \u001b[38;5;28;01mtry\u001b[39;00m:\n\u001b[0;32m    249\u001b[0m     it \u001b[38;5;241m=\u001b[39m \u001b[38;5;28msuper\u001b[39m()\u001b[38;5;241m.\u001b[39m\u001b[38;5;21m__iter__\u001b[39m()\n\u001b[1;32m--> 250\u001b[0m \u001b[43m    \u001b[49m\u001b[38;5;28;43;01mfor\u001b[39;49;00m\u001b[43m \u001b[49m\u001b[43mobj\u001b[49m\u001b[43m \u001b[49m\u001b[38;5;129;43;01min\u001b[39;49;00m\u001b[43m \u001b[49m\u001b[43mit\u001b[49m\u001b[43m:\u001b[49m\n\u001b[0;32m    251\u001b[0m \u001b[43m        \u001b[49m\u001b[38;5;66;43;03m# return super(tqdm...) will not catch exception\u001b[39;49;00m\n\u001b[0;32m    252\u001b[0m \u001b[43m        \u001b[49m\u001b[38;5;28;43;01myield\u001b[39;49;00m\u001b[43m \u001b[49m\u001b[43mobj\u001b[49m\n\u001b[0;32m    253\u001b[0m \u001b[38;5;66;03m# NB: except ... [ as ...] breaks IPython async KeyboardInterrupt\u001b[39;00m\n",
      "File \u001b[1;32m~\\AppData\\Local\\Packages\\PythonSoftwareFoundation.Python.3.11_qbz5n2kfra8p0\\LocalCache\\local-packages\\Python311\\site-packages\\tqdm\\std.py:1181\u001b[0m, in \u001b[0;36mtqdm.__iter__\u001b[1;34m(self)\u001b[0m\n\u001b[0;32m   1178\u001b[0m time \u001b[38;5;241m=\u001b[39m \u001b[38;5;28mself\u001b[39m\u001b[38;5;241m.\u001b[39m_time\n\u001b[0;32m   1180\u001b[0m \u001b[38;5;28;01mtry\u001b[39;00m:\n\u001b[1;32m-> 1181\u001b[0m \u001b[43m    \u001b[49m\u001b[38;5;28;43;01mfor\u001b[39;49;00m\u001b[43m \u001b[49m\u001b[43mobj\u001b[49m\u001b[43m \u001b[49m\u001b[38;5;129;43;01min\u001b[39;49;00m\u001b[43m \u001b[49m\u001b[43miterable\u001b[49m\u001b[43m:\u001b[49m\n\u001b[0;32m   1182\u001b[0m \u001b[43m        \u001b[49m\u001b[38;5;28;43;01myield\u001b[39;49;00m\u001b[43m \u001b[49m\u001b[43mobj\u001b[49m\n\u001b[0;32m   1183\u001b[0m \u001b[43m        \u001b[49m\u001b[38;5;66;43;03m# Update and possibly print the progressbar.\u001b[39;49;00m\n\u001b[0;32m   1184\u001b[0m \u001b[43m        \u001b[49m\u001b[38;5;66;43;03m# Note: does not call self.update(1) for speed optimisation.\u001b[39;49;00m\n",
      "File \u001b[1;32m~\\AppData\\Local\\Packages\\PythonSoftwareFoundation.Python.3.11_qbz5n2kfra8p0\\LocalCache\\local-packages\\Python311\\site-packages\\torch\\utils\\data\\dataloader.py:491\u001b[0m, in \u001b[0;36mDataLoader.__iter__\u001b[1;34m(self)\u001b[0m\n\u001b[0;32m    489\u001b[0m     \u001b[38;5;28;01mreturn\u001b[39;00m \u001b[38;5;28mself\u001b[39m\u001b[38;5;241m.\u001b[39m_iterator\n\u001b[0;32m    490\u001b[0m \u001b[38;5;28;01melse\u001b[39;00m:\n\u001b[1;32m--> 491\u001b[0m     \u001b[38;5;28;01mreturn\u001b[39;00m \u001b[38;5;28;43mself\u001b[39;49m\u001b[38;5;241;43m.\u001b[39;49m\u001b[43m_get_iterator\u001b[49m\u001b[43m(\u001b[49m\u001b[43m)\u001b[49m\n",
      "File \u001b[1;32m~\\AppData\\Local\\Packages\\PythonSoftwareFoundation.Python.3.11_qbz5n2kfra8p0\\LocalCache\\local-packages\\Python311\\site-packages\\torch\\utils\\data\\dataloader.py:422\u001b[0m, in \u001b[0;36mDataLoader._get_iterator\u001b[1;34m(self)\u001b[0m\n\u001b[0;32m    420\u001b[0m \u001b[38;5;28;01melse\u001b[39;00m:\n\u001b[0;32m    421\u001b[0m     \u001b[38;5;28mself\u001b[39m\u001b[38;5;241m.\u001b[39mcheck_worker_number_rationality()\n\u001b[1;32m--> 422\u001b[0m     \u001b[38;5;28;01mreturn\u001b[39;00m \u001b[43m_MultiProcessingDataLoaderIter\u001b[49m\u001b[43m(\u001b[49m\u001b[38;5;28;43mself\u001b[39;49m\u001b[43m)\u001b[49m\n",
      "File \u001b[1;32m~\\AppData\\Local\\Packages\\PythonSoftwareFoundation.Python.3.11_qbz5n2kfra8p0\\LocalCache\\local-packages\\Python311\\site-packages\\torch\\utils\\data\\dataloader.py:1146\u001b[0m, in \u001b[0;36m_MultiProcessingDataLoaderIter.__init__\u001b[1;34m(self, loader)\u001b[0m\n\u001b[0;32m   1139\u001b[0m w\u001b[38;5;241m.\u001b[39mdaemon \u001b[38;5;241m=\u001b[39m \u001b[38;5;28;01mTrue\u001b[39;00m\n\u001b[0;32m   1140\u001b[0m \u001b[38;5;66;03m# NB: Process.start() actually take some time as it needs to\u001b[39;00m\n\u001b[0;32m   1141\u001b[0m \u001b[38;5;66;03m#     start a process and pass the arguments over via a pipe.\u001b[39;00m\n\u001b[0;32m   1142\u001b[0m \u001b[38;5;66;03m#     Therefore, we only add a worker to self._workers list after\u001b[39;00m\n\u001b[0;32m   1143\u001b[0m \u001b[38;5;66;03m#     it started, so that we do not call .join() if program dies\u001b[39;00m\n\u001b[0;32m   1144\u001b[0m \u001b[38;5;66;03m#     before it starts, and __del__ tries to join but will get:\u001b[39;00m\n\u001b[0;32m   1145\u001b[0m \u001b[38;5;66;03m#     AssertionError: can only join a started process.\u001b[39;00m\n\u001b[1;32m-> 1146\u001b[0m \u001b[43mw\u001b[49m\u001b[38;5;241;43m.\u001b[39;49m\u001b[43mstart\u001b[49m\u001b[43m(\u001b[49m\u001b[43m)\u001b[49m\n\u001b[0;32m   1147\u001b[0m \u001b[38;5;28mself\u001b[39m\u001b[38;5;241m.\u001b[39m_index_queues\u001b[38;5;241m.\u001b[39mappend(index_queue)\n\u001b[0;32m   1148\u001b[0m \u001b[38;5;28mself\u001b[39m\u001b[38;5;241m.\u001b[39m_workers\u001b[38;5;241m.\u001b[39mappend(w)\n",
      "File \u001b[1;32mC:\\Program Files\\WindowsApps\\PythonSoftwareFoundation.Python.3.11_3.11.2544.0_x64__qbz5n2kfra8p0\\Lib\\multiprocessing\\process.py:121\u001b[0m, in \u001b[0;36mBaseProcess.start\u001b[1;34m(self)\u001b[0m\n\u001b[0;32m    118\u001b[0m \u001b[38;5;28;01massert\u001b[39;00m \u001b[38;5;129;01mnot\u001b[39;00m _current_process\u001b[38;5;241m.\u001b[39m_config\u001b[38;5;241m.\u001b[39mget(\u001b[38;5;124m'\u001b[39m\u001b[38;5;124mdaemon\u001b[39m\u001b[38;5;124m'\u001b[39m), \\\n\u001b[0;32m    119\u001b[0m        \u001b[38;5;124m'\u001b[39m\u001b[38;5;124mdaemonic processes are not allowed to have children\u001b[39m\u001b[38;5;124m'\u001b[39m\n\u001b[0;32m    120\u001b[0m _cleanup()\n\u001b[1;32m--> 121\u001b[0m \u001b[38;5;28mself\u001b[39m\u001b[38;5;241m.\u001b[39m_popen \u001b[38;5;241m=\u001b[39m \u001b[38;5;28;43mself\u001b[39;49m\u001b[38;5;241;43m.\u001b[39;49m\u001b[43m_Popen\u001b[49m\u001b[43m(\u001b[49m\u001b[38;5;28;43mself\u001b[39;49m\u001b[43m)\u001b[49m\n\u001b[0;32m    122\u001b[0m \u001b[38;5;28mself\u001b[39m\u001b[38;5;241m.\u001b[39m_sentinel \u001b[38;5;241m=\u001b[39m \u001b[38;5;28mself\u001b[39m\u001b[38;5;241m.\u001b[39m_popen\u001b[38;5;241m.\u001b[39msentinel\n\u001b[0;32m    123\u001b[0m \u001b[38;5;66;03m# Avoid a refcycle if the target function holds an indirect\u001b[39;00m\n\u001b[0;32m    124\u001b[0m \u001b[38;5;66;03m# reference to the process object (see bpo-30775)\u001b[39;00m\n",
      "File \u001b[1;32mC:\\Program Files\\WindowsApps\\PythonSoftwareFoundation.Python.3.11_3.11.2544.0_x64__qbz5n2kfra8p0\\Lib\\multiprocessing\\context.py:224\u001b[0m, in \u001b[0;36mProcess._Popen\u001b[1;34m(process_obj)\u001b[0m\n\u001b[0;32m    222\u001b[0m \u001b[38;5;129m@staticmethod\u001b[39m\n\u001b[0;32m    223\u001b[0m \u001b[38;5;28;01mdef\u001b[39;00m\u001b[38;5;250m \u001b[39m\u001b[38;5;21m_Popen\u001b[39m(process_obj):\n\u001b[1;32m--> 224\u001b[0m     \u001b[38;5;28;01mreturn\u001b[39;00m \u001b[43m_default_context\u001b[49m\u001b[38;5;241;43m.\u001b[39;49m\u001b[43mget_context\u001b[49m\u001b[43m(\u001b[49m\u001b[43m)\u001b[49m\u001b[38;5;241;43m.\u001b[39;49m\u001b[43mProcess\u001b[49m\u001b[38;5;241;43m.\u001b[39;49m\u001b[43m_Popen\u001b[49m\u001b[43m(\u001b[49m\u001b[43mprocess_obj\u001b[49m\u001b[43m)\u001b[49m\n",
      "File \u001b[1;32mC:\\Program Files\\WindowsApps\\PythonSoftwareFoundation.Python.3.11_3.11.2544.0_x64__qbz5n2kfra8p0\\Lib\\multiprocessing\\context.py:336\u001b[0m, in \u001b[0;36mSpawnProcess._Popen\u001b[1;34m(process_obj)\u001b[0m\n\u001b[0;32m    333\u001b[0m \u001b[38;5;129m@staticmethod\u001b[39m\n\u001b[0;32m    334\u001b[0m \u001b[38;5;28;01mdef\u001b[39;00m\u001b[38;5;250m \u001b[39m\u001b[38;5;21m_Popen\u001b[39m(process_obj):\n\u001b[0;32m    335\u001b[0m     \u001b[38;5;28;01mfrom\u001b[39;00m\u001b[38;5;250m \u001b[39m\u001b[38;5;21;01m.\u001b[39;00m\u001b[38;5;21;01mpopen_spawn_win32\u001b[39;00m\u001b[38;5;250m \u001b[39m\u001b[38;5;28;01mimport\u001b[39;00m Popen\n\u001b[1;32m--> 336\u001b[0m     \u001b[38;5;28;01mreturn\u001b[39;00m \u001b[43mPopen\u001b[49m\u001b[43m(\u001b[49m\u001b[43mprocess_obj\u001b[49m\u001b[43m)\u001b[49m\n",
      "File \u001b[1;32mC:\\Program Files\\WindowsApps\\PythonSoftwareFoundation.Python.3.11_3.11.2544.0_x64__qbz5n2kfra8p0\\Lib\\multiprocessing\\popen_spawn_win32.py:95\u001b[0m, in \u001b[0;36mPopen.__init__\u001b[1;34m(self, process_obj)\u001b[0m\n\u001b[0;32m     93\u001b[0m \u001b[38;5;28;01mtry\u001b[39;00m:\n\u001b[0;32m     94\u001b[0m     reduction\u001b[38;5;241m.\u001b[39mdump(prep_data, to_child)\n\u001b[1;32m---> 95\u001b[0m     \u001b[43mreduction\u001b[49m\u001b[38;5;241;43m.\u001b[39;49m\u001b[43mdump\u001b[49m\u001b[43m(\u001b[49m\u001b[43mprocess_obj\u001b[49m\u001b[43m,\u001b[49m\u001b[43m \u001b[49m\u001b[43mto_child\u001b[49m\u001b[43m)\u001b[49m\n\u001b[0;32m     96\u001b[0m \u001b[38;5;28;01mfinally\u001b[39;00m:\n\u001b[0;32m     97\u001b[0m     set_spawning_popen(\u001b[38;5;28;01mNone\u001b[39;00m)\n",
      "File \u001b[1;32mC:\\Program Files\\WindowsApps\\PythonSoftwareFoundation.Python.3.11_3.11.2544.0_x64__qbz5n2kfra8p0\\Lib\\multiprocessing\\reduction.py:60\u001b[0m, in \u001b[0;36mdump\u001b[1;34m(obj, file, protocol)\u001b[0m\n\u001b[0;32m     58\u001b[0m \u001b[38;5;28;01mdef\u001b[39;00m\u001b[38;5;250m \u001b[39m\u001b[38;5;21mdump\u001b[39m(obj, file, protocol\u001b[38;5;241m=\u001b[39m\u001b[38;5;28;01mNone\u001b[39;00m):\n\u001b[0;32m     59\u001b[0m \u001b[38;5;250m    \u001b[39m\u001b[38;5;124;03m'''Replacement for pickle.dump() using ForkingPickler.'''\u001b[39;00m\n\u001b[1;32m---> 60\u001b[0m     \u001b[43mForkingPickler\u001b[49m\u001b[43m(\u001b[49m\u001b[43mfile\u001b[49m\u001b[43m,\u001b[49m\u001b[43m \u001b[49m\u001b[43mprotocol\u001b[49m\u001b[43m)\u001b[49m\u001b[38;5;241;43m.\u001b[39;49m\u001b[43mdump\u001b[49m\u001b[43m(\u001b[49m\u001b[43mobj\u001b[49m\u001b[43m)\u001b[49m\n",
      "\u001b[1;31mKeyboardInterrupt\u001b[0m: "
     ]
    }
   ],
   "source": [
    "from tqdm.notebook import tqdm\n",
    "import torch.nn.utils\n",
    "\n",
    "start_epoch = 101\n",
    "epochs = 150  \n",
    "timestep_final = 1002\n",
    "current_max_sample_t = 999  # 🔁 à l'epoch 95, t allait jusqu'à 998\n",
    "lr = 2e-4\n",
    "\n",
    "# ✅ Recharger modèle\n",
    "model = UNetConditional(in_channels=3, base_channels=64, time_emb_dim=256, class_emb_dim=128, num_classes=num_classes).to(device)\n",
    "model.load_state_dict(torch.load(\"model_epoch_100.pt\", map_location=device))\n",
    "print(\"✅ Modèle chargé depuis model_epoch_100.pt\")\n",
    "\n",
    "# 🔁 Créer diffusion avec T=1000\n",
    "diffusion = GaussianDiffusion(model, timesteps=timestep_final, device=device)\n",
    "\n",
    "# 🔄 Optimiseur\n",
    "optimizer = torch.optim.Adam(model.parameters(), lr=lr)\n",
    "\n",
    "losses = []\n",
    "\n",
    "# 🔂 Boucle d'entraînement (suite)\n",
    "for epoch in range(start_epoch, epochs + 1):\n",
    "    model.train()\n",
    "    epoch_losses = []\n",
    "\n",
    "    loop = tqdm(dataloader, desc=f\"Epoch {epoch}/{epochs} | Timesteps: {diffusion.timesteps} | Sample t ∈ [0,{current_max_sample_t})\")\n",
    "\n",
    "    for x, y in loop:\n",
    "        x, y = x.to(device), y.to(device)\n",
    "        t = torch.randint(0, min(current_max_sample_t, diffusion.timesteps - 1), (x.size(0),), device=device).long()\n",
    "        noise = torch.randn_like(x)\n",
    "        x_t = diffusion.q_sample(x, t, noise)\n",
    "\n",
    "        noise_pred = model(x_t, t, y)\n",
    "        loss = F.mse_loss(noise_pred, noise)\n",
    "\n",
    "        optimizer.zero_grad()\n",
    "        loss.backward()\n",
    "        torch.nn.utils.clip_grad_norm_(model.parameters(), max_norm=1.0)  # stabilisation\n",
    "        optimizer.step()\n",
    "\n",
    "        loop.set_postfix(loss=loss.item())\n",
    "        epoch_losses.append(loss.item())\n",
    "        losses.append(loss.item())  # 👈 tu peux garder la liste si tu veux tracer après\n",
    "\n",
    "    avg_loss = sum(epoch_losses) / len(epoch_losses)\n",
    "    print(f\"🔁 Epoch {epoch} terminé — Moyenne loss : {avg_loss:.4f}\")\n",
    "\n",
    "    # dizaine = epoch // 10\n",
    "    # position = epoch % 10\n",
    "\n",
    "    # if epoch <= 10:\n",
    "    #     current_max_sample_t = 100\n",
    "    # else:\n",
    "    #     if position == 0:\n",
    "    #         current_max_sample_t = dizaine * 100\n",
    "    #     elif position == 1:\n",
    "    #         current_max_sample_t = dizaine * 100 + 25\n",
    "    #     elif position == 2:\n",
    "    #         current_max_sample_t = dizaine * 100 + 50\n",
    "    #     elif position == 3:\n",
    "    #         current_max_sample_t = dizaine * 100 + 75\n",
    "    #     elif position == 4:\n",
    "    #         current_max_sample_t = dizaine * 100 + 85\n",
    "    #     elif position == 5:\n",
    "    #         current_max_sample_t = dizaine * 100 + 95\n",
    "    #     elif position == 6:\n",
    "    #         current_max_sample_t = dizaine * 100 + 98\n",
    "    #     elif position in [7, 8, 9]:\n",
    "    #         current_max_sample_t = dizaine * 100 + 99\n",
    "\n",
    "    current_max_sample_t = 1000\n",
    "\n",
    "    # 🖼️ Échantillonnage toutes les 5 epochs\n",
    "    if epoch % 5 == 0:\n",
    "        model.eval()\n",
    "        with torch.no_grad():\n",
    "            y_sample = torch.tensor([0] * 16, device=device)\n",
    "            samples = diffusion.sample(batch_size=16, image_size=image_size, y=y_sample)\n",
    "            save_sample_grid(samples, os.path.join(save_dir, f\"sample_epoch_{epoch}.png\"), nrow=4)\n",
    "            torch.save(model.state_dict(), os.path.join(save_dir, f\"model_epoch_{epoch}.pt\"))\n",
    "            print(f\"📸 Échantillons + modèle sauvegardés (epoch {epoch}) dans {save_dir}\")\n"
   ]
  },
  {
   "cell_type": "code",
   "execution_count": 7,
   "metadata": {},
   "outputs": [
    {
     "name": "stdout",
     "output_type": "stream",
     "text": [
      "✅ Modèle chargé depuis model_epoch_100.pt\n",
      "🔧 Diffusion mise à jour : 1000 étapes\n"
     ]
    },
    {
     "data": {
      "application/vnd.jupyter.widget-view+json": {
       "model_id": "291500b6cf904596a66224decdbe4d85",
       "version_major": 2,
       "version_minor": 0
      },
      "text/plain": [
       "Epoch 100/150 | Timesteps: 1000 | t ∈ [0,1000):   0%|          | 0/79 [00:00<?, ?it/s]"
      ]
     },
     "metadata": {},
     "output_type": "display_data"
    },
    {
     "name": "stdout",
     "output_type": "stream",
     "text": [
      "🔁 Epoch 100 terminé — Moyenne loss : 0.0898\n",
      "📸 Échantillons + modèle sauvegardés (epoch 100) dans results\n"
     ]
    },
    {
     "data": {
      "application/vnd.jupyter.widget-view+json": {
       "model_id": "463744da40ea4f17840a7d3b35a8dc04",
       "version_major": 2,
       "version_minor": 0
      },
      "text/plain": [
       "Epoch 101/150 | Timesteps: 1000 | t ∈ [0,1000):   0%|          | 0/79 [00:00<?, ?it/s]"
      ]
     },
     "metadata": {},
     "output_type": "display_data"
    },
    {
     "name": "stdout",
     "output_type": "stream",
     "text": [
      "🔁 Epoch 101 terminé — Moyenne loss : 0.0333\n"
     ]
    },
    {
     "data": {
      "application/vnd.jupyter.widget-view+json": {
       "model_id": "b0ab47f9cd8c4243a1cde616b0b89157",
       "version_major": 2,
       "version_minor": 0
      },
      "text/plain": [
       "Epoch 102/150 | Timesteps: 1000 | t ∈ [0,1000):   0%|          | 0/79 [00:00<?, ?it/s]"
      ]
     },
     "metadata": {},
     "output_type": "display_data"
    },
    {
     "name": "stdout",
     "output_type": "stream",
     "text": [
      "🔁 Epoch 102 terminé — Moyenne loss : 0.0351\n"
     ]
    },
    {
     "data": {
      "application/vnd.jupyter.widget-view+json": {
       "model_id": "b8bb8e610bb64dc0a0bc0dd4959f82ee",
       "version_major": 2,
       "version_minor": 0
      },
      "text/plain": [
       "Epoch 103/150 | Timesteps: 1000 | t ∈ [0,1000):   0%|          | 0/79 [00:00<?, ?it/s]"
      ]
     },
     "metadata": {},
     "output_type": "display_data"
    },
    {
     "name": "stdout",
     "output_type": "stream",
     "text": [
      "🔁 Epoch 103 terminé — Moyenne loss : 0.0316\n"
     ]
    },
    {
     "data": {
      "application/vnd.jupyter.widget-view+json": {
       "model_id": "1cff974b48754d61965c5afde230485a",
       "version_major": 2,
       "version_minor": 0
      },
      "text/plain": [
       "Epoch 104/150 | Timesteps: 1000 | t ∈ [0,1000):   0%|          | 0/79 [00:00<?, ?it/s]"
      ]
     },
     "metadata": {},
     "output_type": "display_data"
    },
    {
     "name": "stdout",
     "output_type": "stream",
     "text": [
      "🔁 Epoch 104 terminé — Moyenne loss : 0.0331\n"
     ]
    },
    {
     "data": {
      "application/vnd.jupyter.widget-view+json": {
       "model_id": "3db4e032fadf4a66a564a0d03bc138fb",
       "version_major": 2,
       "version_minor": 0
      },
      "text/plain": [
       "Epoch 105/150 | Timesteps: 1000 | t ∈ [0,1000):   0%|          | 0/79 [00:00<?, ?it/s]"
      ]
     },
     "metadata": {},
     "output_type": "display_data"
    },
    {
     "name": "stdout",
     "output_type": "stream",
     "text": [
      "🔁 Epoch 105 terminé — Moyenne loss : 0.0353\n",
      "📸 Échantillons + modèle sauvegardés (epoch 105) dans results\n"
     ]
    },
    {
     "data": {
      "application/vnd.jupyter.widget-view+json": {
       "model_id": "5c61a10eb7fe46b8aa52ea238a245108",
       "version_major": 2,
       "version_minor": 0
      },
      "text/plain": [
       "Epoch 106/150 | Timesteps: 1000 | t ∈ [0,1000):   0%|          | 0/79 [00:00<?, ?it/s]"
      ]
     },
     "metadata": {},
     "output_type": "display_data"
    },
    {
     "name": "stdout",
     "output_type": "stream",
     "text": [
      "🔁 Epoch 106 terminé — Moyenne loss : 0.0744\n"
     ]
    },
    {
     "data": {
      "application/vnd.jupyter.widget-view+json": {
       "model_id": "01ff0bde1bb94c77b4a2b0dbc6f7d49e",
       "version_major": 2,
       "version_minor": 0
      },
      "text/plain": [
       "Epoch 107/150 | Timesteps: 1000 | t ∈ [0,1000):   0%|          | 0/79 [00:00<?, ?it/s]"
      ]
     },
     "metadata": {},
     "output_type": "display_data"
    },
    {
     "name": "stdout",
     "output_type": "stream",
     "text": [
      "🔁 Epoch 107 terminé — Moyenne loss : 0.0572\n"
     ]
    },
    {
     "data": {
      "application/vnd.jupyter.widget-view+json": {
       "model_id": "9aad7acca5fd470da71a450eb461da51",
       "version_major": 2,
       "version_minor": 0
      },
      "text/plain": [
       "Epoch 108/150 | Timesteps: 1000 | t ∈ [0,1000):   0%|          | 0/79 [00:00<?, ?it/s]"
      ]
     },
     "metadata": {},
     "output_type": "display_data"
    },
    {
     "name": "stdout",
     "output_type": "stream",
     "text": [
      "🔁 Epoch 108 terminé — Moyenne loss : 0.0356\n"
     ]
    },
    {
     "data": {
      "application/vnd.jupyter.widget-view+json": {
       "model_id": "491ba85bfed24e76a16e4bc6eebf76fa",
       "version_major": 2,
       "version_minor": 0
      },
      "text/plain": [
       "Epoch 109/150 | Timesteps: 1000 | t ∈ [0,1000):   0%|          | 0/79 [00:00<?, ?it/s]"
      ]
     },
     "metadata": {},
     "output_type": "display_data"
    },
    {
     "name": "stdout",
     "output_type": "stream",
     "text": [
      "🔁 Epoch 109 terminé — Moyenne loss : 0.0355\n"
     ]
    },
    {
     "data": {
      "application/vnd.jupyter.widget-view+json": {
       "model_id": "4b4434d4c19046de8c603ced41caec5c",
       "version_major": 2,
       "version_minor": 0
      },
      "text/plain": [
       "Epoch 110/150 | Timesteps: 1000 | t ∈ [0,1000):   0%|          | 0/79 [00:00<?, ?it/s]"
      ]
     },
     "metadata": {},
     "output_type": "display_data"
    },
    {
     "name": "stdout",
     "output_type": "stream",
     "text": [
      "🔁 Epoch 110 terminé — Moyenne loss : 0.0329\n",
      "📸 Échantillons + modèle sauvegardés (epoch 110) dans results\n"
     ]
    },
    {
     "data": {
      "application/vnd.jupyter.widget-view+json": {
       "model_id": "604d938145314338a42ebea9fc2bf405",
       "version_major": 2,
       "version_minor": 0
      },
      "text/plain": [
       "Epoch 111/150 | Timesteps: 1000 | t ∈ [0,1000):   0%|          | 0/79 [00:00<?, ?it/s]"
      ]
     },
     "metadata": {},
     "output_type": "display_data"
    },
    {
     "name": "stdout",
     "output_type": "stream",
     "text": [
      "🔁 Epoch 111 terminé — Moyenne loss : 0.0321\n"
     ]
    },
    {
     "data": {
      "application/vnd.jupyter.widget-view+json": {
       "model_id": "2d5c3cf71dee4cec80875633a3764c1a",
       "version_major": 2,
       "version_minor": 0
      },
      "text/plain": [
       "Epoch 112/150 | Timesteps: 1000 | t ∈ [0,1000):   0%|          | 0/79 [00:00<?, ?it/s]"
      ]
     },
     "metadata": {},
     "output_type": "display_data"
    },
    {
     "name": "stdout",
     "output_type": "stream",
     "text": [
      "🔁 Epoch 112 terminé — Moyenne loss : 0.0324\n"
     ]
    },
    {
     "data": {
      "application/vnd.jupyter.widget-view+json": {
       "model_id": "1e0467e7626c43db9c82a910b937bbd6",
       "version_major": 2,
       "version_minor": 0
      },
      "text/plain": [
       "Epoch 113/150 | Timesteps: 1000 | t ∈ [0,1000):   0%|          | 0/79 [00:00<?, ?it/s]"
      ]
     },
     "metadata": {},
     "output_type": "display_data"
    },
    {
     "name": "stdout",
     "output_type": "stream",
     "text": [
      "🔁 Epoch 113 terminé — Moyenne loss : 0.0350\n"
     ]
    },
    {
     "data": {
      "application/vnd.jupyter.widget-view+json": {
       "model_id": "64e1a3a708f44fc8a42ce71cbf945d25",
       "version_major": 2,
       "version_minor": 0
      },
      "text/plain": [
       "Epoch 114/150 | Timesteps: 1000 | t ∈ [0,1000):   0%|          | 0/79 [00:00<?, ?it/s]"
      ]
     },
     "metadata": {},
     "output_type": "display_data"
    },
    {
     "name": "stdout",
     "output_type": "stream",
     "text": [
      "🔁 Epoch 114 terminé — Moyenne loss : 0.0320\n"
     ]
    },
    {
     "data": {
      "application/vnd.jupyter.widget-view+json": {
       "model_id": "3d888be9cb0d4892a2a76be835a7d806",
       "version_major": 2,
       "version_minor": 0
      },
      "text/plain": [
       "Epoch 115/150 | Timesteps: 1000 | t ∈ [0,1000):   0%|          | 0/79 [00:00<?, ?it/s]"
      ]
     },
     "metadata": {},
     "output_type": "display_data"
    },
    {
     "name": "stdout",
     "output_type": "stream",
     "text": [
      "🔁 Epoch 115 terminé — Moyenne loss : 0.0343\n",
      "📸 Échantillons + modèle sauvegardés (epoch 115) dans results\n"
     ]
    },
    {
     "data": {
      "application/vnd.jupyter.widget-view+json": {
       "model_id": "9db74c6380e1418e997b39806a74a091",
       "version_major": 2,
       "version_minor": 0
      },
      "text/plain": [
       "Epoch 116/150 | Timesteps: 1000 | t ∈ [0,1000):   0%|          | 0/79 [00:00<?, ?it/s]"
      ]
     },
     "metadata": {},
     "output_type": "display_data"
    },
    {
     "name": "stdout",
     "output_type": "stream",
     "text": [
      "🔁 Epoch 116 terminé — Moyenne loss : 0.0325\n"
     ]
    },
    {
     "data": {
      "application/vnd.jupyter.widget-view+json": {
       "model_id": "23c8a16b2f1e4f5aa8448fc0ceb9b5eb",
       "version_major": 2,
       "version_minor": 0
      },
      "text/plain": [
       "Epoch 117/150 | Timesteps: 1000 | t ∈ [0,1000):   0%|          | 0/79 [00:00<?, ?it/s]"
      ]
     },
     "metadata": {},
     "output_type": "display_data"
    },
    {
     "name": "stdout",
     "output_type": "stream",
     "text": [
      "🔁 Epoch 117 terminé — Moyenne loss : 0.0330\n"
     ]
    },
    {
     "data": {
      "application/vnd.jupyter.widget-view+json": {
       "model_id": "ad1c73740a0e4c3ba8d95e14ee9be064",
       "version_major": 2,
       "version_minor": 0
      },
      "text/plain": [
       "Epoch 118/150 | Timesteps: 1000 | t ∈ [0,1000):   0%|          | 0/79 [00:00<?, ?it/s]"
      ]
     },
     "metadata": {},
     "output_type": "display_data"
    },
    {
     "name": "stdout",
     "output_type": "stream",
     "text": [
      "🔁 Epoch 118 terminé — Moyenne loss : 0.0325\n"
     ]
    },
    {
     "data": {
      "application/vnd.jupyter.widget-view+json": {
       "model_id": "58ae4238f6be40cea93b2fa660e8066f",
       "version_major": 2,
       "version_minor": 0
      },
      "text/plain": [
       "Epoch 119/150 | Timesteps: 1000 | t ∈ [0,1000):   0%|          | 0/79 [00:00<?, ?it/s]"
      ]
     },
     "metadata": {},
     "output_type": "display_data"
    },
    {
     "name": "stdout",
     "output_type": "stream",
     "text": [
      "🔁 Epoch 119 terminé — Moyenne loss : 0.0321\n"
     ]
    },
    {
     "data": {
      "application/vnd.jupyter.widget-view+json": {
       "model_id": "7b34741d03b54d4e826de578411b7d7f",
       "version_major": 2,
       "version_minor": 0
      },
      "text/plain": [
       "Epoch 120/150 | Timesteps: 1000 | t ∈ [0,1000):   0%|          | 0/79 [00:00<?, ?it/s]"
      ]
     },
     "metadata": {},
     "output_type": "display_data"
    },
    {
     "name": "stdout",
     "output_type": "stream",
     "text": [
      "🔁 Epoch 120 terminé — Moyenne loss : 0.0359\n",
      "📸 Échantillons + modèle sauvegardés (epoch 120) dans results\n"
     ]
    },
    {
     "data": {
      "application/vnd.jupyter.widget-view+json": {
       "model_id": "2701f4ce469d4e0f9523ad25879c0f46",
       "version_major": 2,
       "version_minor": 0
      },
      "text/plain": [
       "Epoch 121/150 | Timesteps: 1000 | t ∈ [0,1000):   0%|          | 0/79 [00:00<?, ?it/s]"
      ]
     },
     "metadata": {},
     "output_type": "display_data"
    },
    {
     "name": "stdout",
     "output_type": "stream",
     "text": [
      "🔁 Epoch 121 terminé — Moyenne loss : 0.0513\n"
     ]
    },
    {
     "data": {
      "application/vnd.jupyter.widget-view+json": {
       "model_id": "80743ced37194c74a31fd773b84d22c8",
       "version_major": 2,
       "version_minor": 0
      },
      "text/plain": [
       "Epoch 122/150 | Timesteps: 1000 | t ∈ [0,1000):   0%|          | 0/79 [00:00<?, ?it/s]"
      ]
     },
     "metadata": {},
     "output_type": "display_data"
    },
    {
     "name": "stdout",
     "output_type": "stream",
     "text": [
      "🔁 Epoch 122 terminé — Moyenne loss : 495236.1278\n"
     ]
    },
    {
     "data": {
      "application/vnd.jupyter.widget-view+json": {
       "model_id": "21bb79b9f47a4eb6be94e46a4c9c0d1f",
       "version_major": 2,
       "version_minor": 0
      },
      "text/plain": [
       "Epoch 123/150 | Timesteps: 1000 | t ∈ [0,1000):   0%|          | 0/79 [00:00<?, ?it/s]"
      ]
     },
     "metadata": {},
     "output_type": "display_data"
    },
    {
     "name": "stdout",
     "output_type": "stream",
     "text": [
      "🔁 Epoch 123 terminé — Moyenne loss : 23324.8529\n"
     ]
    },
    {
     "data": {
      "application/vnd.jupyter.widget-view+json": {
       "model_id": "2bb4a9e8d82e4049b4e3d9c3a1c3e0e5",
       "version_major": 2,
       "version_minor": 0
      },
      "text/plain": [
       "Epoch 124/150 | Timesteps: 1000 | t ∈ [0,1000):   0%|          | 0/79 [00:00<?, ?it/s]"
      ]
     },
     "metadata": {},
     "output_type": "display_data"
    },
    {
     "name": "stdout",
     "output_type": "stream",
     "text": [
      "🔁 Epoch 124 terminé — Moyenne loss : 4.0262\n"
     ]
    },
    {
     "data": {
      "application/vnd.jupyter.widget-view+json": {
       "model_id": "acf980dcf901418b9b33428de287b6a4",
       "version_major": 2,
       "version_minor": 0
      },
      "text/plain": [
       "Epoch 125/150 | Timesteps: 1000 | t ∈ [0,1000):   0%|          | 0/79 [00:00<?, ?it/s]"
      ]
     },
     "metadata": {},
     "output_type": "display_data"
    },
    {
     "name": "stdout",
     "output_type": "stream",
     "text": [
      "🔁 Epoch 125 terminé — Moyenne loss : 4.3499\n",
      "📸 Échantillons + modèle sauvegardés (epoch 125) dans results\n"
     ]
    },
    {
     "data": {
      "application/vnd.jupyter.widget-view+json": {
       "model_id": "4bf43502551946ecb8043ff219a3a4ac",
       "version_major": 2,
       "version_minor": 0
      },
      "text/plain": [
       "Epoch 126/150 | Timesteps: 1000 | t ∈ [0,1000):   0%|          | 0/79 [00:00<?, ?it/s]"
      ]
     },
     "metadata": {},
     "output_type": "display_data"
    },
    {
     "name": "stdout",
     "output_type": "stream",
     "text": [
      "🔁 Epoch 126 terminé — Moyenne loss : 0.0617\n"
     ]
    },
    {
     "data": {
      "application/vnd.jupyter.widget-view+json": {
       "model_id": "501d5fe54b0c4c81a8e24cd620827bfd",
       "version_major": 2,
       "version_minor": 0
      },
      "text/plain": [
       "Epoch 127/150 | Timesteps: 1000 | t ∈ [0,1000):   0%|          | 0/79 [00:00<?, ?it/s]"
      ]
     },
     "metadata": {},
     "output_type": "display_data"
    },
    {
     "name": "stdout",
     "output_type": "stream",
     "text": [
      "🔁 Epoch 127 terminé — Moyenne loss : 0.0478\n"
     ]
    },
    {
     "data": {
      "application/vnd.jupyter.widget-view+json": {
       "model_id": "325c44fb7cfa4aadac52bde26a4ba219",
       "version_major": 2,
       "version_minor": 0
      },
      "text/plain": [
       "Epoch 128/150 | Timesteps: 1000 | t ∈ [0,1000):   0%|          | 0/79 [00:00<?, ?it/s]"
      ]
     },
     "metadata": {},
     "output_type": "display_data"
    },
    {
     "name": "stdout",
     "output_type": "stream",
     "text": [
      "🔁 Epoch 128 terminé — Moyenne loss : 0.0471\n"
     ]
    },
    {
     "data": {
      "application/vnd.jupyter.widget-view+json": {
       "model_id": "909f028e3e7340dc8746ad40528d846d",
       "version_major": 2,
       "version_minor": 0
      },
      "text/plain": [
       "Epoch 129/150 | Timesteps: 1000 | t ∈ [0,1000):   0%|          | 0/79 [00:00<?, ?it/s]"
      ]
     },
     "metadata": {},
     "output_type": "display_data"
    },
    {
     "name": "stdout",
     "output_type": "stream",
     "text": [
      "🔁 Epoch 129 terminé — Moyenne loss : 0.0442\n"
     ]
    },
    {
     "data": {
      "application/vnd.jupyter.widget-view+json": {
       "model_id": "343ecc0dae124657911ef3d7f96d44df",
       "version_major": 2,
       "version_minor": 0
      },
      "text/plain": [
       "Epoch 130/150 | Timesteps: 1000 | t ∈ [0,1000):   0%|          | 0/79 [00:00<?, ?it/s]"
      ]
     },
     "metadata": {},
     "output_type": "display_data"
    },
    {
     "name": "stdout",
     "output_type": "stream",
     "text": [
      "🔁 Epoch 130 terminé — Moyenne loss : 0.0451\n",
      "📸 Échantillons + modèle sauvegardés (epoch 130) dans results\n"
     ]
    },
    {
     "data": {
      "application/vnd.jupyter.widget-view+json": {
       "model_id": "9f508d4fa9f74dd49b6b5cefd02f527a",
       "version_major": 2,
       "version_minor": 0
      },
      "text/plain": [
       "Epoch 131/150 | Timesteps: 1000 | t ∈ [0,1000):   0%|          | 0/79 [00:00<?, ?it/s]"
      ]
     },
     "metadata": {},
     "output_type": "display_data"
    },
    {
     "name": "stdout",
     "output_type": "stream",
     "text": [
      "🔁 Epoch 131 terminé — Moyenne loss : 0.0421\n"
     ]
    },
    {
     "data": {
      "application/vnd.jupyter.widget-view+json": {
       "model_id": "9e712642841c41a4a490b4ed85a31740",
       "version_major": 2,
       "version_minor": 0
      },
      "text/plain": [
       "Epoch 132/150 | Timesteps: 1000 | t ∈ [0,1000):   0%|          | 0/79 [00:00<?, ?it/s]"
      ]
     },
     "metadata": {},
     "output_type": "display_data"
    },
    {
     "name": "stdout",
     "output_type": "stream",
     "text": [
      "🔁 Epoch 132 terminé — Moyenne loss : 0.0434\n"
     ]
    },
    {
     "data": {
      "application/vnd.jupyter.widget-view+json": {
       "model_id": "1220b84ca2cd4302846286de2e081bd5",
       "version_major": 2,
       "version_minor": 0
      },
      "text/plain": [
       "Epoch 133/150 | Timesteps: 1000 | t ∈ [0,1000):   0%|          | 0/79 [00:00<?, ?it/s]"
      ]
     },
     "metadata": {},
     "output_type": "display_data"
    },
    {
     "name": "stdout",
     "output_type": "stream",
     "text": [
      "🔁 Epoch 133 terminé — Moyenne loss : 0.0394\n"
     ]
    },
    {
     "data": {
      "application/vnd.jupyter.widget-view+json": {
       "model_id": "e2d18267396b4ad99b137b8a4510197a",
       "version_major": 2,
       "version_minor": 0
      },
      "text/plain": [
       "Epoch 134/150 | Timesteps: 1000 | t ∈ [0,1000):   0%|          | 0/79 [00:00<?, ?it/s]"
      ]
     },
     "metadata": {},
     "output_type": "display_data"
    },
    {
     "name": "stdout",
     "output_type": "stream",
     "text": [
      "🔁 Epoch 134 terminé — Moyenne loss : 0.0414\n"
     ]
    },
    {
     "data": {
      "application/vnd.jupyter.widget-view+json": {
       "model_id": "ebdb05642f5d4715961f48036235c3d0",
       "version_major": 2,
       "version_minor": 0
      },
      "text/plain": [
       "Epoch 135/150 | Timesteps: 1000 | t ∈ [0,1000):   0%|          | 0/79 [00:00<?, ?it/s]"
      ]
     },
     "metadata": {},
     "output_type": "display_data"
    },
    {
     "name": "stdout",
     "output_type": "stream",
     "text": [
      "🔁 Epoch 135 terminé — Moyenne loss : 0.0376\n",
      "📸 Échantillons + modèle sauvegardés (epoch 135) dans results\n"
     ]
    },
    {
     "data": {
      "application/vnd.jupyter.widget-view+json": {
       "model_id": "efb9248bc5f24e528fe9d6f93aa4c148",
       "version_major": 2,
       "version_minor": 0
      },
      "text/plain": [
       "Epoch 136/150 | Timesteps: 1000 | t ∈ [0,1000):   0%|          | 0/79 [00:00<?, ?it/s]"
      ]
     },
     "metadata": {},
     "output_type": "display_data"
    },
    {
     "name": "stdout",
     "output_type": "stream",
     "text": [
      "🔁 Epoch 136 terminé — Moyenne loss : 0.0371\n"
     ]
    },
    {
     "data": {
      "application/vnd.jupyter.widget-view+json": {
       "model_id": "ecfb4f7ce10341ae982b7cd706083449",
       "version_major": 2,
       "version_minor": 0
      },
      "text/plain": [
       "Epoch 137/150 | Timesteps: 1000 | t ∈ [0,1000):   0%|          | 0/79 [00:00<?, ?it/s]"
      ]
     },
     "metadata": {},
     "output_type": "display_data"
    },
    {
     "name": "stdout",
     "output_type": "stream",
     "text": [
      "🔁 Epoch 137 terminé — Moyenne loss : 0.0370\n"
     ]
    },
    {
     "data": {
      "application/vnd.jupyter.widget-view+json": {
       "model_id": "572bf8779ed34f669e15d8d470100fc3",
       "version_major": 2,
       "version_minor": 0
      },
      "text/plain": [
       "Epoch 138/150 | Timesteps: 1000 | t ∈ [0,1000):   0%|          | 0/79 [00:00<?, ?it/s]"
      ]
     },
     "metadata": {},
     "output_type": "display_data"
    },
    {
     "name": "stdout",
     "output_type": "stream",
     "text": [
      "🔁 Epoch 138 terminé — Moyenne loss : 0.0362\n"
     ]
    },
    {
     "data": {
      "application/vnd.jupyter.widget-view+json": {
       "model_id": "b9aa5cef5fc04a348dd73dbd042e4763",
       "version_major": 2,
       "version_minor": 0
      },
      "text/plain": [
       "Epoch 139/150 | Timesteps: 1000 | t ∈ [0,1000):   0%|          | 0/79 [00:00<?, ?it/s]"
      ]
     },
     "metadata": {},
     "output_type": "display_data"
    },
    {
     "name": "stdout",
     "output_type": "stream",
     "text": [
      "🔁 Epoch 139 terminé — Moyenne loss : 0.0374\n"
     ]
    },
    {
     "data": {
      "application/vnd.jupyter.widget-view+json": {
       "model_id": "b444487e62cf4b0b9d05561131158be1",
       "version_major": 2,
       "version_minor": 0
      },
      "text/plain": [
       "Epoch 140/150 | Timesteps: 1000 | t ∈ [0,1000):   0%|          | 0/79 [00:00<?, ?it/s]"
      ]
     },
     "metadata": {},
     "output_type": "display_data"
    },
    {
     "name": "stdout",
     "output_type": "stream",
     "text": [
      "🔁 Epoch 140 terminé — Moyenne loss : 0.0339\n",
      "📸 Échantillons + modèle sauvegardés (epoch 140) dans results\n"
     ]
    },
    {
     "data": {
      "application/vnd.jupyter.widget-view+json": {
       "model_id": "547df32c53924ea99c0fafbf45afa5bd",
       "version_major": 2,
       "version_minor": 0
      },
      "text/plain": [
       "Epoch 141/150 | Timesteps: 1000 | t ∈ [0,1000):   0%|          | 0/79 [00:00<?, ?it/s]"
      ]
     },
     "metadata": {},
     "output_type": "display_data"
    },
    {
     "name": "stdout",
     "output_type": "stream",
     "text": [
      "🔁 Epoch 141 terminé — Moyenne loss : 0.0383\n"
     ]
    },
    {
     "data": {
      "application/vnd.jupyter.widget-view+json": {
       "model_id": "5161af16564d4c809c535c2d5923b9c7",
       "version_major": 2,
       "version_minor": 0
      },
      "text/plain": [
       "Epoch 142/150 | Timesteps: 1000 | t ∈ [0,1000):   0%|          | 0/79 [00:00<?, ?it/s]"
      ]
     },
     "metadata": {},
     "output_type": "display_data"
    },
    {
     "name": "stdout",
     "output_type": "stream",
     "text": [
      "🔁 Epoch 142 terminé — Moyenne loss : 0.0348\n"
     ]
    },
    {
     "data": {
      "application/vnd.jupyter.widget-view+json": {
       "model_id": "a875bde140494df595bf1ae8d700b44b",
       "version_major": 2,
       "version_minor": 0
      },
      "text/plain": [
       "Epoch 143/150 | Timesteps: 1000 | t ∈ [0,1000):   0%|          | 0/79 [00:00<?, ?it/s]"
      ]
     },
     "metadata": {},
     "output_type": "display_data"
    },
    {
     "name": "stdout",
     "output_type": "stream",
     "text": [
      "🔁 Epoch 143 terminé — Moyenne loss : 0.0346\n"
     ]
    },
    {
     "data": {
      "application/vnd.jupyter.widget-view+json": {
       "model_id": "fe71a852da2e410eb7307c2743ba25b7",
       "version_major": 2,
       "version_minor": 0
      },
      "text/plain": [
       "Epoch 144/150 | Timesteps: 1000 | t ∈ [0,1000):   0%|          | 0/79 [00:00<?, ?it/s]"
      ]
     },
     "metadata": {},
     "output_type": "display_data"
    },
    {
     "name": "stdout",
     "output_type": "stream",
     "text": [
      "🔁 Epoch 144 terminé — Moyenne loss : 0.0357\n"
     ]
    },
    {
     "data": {
      "application/vnd.jupyter.widget-view+json": {
       "model_id": "1513b5ae20be45e785d23541d5830e3f",
       "version_major": 2,
       "version_minor": 0
      },
      "text/plain": [
       "Epoch 145/150 | Timesteps: 1000 | t ∈ [0,1000):   0%|          | 0/79 [00:00<?, ?it/s]"
      ]
     },
     "metadata": {},
     "output_type": "display_data"
    },
    {
     "name": "stdout",
     "output_type": "stream",
     "text": [
      "🔁 Epoch 145 terminé — Moyenne loss : 0.0362\n",
      "📸 Échantillons + modèle sauvegardés (epoch 145) dans results\n"
     ]
    },
    {
     "data": {
      "application/vnd.jupyter.widget-view+json": {
       "model_id": "a68620ffb6d64c9aa37a281c68a23b34",
       "version_major": 2,
       "version_minor": 0
      },
      "text/plain": [
       "Epoch 146/150 | Timesteps: 1000 | t ∈ [0,1000):   0%|          | 0/79 [00:00<?, ?it/s]"
      ]
     },
     "metadata": {},
     "output_type": "display_data"
    },
    {
     "name": "stdout",
     "output_type": "stream",
     "text": [
      "🔁 Epoch 146 terminé — Moyenne loss : 0.0361\n"
     ]
    },
    {
     "data": {
      "application/vnd.jupyter.widget-view+json": {
       "model_id": "2d7543da81884b5b922629cdecd276fd",
       "version_major": 2,
       "version_minor": 0
      },
      "text/plain": [
       "Epoch 147/150 | Timesteps: 1000 | t ∈ [0,1000):   0%|          | 0/79 [00:00<?, ?it/s]"
      ]
     },
     "metadata": {},
     "output_type": "display_data"
    },
    {
     "name": "stdout",
     "output_type": "stream",
     "text": [
      "🔁 Epoch 147 terminé — Moyenne loss : 0.0357\n"
     ]
    },
    {
     "data": {
      "application/vnd.jupyter.widget-view+json": {
       "model_id": "cabfe44917c24729b3d4d7bec9e4175d",
       "version_major": 2,
       "version_minor": 0
      },
      "text/plain": [
       "Epoch 148/150 | Timesteps: 1000 | t ∈ [0,1000):   0%|          | 0/79 [00:00<?, ?it/s]"
      ]
     },
     "metadata": {},
     "output_type": "display_data"
    },
    {
     "name": "stdout",
     "output_type": "stream",
     "text": [
      "🔁 Epoch 148 terminé — Moyenne loss : 0.0359\n"
     ]
    },
    {
     "data": {
      "application/vnd.jupyter.widget-view+json": {
       "model_id": "dfbff9ae5ceb4504979af57221e7b679",
       "version_major": 2,
       "version_minor": 0
      },
      "text/plain": [
       "Epoch 149/150 | Timesteps: 1000 | t ∈ [0,1000):   0%|          | 0/79 [00:00<?, ?it/s]"
      ]
     },
     "metadata": {},
     "output_type": "display_data"
    },
    {
     "name": "stdout",
     "output_type": "stream",
     "text": [
      "🔁 Epoch 149 terminé — Moyenne loss : 0.0366\n"
     ]
    },
    {
     "data": {
      "application/vnd.jupyter.widget-view+json": {
       "model_id": "a4b080f6f91a4446af71dbde8e460013",
       "version_major": 2,
       "version_minor": 0
      },
      "text/plain": [
       "Epoch 150/150 | Timesteps: 1000 | t ∈ [0,1000):   0%|          | 0/79 [00:00<?, ?it/s]"
      ]
     },
     "metadata": {},
     "output_type": "display_data"
    },
    {
     "name": "stdout",
     "output_type": "stream",
     "text": [
      "🔁 Epoch 150 terminé — Moyenne loss : 0.0347\n",
      "📸 Échantillons + modèle sauvegardés (epoch 150) dans results\n"
     ]
    }
   ],
   "source": [
    "from tqdm.notebook import tqdm\n",
    "import torch.nn.utils\n",
    "\n",
    "# ⚙️ Paramètres\n",
    "start_epoch = 100\n",
    "epochs = 150\n",
    "timestep_final = 1000\n",
    "lr = 2e-4\n",
    "losses = []\n",
    "\n",
    "current_max_sample_t = 1000\n",
    "\n",
    "\n",
    "# ✅ Recharger modèle depuis epoch 100\n",
    "model = UNetConditional(in_channels=3, base_channels=64, time_emb_dim=256, class_emb_dim=128, num_classes=num_classes).to(device)\n",
    "model.load_state_dict(torch.load(\"model_epoch_100.pt\", map_location=device))\n",
    "print(\"✅ Modèle chargé depuis model_epoch_100.pt\")\n",
    "\n",
    "# 🌀 Diffusion avec T=1000\n",
    "diffusion = GaussianDiffusion(model, timesteps=timestep_final, device=device)\n",
    "\n",
    "# Optimiseur\n",
    "optimizer = torch.optim.Adam(model.parameters(), lr=lr)\n",
    "\n",
    "# 🔁 Boucle d'entraînement\n",
    "for epoch in range(start_epoch, epochs + 1):\n",
    "    model.train()\n",
    "    epoch_losses = []\n",
    "\n",
    "    loop = tqdm(dataloader, desc=f\"Epoch {epoch}/{epochs} | Timesteps: {diffusion.timesteps} | t ∈ [0,{current_max_sample_t})\")\n",
    "\n",
    "    for x, y in loop:\n",
    "        x, y = x.to(device), y.to(device)\n",
    "        t = torch.randint(0, current_max_sample_t, (x.size(0),), device=device).long()\n",
    "        noise = torch.randn_like(x)\n",
    "        x_t = diffusion.q_sample(x, t, noise)\n",
    "\n",
    "        noise_pred = model(x_t, t, y)\n",
    "        loss = F.mse_loss(noise_pred, noise)\n",
    "\n",
    "        optimizer.zero_grad()\n",
    "        loss.backward()\n",
    "        torch.nn.utils.clip_grad_norm_(model.parameters(), max_norm=1.0)  # stabilisation\n",
    "        optimizer.step()\n",
    "\n",
    "        loop.set_postfix(loss=loss.item())\n",
    "        epoch_losses.append(loss.item())\n",
    "        losses.append(loss.item())  # utile pour ta courbe\n",
    "\n",
    "    avg_loss = sum(epoch_losses) / len(epoch_losses)\n",
    "    print(f\"🔁 Epoch {epoch} terminé — Moyenne loss : {avg_loss:.4f}\")\n",
    "\n",
    "    # 🖼️ Échantillons & modèle\n",
    "    if epoch % 5 == 0:\n",
    "        model.eval()\n",
    "        with torch.no_grad():\n",
    "            y_sample = torch.tensor([0] * 16, device=device)\n",
    "            samples = diffusion.sample(batch_size=16, image_size=image_size, y=y_sample)\n",
    "            save_sample_grid(samples, os.path.join(save_dir, f\"sample_epoch_{epoch}.png\"), nrow=4)\n",
    "            torch.save(model.state_dict(), os.path.join(save_dir, f\"model_epoch_{epoch}.pt\"))\n",
    "            print(f\"📸 Échantillons + modèle sauvegardés (epoch {epoch}) dans {save_dir}\")\n",
    "\n"
   ]
  },
  {
   "cell_type": "code",
   "execution_count": 8,
   "metadata": {},
   "outputs": [
    {
     "name": "stdout",
     "output_type": "stream",
     "text": [
      "Modèle rechargé depuis model_epoch_110.pt\n",
      "🔧 Diffusion mise à jour : 1000 étapes\n"
     ]
    },
    {
     "data": {
      "application/vnd.jupyter.widget-view+json": {
       "model_id": "47a197c813cf4b8e9b5f4eb252b2e4db",
       "version_major": 2,
       "version_minor": 0
      },
      "text/plain": [
       "Epoch 111/150 | Finetune | t ∈ [0,1000):   0%|          | 0/79 [00:00<?, ?it/s]"
      ]
     },
     "metadata": {},
     "output_type": "display_data"
    },
    {
     "name": "stdout",
     "output_type": "stream",
     "text": [
      "🔁 Epoch 111 terminé — Moyenne loss : 0.0362\n"
     ]
    },
    {
     "data": {
      "application/vnd.jupyter.widget-view+json": {
       "model_id": "ed3e134788d24367b5d2020b98d4f50d",
       "version_major": 2,
       "version_minor": 0
      },
      "text/plain": [
       "Epoch 112/150 | Finetune | t ∈ [0,1000):   0%|          | 0/79 [00:00<?, ?it/s]"
      ]
     },
     "metadata": {},
     "output_type": "display_data"
    },
    {
     "name": "stdout",
     "output_type": "stream",
     "text": [
      "🔁 Epoch 112 terminé — Moyenne loss : 0.0331\n"
     ]
    },
    {
     "data": {
      "application/vnd.jupyter.widget-view+json": {
       "model_id": "0973a94681774dc5b1cad4d3a69e6304",
       "version_major": 2,
       "version_minor": 0
      },
      "text/plain": [
       "Epoch 113/150 | Finetune | t ∈ [0,1000):   0%|          | 0/79 [00:00<?, ?it/s]"
      ]
     },
     "metadata": {},
     "output_type": "display_data"
    },
    {
     "name": "stdout",
     "output_type": "stream",
     "text": [
      "🔁 Epoch 113 terminé — Moyenne loss : 0.0324\n"
     ]
    },
    {
     "data": {
      "application/vnd.jupyter.widget-view+json": {
       "model_id": "bab62f7a9da84e13a5f0a29d1cea3eb7",
       "version_major": 2,
       "version_minor": 0
      },
      "text/plain": [
       "Epoch 114/150 | Finetune | t ∈ [0,1000):   0%|          | 0/79 [00:00<?, ?it/s]"
      ]
     },
     "metadata": {},
     "output_type": "display_data"
    },
    {
     "name": "stdout",
     "output_type": "stream",
     "text": [
      "🔁 Epoch 114 terminé — Moyenne loss : 0.0322\n"
     ]
    },
    {
     "data": {
      "application/vnd.jupyter.widget-view+json": {
       "model_id": "afdd84e71bc94263bd78f51e1fe220e0",
       "version_major": 2,
       "version_minor": 0
      },
      "text/plain": [
       "Epoch 115/150 | Finetune | t ∈ [0,1000):   0%|          | 0/79 [00:00<?, ?it/s]"
      ]
     },
     "metadata": {},
     "output_type": "display_data"
    },
    {
     "name": "stdout",
     "output_type": "stream",
     "text": [
      "🔁 Epoch 115 terminé — Moyenne loss : 0.0319\n",
      "📸 Sauvegarde modèle + échantillons (epoch 115) dans results\n"
     ]
    },
    {
     "data": {
      "application/vnd.jupyter.widget-view+json": {
       "model_id": "8f2d20e99c9f45199ec91743f0e79c1c",
       "version_major": 2,
       "version_minor": 0
      },
      "text/plain": [
       "Epoch 116/150 | Finetune | t ∈ [0,1000):   0%|          | 0/79 [00:00<?, ?it/s]"
      ]
     },
     "metadata": {},
     "output_type": "display_data"
    },
    {
     "name": "stdout",
     "output_type": "stream",
     "text": [
      "🔁 Epoch 116 terminé — Moyenne loss : 0.0313\n"
     ]
    },
    {
     "data": {
      "application/vnd.jupyter.widget-view+json": {
       "model_id": "d64c541c3c01473b87e1f8f2e1071c84",
       "version_major": 2,
       "version_minor": 0
      },
      "text/plain": [
       "Epoch 117/150 | Finetune | t ∈ [0,1000):   0%|          | 0/79 [00:00<?, ?it/s]"
      ]
     },
     "metadata": {},
     "output_type": "display_data"
    },
    {
     "name": "stdout",
     "output_type": "stream",
     "text": [
      "🔁 Epoch 117 terminé — Moyenne loss : 0.0298\n"
     ]
    },
    {
     "data": {
      "application/vnd.jupyter.widget-view+json": {
       "model_id": "3c85de497afd42a4ac5da5e5ee16db66",
       "version_major": 2,
       "version_minor": 0
      },
      "text/plain": [
       "Epoch 118/150 | Finetune | t ∈ [0,1000):   0%|          | 0/79 [00:00<?, ?it/s]"
      ]
     },
     "metadata": {},
     "output_type": "display_data"
    },
    {
     "name": "stdout",
     "output_type": "stream",
     "text": [
      "🔁 Epoch 118 terminé — Moyenne loss : 0.0319\n"
     ]
    },
    {
     "data": {
      "application/vnd.jupyter.widget-view+json": {
       "model_id": "38df6502c4384d3498831d3f114bae0d",
       "version_major": 2,
       "version_minor": 0
      },
      "text/plain": [
       "Epoch 119/150 | Finetune | t ∈ [0,1000):   0%|          | 0/79 [00:00<?, ?it/s]"
      ]
     },
     "metadata": {},
     "output_type": "display_data"
    },
    {
     "name": "stdout",
     "output_type": "stream",
     "text": [
      "🔁 Epoch 119 terminé — Moyenne loss : 0.0320\n"
     ]
    },
    {
     "data": {
      "application/vnd.jupyter.widget-view+json": {
       "model_id": "cb66f076544949d8bed51c8f2bce478f",
       "version_major": 2,
       "version_minor": 0
      },
      "text/plain": [
       "Epoch 120/150 | Finetune | t ∈ [0,1000):   0%|          | 0/79 [00:00<?, ?it/s]"
      ]
     },
     "metadata": {},
     "output_type": "display_data"
    },
    {
     "name": "stdout",
     "output_type": "stream",
     "text": [
      "🔁 Epoch 120 terminé — Moyenne loss : 0.0330\n",
      "📸 Sauvegarde modèle + échantillons (epoch 120) dans results\n"
     ]
    },
    {
     "data": {
      "application/vnd.jupyter.widget-view+json": {
       "model_id": "6ea2d941d17a44c39db9d5db94562a3c",
       "version_major": 2,
       "version_minor": 0
      },
      "text/plain": [
       "Epoch 121/150 | Finetune | t ∈ [0,1000):   0%|          | 0/79 [00:00<?, ?it/s]"
      ]
     },
     "metadata": {},
     "output_type": "display_data"
    },
    {
     "name": "stdout",
     "output_type": "stream",
     "text": [
      "🔁 Epoch 121 terminé — Moyenne loss : 0.0325\n"
     ]
    },
    {
     "data": {
      "application/vnd.jupyter.widget-view+json": {
       "model_id": "35d3537379a44107b1eea1e90d33c2c2",
       "version_major": 2,
       "version_minor": 0
      },
      "text/plain": [
       "Epoch 122/150 | Finetune | t ∈ [0,1000):   0%|          | 0/79 [00:00<?, ?it/s]"
      ]
     },
     "metadata": {},
     "output_type": "display_data"
    },
    {
     "name": "stdout",
     "output_type": "stream",
     "text": [
      "🔁 Epoch 122 terminé — Moyenne loss : 0.0331\n"
     ]
    },
    {
     "data": {
      "application/vnd.jupyter.widget-view+json": {
       "model_id": "7baa1f3b87a24eae9510090d2f7c8d19",
       "version_major": 2,
       "version_minor": 0
      },
      "text/plain": [
       "Epoch 123/150 | Finetune | t ∈ [0,1000):   0%|          | 0/79 [00:00<?, ?it/s]"
      ]
     },
     "metadata": {},
     "output_type": "display_data"
    },
    {
     "name": "stdout",
     "output_type": "stream",
     "text": [
      "🔁 Epoch 123 terminé — Moyenne loss : 0.0326\n"
     ]
    },
    {
     "data": {
      "application/vnd.jupyter.widget-view+json": {
       "model_id": "b606f5aac72a42c59cc02220e242614f",
       "version_major": 2,
       "version_minor": 0
      },
      "text/plain": [
       "Epoch 124/150 | Finetune | t ∈ [0,1000):   0%|          | 0/79 [00:00<?, ?it/s]"
      ]
     },
     "metadata": {},
     "output_type": "display_data"
    },
    {
     "name": "stdout",
     "output_type": "stream",
     "text": [
      "🔁 Epoch 124 terminé — Moyenne loss : 0.0339\n"
     ]
    },
    {
     "data": {
      "application/vnd.jupyter.widget-view+json": {
       "model_id": "4049826a741241a19f73fb3404f380ba",
       "version_major": 2,
       "version_minor": 0
      },
      "text/plain": [
       "Epoch 125/150 | Finetune | t ∈ [0,1000):   0%|          | 0/79 [00:00<?, ?it/s]"
      ]
     },
     "metadata": {},
     "output_type": "display_data"
    },
    {
     "name": "stdout",
     "output_type": "stream",
     "text": [
      "🔁 Epoch 125 terminé — Moyenne loss : 0.0343\n",
      "📸 Sauvegarde modèle + échantillons (epoch 125) dans results\n"
     ]
    },
    {
     "data": {
      "application/vnd.jupyter.widget-view+json": {
       "model_id": "0d9542b569664bf6b6622f03fd3a6f25",
       "version_major": 2,
       "version_minor": 0
      },
      "text/plain": [
       "Epoch 126/150 | Finetune | t ∈ [0,1000):   0%|          | 0/79 [00:00<?, ?it/s]"
      ]
     },
     "metadata": {},
     "output_type": "display_data"
    },
    {
     "name": "stdout",
     "output_type": "stream",
     "text": [
      "🔁 Epoch 126 terminé — Moyenne loss : 0.0325\n"
     ]
    },
    {
     "data": {
      "application/vnd.jupyter.widget-view+json": {
       "model_id": "8e5fdd3fe26245e399b35c79bd9698c5",
       "version_major": 2,
       "version_minor": 0
      },
      "text/plain": [
       "Epoch 127/150 | Finetune | t ∈ [0,1000):   0%|          | 0/79 [00:00<?, ?it/s]"
      ]
     },
     "metadata": {},
     "output_type": "display_data"
    },
    {
     "name": "stdout",
     "output_type": "stream",
     "text": [
      "🔁 Epoch 127 terminé — Moyenne loss : 0.0318\n"
     ]
    },
    {
     "data": {
      "application/vnd.jupyter.widget-view+json": {
       "model_id": "b2855ee6bd974444a8d7846a42d8c52b",
       "version_major": 2,
       "version_minor": 0
      },
      "text/plain": [
       "Epoch 128/150 | Finetune | t ∈ [0,1000):   0%|          | 0/79 [00:00<?, ?it/s]"
      ]
     },
     "metadata": {},
     "output_type": "display_data"
    },
    {
     "name": "stdout",
     "output_type": "stream",
     "text": [
      "🔁 Epoch 128 terminé — Moyenne loss : 0.0320\n"
     ]
    },
    {
     "data": {
      "application/vnd.jupyter.widget-view+json": {
       "model_id": "4907d78d53604a5698fe0b2756adbb47",
       "version_major": 2,
       "version_minor": 0
      },
      "text/plain": [
       "Epoch 129/150 | Finetune | t ∈ [0,1000):   0%|          | 0/79 [00:00<?, ?it/s]"
      ]
     },
     "metadata": {},
     "output_type": "display_data"
    },
    {
     "name": "stdout",
     "output_type": "stream",
     "text": [
      "🔁 Epoch 129 terminé — Moyenne loss : 0.0324\n"
     ]
    },
    {
     "data": {
      "application/vnd.jupyter.widget-view+json": {
       "model_id": "7d70686f6a5c4dcb93d2b40781834e44",
       "version_major": 2,
       "version_minor": 0
      },
      "text/plain": [
       "Epoch 130/150 | Finetune | t ∈ [0,1000):   0%|          | 0/79 [00:00<?, ?it/s]"
      ]
     },
     "metadata": {},
     "output_type": "display_data"
    },
    {
     "name": "stdout",
     "output_type": "stream",
     "text": [
      "🔁 Epoch 130 terminé — Moyenne loss : 0.0327\n",
      "📸 Sauvegarde modèle + échantillons (epoch 130) dans results\n"
     ]
    },
    {
     "data": {
      "application/vnd.jupyter.widget-view+json": {
       "model_id": "be0a87bae0e8438f84ba6aa8eca34fdd",
       "version_major": 2,
       "version_minor": 0
      },
      "text/plain": [
       "Epoch 131/150 | Finetune | t ∈ [0,1000):   0%|          | 0/79 [00:00<?, ?it/s]"
      ]
     },
     "metadata": {},
     "output_type": "display_data"
    },
    {
     "name": "stdout",
     "output_type": "stream",
     "text": [
      "🔁 Epoch 131 terminé — Moyenne loss : 0.0324\n"
     ]
    },
    {
     "data": {
      "application/vnd.jupyter.widget-view+json": {
       "model_id": "e4a41737da464e8c901bfb5933ef6b83",
       "version_major": 2,
       "version_minor": 0
      },
      "text/plain": [
       "Epoch 132/150 | Finetune | t ∈ [0,1000):   0%|          | 0/79 [00:00<?, ?it/s]"
      ]
     },
     "metadata": {},
     "output_type": "display_data"
    },
    {
     "name": "stdout",
     "output_type": "stream",
     "text": [
      "🔁 Epoch 132 terminé — Moyenne loss : 0.0332\n"
     ]
    },
    {
     "data": {
      "application/vnd.jupyter.widget-view+json": {
       "model_id": "c3f6730bf0ef4cf5806ca55bfcc732b3",
       "version_major": 2,
       "version_minor": 0
      },
      "text/plain": [
       "Epoch 133/150 | Finetune | t ∈ [0,1000):   0%|          | 0/79 [00:00<?, ?it/s]"
      ]
     },
     "metadata": {},
     "output_type": "display_data"
    },
    {
     "name": "stdout",
     "output_type": "stream",
     "text": [
      "🔁 Epoch 133 terminé — Moyenne loss : 0.0329\n"
     ]
    },
    {
     "data": {
      "application/vnd.jupyter.widget-view+json": {
       "model_id": "445a8851b8814affa2570e5fd5df68aa",
       "version_major": 2,
       "version_minor": 0
      },
      "text/plain": [
       "Epoch 134/150 | Finetune | t ∈ [0,1000):   0%|          | 0/79 [00:00<?, ?it/s]"
      ]
     },
     "metadata": {},
     "output_type": "display_data"
    },
    {
     "name": "stdout",
     "output_type": "stream",
     "text": [
      "🔁 Epoch 134 terminé — Moyenne loss : 0.0317\n"
     ]
    },
    {
     "data": {
      "application/vnd.jupyter.widget-view+json": {
       "model_id": "dc0244c9808d4d128090a0c61fe6d6b0",
       "version_major": 2,
       "version_minor": 0
      },
      "text/plain": [
       "Epoch 135/150 | Finetune | t ∈ [0,1000):   0%|          | 0/79 [00:00<?, ?it/s]"
      ]
     },
     "metadata": {},
     "output_type": "display_data"
    },
    {
     "name": "stdout",
     "output_type": "stream",
     "text": [
      "🔁 Epoch 135 terminé — Moyenne loss : 0.0324\n",
      "📸 Sauvegarde modèle + échantillons (epoch 135) dans results\n"
     ]
    },
    {
     "data": {
      "application/vnd.jupyter.widget-view+json": {
       "model_id": "d1d238527b4841efa6dd41a6f776ecbc",
       "version_major": 2,
       "version_minor": 0
      },
      "text/plain": [
       "Epoch 136/150 | Finetune | t ∈ [0,1000):   0%|          | 0/79 [00:00<?, ?it/s]"
      ]
     },
     "metadata": {},
     "output_type": "display_data"
    },
    {
     "name": "stdout",
     "output_type": "stream",
     "text": [
      "🔁 Epoch 136 terminé — Moyenne loss : 0.0305\n"
     ]
    },
    {
     "data": {
      "application/vnd.jupyter.widget-view+json": {
       "model_id": "723196e86e094566a2c28a3d65064dad",
       "version_major": 2,
       "version_minor": 0
      },
      "text/plain": [
       "Epoch 137/150 | Finetune | t ∈ [0,1000):   0%|          | 0/79 [00:00<?, ?it/s]"
      ]
     },
     "metadata": {},
     "output_type": "display_data"
    },
    {
     "name": "stdout",
     "output_type": "stream",
     "text": [
      "🔁 Epoch 137 terminé — Moyenne loss : 0.0330\n"
     ]
    },
    {
     "data": {
      "application/vnd.jupyter.widget-view+json": {
       "model_id": "6f154d8312974c109f54474629c57949",
       "version_major": 2,
       "version_minor": 0
      },
      "text/plain": [
       "Epoch 138/150 | Finetune | t ∈ [0,1000):   0%|          | 0/79 [00:00<?, ?it/s]"
      ]
     },
     "metadata": {},
     "output_type": "display_data"
    },
    {
     "name": "stdout",
     "output_type": "stream",
     "text": [
      "🔁 Epoch 138 terminé — Moyenne loss : 0.0332\n"
     ]
    },
    {
     "data": {
      "application/vnd.jupyter.widget-view+json": {
       "model_id": "bf27f89caddb4866bac594f7bdc54e40",
       "version_major": 2,
       "version_minor": 0
      },
      "text/plain": [
       "Epoch 139/150 | Finetune | t ∈ [0,1000):   0%|          | 0/79 [00:00<?, ?it/s]"
      ]
     },
     "metadata": {},
     "output_type": "display_data"
    },
    {
     "name": "stdout",
     "output_type": "stream",
     "text": [
      "🔁 Epoch 139 terminé — Moyenne loss : 0.0318\n"
     ]
    },
    {
     "data": {
      "application/vnd.jupyter.widget-view+json": {
       "model_id": "def5df78de244ae193ea9163da48b4b6",
       "version_major": 2,
       "version_minor": 0
      },
      "text/plain": [
       "Epoch 140/150 | Finetune | t ∈ [0,1000):   0%|          | 0/79 [00:00<?, ?it/s]"
      ]
     },
     "metadata": {},
     "output_type": "display_data"
    },
    {
     "name": "stdout",
     "output_type": "stream",
     "text": [
      "🔁 Epoch 140 terminé — Moyenne loss : 0.0324\n",
      "📸 Sauvegarde modèle + échantillons (epoch 140) dans results\n"
     ]
    },
    {
     "data": {
      "application/vnd.jupyter.widget-view+json": {
       "model_id": "5138a0b097944959b297faa0f071b7f3",
       "version_major": 2,
       "version_minor": 0
      },
      "text/plain": [
       "Epoch 141/150 | Finetune | t ∈ [0,1000):   0%|          | 0/79 [00:00<?, ?it/s]"
      ]
     },
     "metadata": {},
     "output_type": "display_data"
    },
    {
     "name": "stdout",
     "output_type": "stream",
     "text": [
      "🔁 Epoch 141 terminé — Moyenne loss : 0.0330\n"
     ]
    },
    {
     "data": {
      "application/vnd.jupyter.widget-view+json": {
       "model_id": "fa7d8cb608ca4f2e8c0dde0a76d04fac",
       "version_major": 2,
       "version_minor": 0
      },
      "text/plain": [
       "Epoch 142/150 | Finetune | t ∈ [0,1000):   0%|          | 0/79 [00:00<?, ?it/s]"
      ]
     },
     "metadata": {},
     "output_type": "display_data"
    },
    {
     "name": "stdout",
     "output_type": "stream",
     "text": [
      "🔁 Epoch 142 terminé — Moyenne loss : 0.0330\n"
     ]
    },
    {
     "data": {
      "application/vnd.jupyter.widget-view+json": {
       "model_id": "418df6b3cf024b8f84709ae33a6d7a89",
       "version_major": 2,
       "version_minor": 0
      },
      "text/plain": [
       "Epoch 143/150 | Finetune | t ∈ [0,1000):   0%|          | 0/79 [00:00<?, ?it/s]"
      ]
     },
     "metadata": {},
     "output_type": "display_data"
    },
    {
     "name": "stdout",
     "output_type": "stream",
     "text": [
      "🔁 Epoch 143 terminé — Moyenne loss : 0.0322\n"
     ]
    },
    {
     "data": {
      "application/vnd.jupyter.widget-view+json": {
       "model_id": "86b3dcda6ae942e4b6fb36dd404b9f41",
       "version_major": 2,
       "version_minor": 0
      },
      "text/plain": [
       "Epoch 144/150 | Finetune | t ∈ [0,1000):   0%|          | 0/79 [00:00<?, ?it/s]"
      ]
     },
     "metadata": {},
     "output_type": "display_data"
    },
    {
     "name": "stdout",
     "output_type": "stream",
     "text": [
      "🔁 Epoch 144 terminé — Moyenne loss : 0.0321\n"
     ]
    },
    {
     "data": {
      "application/vnd.jupyter.widget-view+json": {
       "model_id": "22e3abd96e564f52a867dd298b8aa91f",
       "version_major": 2,
       "version_minor": 0
      },
      "text/plain": [
       "Epoch 145/150 | Finetune | t ∈ [0,1000):   0%|          | 0/79 [00:00<?, ?it/s]"
      ]
     },
     "metadata": {},
     "output_type": "display_data"
    },
    {
     "name": "stdout",
     "output_type": "stream",
     "text": [
      "🔁 Epoch 145 terminé — Moyenne loss : 0.0330\n",
      "📸 Sauvegarde modèle + échantillons (epoch 145) dans results\n"
     ]
    },
    {
     "data": {
      "application/vnd.jupyter.widget-view+json": {
       "model_id": "0b0988890e8d4c2087ad2865ca4f808f",
       "version_major": 2,
       "version_minor": 0
      },
      "text/plain": [
       "Epoch 146/150 | Finetune | t ∈ [0,1000):   0%|          | 0/79 [00:00<?, ?it/s]"
      ]
     },
     "metadata": {},
     "output_type": "display_data"
    },
    {
     "name": "stdout",
     "output_type": "stream",
     "text": [
      "🔁 Epoch 146 terminé — Moyenne loss : 0.0318\n"
     ]
    },
    {
     "data": {
      "application/vnd.jupyter.widget-view+json": {
       "model_id": "1c43cbd3af4d4f2999d93c7476713d36",
       "version_major": 2,
       "version_minor": 0
      },
      "text/plain": [
       "Epoch 147/150 | Finetune | t ∈ [0,1000):   0%|          | 0/79 [00:00<?, ?it/s]"
      ]
     },
     "metadata": {},
     "output_type": "display_data"
    },
    {
     "name": "stdout",
     "output_type": "stream",
     "text": [
      "🔁 Epoch 147 terminé — Moyenne loss : 0.0334\n"
     ]
    },
    {
     "data": {
      "application/vnd.jupyter.widget-view+json": {
       "model_id": "89bbc2d6332240bdbf2a11d661a76052",
       "version_major": 2,
       "version_minor": 0
      },
      "text/plain": [
       "Epoch 148/150 | Finetune | t ∈ [0,1000):   0%|          | 0/79 [00:00<?, ?it/s]"
      ]
     },
     "metadata": {},
     "output_type": "display_data"
    },
    {
     "name": "stdout",
     "output_type": "stream",
     "text": [
      "🔁 Epoch 148 terminé — Moyenne loss : 0.0329\n"
     ]
    },
    {
     "data": {
      "application/vnd.jupyter.widget-view+json": {
       "model_id": "ef8a1a0eba234c4aabd77e16690c6f72",
       "version_major": 2,
       "version_minor": 0
      },
      "text/plain": [
       "Epoch 149/150 | Finetune | t ∈ [0,1000):   0%|          | 0/79 [00:00<?, ?it/s]"
      ]
     },
     "metadata": {},
     "output_type": "display_data"
    },
    {
     "name": "stdout",
     "output_type": "stream",
     "text": [
      "🔁 Epoch 149 terminé — Moyenne loss : 0.0309\n"
     ]
    },
    {
     "data": {
      "application/vnd.jupyter.widget-view+json": {
       "model_id": "3c830b7eb48e475bbc4a3b583e84fe38",
       "version_major": 2,
       "version_minor": 0
      },
      "text/plain": [
       "Epoch 150/150 | Finetune | t ∈ [0,1000):   0%|          | 0/79 [00:00<?, ?it/s]"
      ]
     },
     "metadata": {},
     "output_type": "display_data"
    },
    {
     "name": "stdout",
     "output_type": "stream",
     "text": [
      "🔁 Epoch 150 terminé — Moyenne loss : 0.0326\n",
      "📸 Sauvegarde modèle + échantillons (epoch 150) dans results\n"
     ]
    }
   ],
   "source": [
    "start_epoch = 111\n",
    "epochs = 150  # ou plus si tu veux pousser encore un peu\n",
    "timestep_final = 1000\n",
    "current_max_sample_t = 1000  #  éviter t=999 qui est trop bruité\n",
    "lr_finetune = lr * 0.5 \n",
    "\n",
    "\n",
    "# Charger le modèle\n",
    "model = UNetConditional(in_channels=3, base_channels=64, time_emb_dim=256, class_emb_dim=128, num_classes=num_classes).to(device)\n",
    "model.load_state_dict(torch.load(\"model_epoch_110.pt\", map_location=device))\n",
    "print(\"Modèle rechargé depuis model_epoch_110.pt\")\n",
    "\n",
    "# Remettre la diffusion avec T=1000\n",
    "diffusion = GaussianDiffusion(model, timesteps=timestep_final, device=device)\n",
    "\n",
    "# Nouvel optimiseur avec learning rate réduit\n",
    "optimizer = torch.optim.Adam(model.parameters(), lr=lr_finetune)\n",
    "\n",
    "# Boucle d'entraînement stable\n",
    "for epoch in range(start_epoch, epochs + 1):\n",
    "    model.train()\n",
    "    epoch_losses = []\n",
    "\n",
    "    loop = tqdm(dataloader, desc=f\"Epoch {epoch}/{epochs} | Finetune | t ∈ [0,{current_max_sample_t})\")\n",
    "    for x, y in loop:\n",
    "        x, y = x.to(device), y.to(device)\n",
    "        t = torch.randint(0, current_max_sample_t, (x.size(0),), device=device).long()\n",
    "        noise = torch.randn_like(x)\n",
    "        x_t = diffusion.q_sample(x, t, noise)\n",
    "\n",
    "        noise_pred = model(x_t, t, y)\n",
    "        loss = F.mse_loss(noise_pred, noise)\n",
    "\n",
    "        optimizer.zero_grad()\n",
    "        loss.backward()\n",
    "        torch.nn.utils.clip_grad_norm_(model.parameters(), max_norm=1.0)\n",
    "        optimizer.step()\n",
    "\n",
    "        loop.set_postfix(loss=loss.item())\n",
    "        epoch_losses.append(loss.item())\n",
    "        losses.append(loss.item())\n",
    "\n",
    "    avg_loss = sum(epoch_losses) / len(epoch_losses)\n",
    "    print(f\"🔁 Epoch {epoch} terminé — Moyenne loss : {avg_loss:.4f}\")\n",
    "\n",
    "    # 📸 Sauvegarde\n",
    "    if epoch % 5 == 0:\n",
    "        model.eval()\n",
    "        with torch.no_grad():\n",
    "            y_sample = torch.tensor([0] * 16, device=device)\n",
    "            samples = diffusion.sample(batch_size=16, image_size=image_size, y=y_sample)\n",
    "            save_sample_grid(samples, os.path.join(save_dir, f\"sample_epoch_{epoch}.png\"), nrow=4)\n",
    "            torch.save(model.state_dict(), os.path.join(save_dir, f\"model_epoch_{epoch}.pt\"))\n",
    "            print(f\"📸 Sauvegarde modèle + échantillons (epoch {epoch}) dans {save_dir}\")\n"
   ]
  },
  {
   "cell_type": "code",
   "execution_count": 9,
   "metadata": {},
   "outputs": [
    {
     "name": "stderr",
     "output_type": "stream",
     "text": [
      "C:\\Users\\mbell\\AppData\\Local\\Temp\\ipykernel_50124\\690006229.py:27: UserWarning: Glyph 128201 (\\N{CHART WITH DOWNWARDS TREND}) missing from font(s) DejaVu Sans.\n",
      "  plt.tight_layout()\n",
      "C:\\Users\\mbell\\AppData\\Local\\Packages\\PythonSoftwareFoundation.Python.3.11_qbz5n2kfra8p0\\LocalCache\\local-packages\\Python311\\site-packages\\IPython\\core\\pylabtools.py:170: UserWarning: Glyph 128201 (\\N{CHART WITH DOWNWARDS TREND}) missing from font(s) DejaVu Sans.\n",
      "  fig.canvas.print_figure(bytes_io, **kw)\n"
     ]
    },
    {
     "data": {
      "image/png": "[encoded data removed]",
      "text/plain": [
       "<Figure size 1400x600 with 1 Axes>"
      ]
     },
     "metadata": {},
     "output_type": "display_data"
    }
   ],
   "source": [
    "#courbe de loss en logarithmique\n",
    "import matplotlib.pyplot as plt\n",
    "import numpy as np\n",
    "\n",
    "plt.figure(figsize=(14, 6))\n",
    "\n",
    "# Paramètres\n",
    "window = 50  # Moyenne glissante\n",
    "iterations_per_epoch = len(dataloader)  # nombre d'itérations pour 1 epoch\n",
    "\n",
    "# Moyenne glissante\n",
    "smoothed = np.convolve(losses, np.ones(window)/window, mode='valid')\n",
    "\n",
    "# Courbes\n",
    "plt.plot(losses, alpha=0.3, label=\"Loss brute\")\n",
    "\n",
    "plt.plot(range(window - 1, len(losses)), smoothed, color='blue', label=f\"Loss moy. glissante (n={window})\")\n",
    "\n",
    "# Échelle log pour la lisibilité\n",
    "plt.yscale(\"log\")\n",
    "# Légendes & axes\n",
    "plt.xlabel(\"Itérations\")\n",
    "plt.ylabel(\"Loss MSE (log scale)\")\n",
    "plt.title(\"📉 Courbe de la Loss MSE pendant l'entraînement\")\n",
    "plt.legend()\n",
    "plt.grid(True, which=\"both\", ls=\"--\", lw=0.5)\n",
    "plt.tight_layout()\n",
    "plt.show()\n",
    "\n"
   ]
  }
 ],
 "metadata": {
  "kernelspec": {
   "display_name": "Python 3",
   "language": "python",
   "name": "python3"
  },
  "language_info": {
   "codemirror_mode": {
    "name": "ipython",
    "version": 3
   },
   "file_extension": ".py",
   "mimetype": "text/x-python",
   "name": "python",
   "nbconvert_exporter": "python",
   "pygments_lexer": "ipython3",
   "version": "3.11.9"
  }
 },
 "nbformat": 4,
 "nbformat_minor": 2
}
